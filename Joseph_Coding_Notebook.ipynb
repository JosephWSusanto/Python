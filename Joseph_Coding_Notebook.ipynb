{
  "nbformat": 4,
  "nbformat_minor": 0,
  "metadata": {
    "colab": {
      "provenance": [],
      "include_colab_link": true
    },
    "kernelspec": {
      "name": "python3",
      "display_name": "Python 3"
    }
  },
  "cells": [
    {
      "cell_type": "markdown",
      "metadata": {
        "id": "view-in-github",
        "colab_type": "text"
      },
      "source": [
        "<a href=\"https://colab.research.google.com/github/joeycodinglesson/Python/blob/main/Joseph_Coding_Notebook.ipynb\" target=\"_parent\"><img src=\"https://colab.research.google.com/assets/colab-badge.svg\" alt=\"Open In Colab\"/></a>"
      ]
    },
    {
      "cell_type": "markdown",
      "metadata": {
        "id": "2xEqeCD5yr44"
      },
      "source": [
        "# Day 1 TERM 1\n"
      ]
    },
    {
      "cell_type": "code",
      "metadata": {
        "colab": {
          "base_uri": "https://localhost:8080/"
        },
        "id": "PP5wOmMpaThZ",
        "outputId": "115e2328-9414-4126-bca5-94989a059f4f"
      },
      "source": [
        "n1 = input(\"First Number:\")\n",
        "n2 = input(\"Second Number:\")\n",
        "\n",
        "result = int(n1) * int(n2)\n",
        "\n",
        "print(\"Result =\", result)\n"
      ],
      "execution_count": null,
      "outputs": [
        {
          "output_type": "stream",
          "text": [
            "First Number:1\n",
            "Second Number:2\n",
            "Result = 2\n"
          ],
          "name": "stdout"
        }
      ]
    },
    {
      "cell_type": "code",
      "metadata": {
        "colab": {
          "base_uri": "https://localhost:8080/"
        },
        "id": "LXvq4disfouN",
        "outputId": "06c4dd10-6e4d-490f-8659-6e06793ea5be"
      },
      "source": [
        "length = float(input(\"length:\"))\n",
        "width = float(input(\"width:\"))\n",
        "height = float(input(\"height:\"))\n",
        "\n",
        "volume = length * width * height\n",
        "\n",
        "print(\"volume =\", volume)"
      ],
      "execution_count": null,
      "outputs": [
        {
          "output_type": "stream",
          "text": [
            "length:3\n",
            "width:4\n",
            "height:5\n",
            "volume = 60.0\n"
          ],
          "name": "stdout"
        }
      ]
    },
    {
      "cell_type": "code",
      "metadata": {
        "colab": {
          "base_uri": "https://localhost:8080/"
        },
        "id": "xPzE7xmZizrZ",
        "outputId": "3bb056b0-b418-4076-f63e-994f2018db04"
      },
      "source": [
        "Balls = 10\n",
        "Children = 2\n",
        "\n",
        "result = Balls // Children\n",
        "remainder = Balls % result\n",
        "\n",
        "print(\"Every child will receive =\", result, \"balls\")\n",
        "print(\"There will be a remainder of =\", remainder, \"balls\")"
      ],
      "execution_count": null,
      "outputs": [
        {
          "output_type": "stream",
          "text": [
            "Every child will receive = 5 balls\n",
            "There will be a remainder of = 0 balls\n"
          ],
          "name": "stdout"
        }
      ]
    },
    {
      "cell_type": "code",
      "metadata": {
        "colab": {
          "base_uri": "https://localhost:8080/"
        },
        "id": "l8m8uHNzk5ZW",
        "outputId": "4c9a5fbc-84b9-49a8-819f-9dadbce64e91"
      },
      "source": [
        "price = 2300\n",
        "payment = 5000\n",
        "\n",
        "change = payment - price\n",
        "donation = change % 1000\n",
        "takeawaymoney = change - donation\n",
        "\n",
        "print(\"There will be a change of =\", change)\n",
        "print(\"There will be a donation of =\", donation)\n",
        "print(\"The takeaway money will be =\", takeawaymoney)"
      ],
      "execution_count": null,
      "outputs": [
        {
          "output_type": "stream",
          "text": [
            "There will be a change of = 2700\n",
            "There will be a donation of = 700\n",
            "The takeaway money will be = 2000\n"
          ],
          "name": "stdout"
        }
      ]
    },
    {
      "cell_type": "code",
      "metadata": {
        "colab": {
          "base_uri": "https://localhost:8080/"
        },
        "id": "cqBCNIr1olq2",
        "outputId": "7572551c-bbca-4b0b-999d-5631ff0b62b5"
      },
      "source": [
        "totalsteps = 10000\n",
        "\n",
        "inm = totalsteps / 2\n",
        "inkm = inm / 1000\n",
        "\n",
        "print (int(inm))\n",
        "print(\"You walked a total of =\", inkm, \"km\")"
      ],
      "execution_count": null,
      "outputs": [
        {
          "output_type": "stream",
          "text": [
            "5000\n",
            "You walked a total of = 5.0 km\n"
          ],
          "name": "stdout"
        }
      ]
    },
    {
      "cell_type": "code",
      "metadata": {
        "colab": {
          "base_uri": "https://localhost:8080/"
        },
        "id": "DXYwO1W5qg_f",
        "outputId": "e5e574d9-9073-4c73-ae56-9bfa5aee6f3c"
      },
      "source": [
        "totalsteps = 100000\n",
        "\n",
        "inm = totalsteps / 2\n",
        "inkm = inm // 1000\n",
        "inmeter = inm % 1000\n",
        "\n",
        "print(\"You walked a total of =\", int(inkm), (\"km\"))\n",
        "print(\"and =\",int(inmeter), (\"m\"))"
      ],
      "execution_count": null,
      "outputs": [
        {
          "output_type": "stream",
          "text": [
            "You walked a total of = 50 km\n",
            "and = 0 m\n"
          ],
          "name": "stdout"
        }
      ]
    },
    {
      "cell_type": "markdown",
      "metadata": {
        "id": "TrwS44miy4uP"
      },
      "source": [
        "# Day 2\n"
      ]
    },
    {
      "cell_type": "code",
      "metadata": {
        "id": "w-MGn-6CZ5Jh",
        "colab": {
          "base_uri": "https://localhost:8080/"
        },
        "outputId": "6fa1109a-ae46-4ddc-ba58-2220ed501b7d"
      },
      "source": [
        "change = float(input(\"Change($): \")) \n",
        "cents = int(change*100) \n",
        "\n",
        "denom = 50 \n",
        "qty = cents // denom\n",
        "if ( qty > 0):\n",
        "  print(\">> \",qty, \"coins of\", denom, \"cents\")\n",
        "cents = cents % denom\n",
        "\n",
        "denom = 20\n",
        "qty = cents // denom\n",
        "if ( qty > 0):\n",
        "  print(\">> \",qty, \"coins of\", denom, \"cents\")\n",
        "cents = cents % denom\n",
        "\n",
        "denom = 10\n",
        "qty = cents // denom\n",
        "if ( qty > 0):\n",
        "  print(\">> \",qty, \"coins of\", denom, \"cents\")\n",
        "cents = cents % denom\n",
        "\n",
        "denom = 5 \n",
        "qty = cents // denom\n",
        "if ( qty > 0):\n",
        "  print(\">> \",qty, \"coins of\", denom, \"cents\")\n",
        "cents = cents % denom\n",
        " \n",
        "if ( qty > 0):\n",
        "  print(\">> \",qty, \"coins of\", denom, \"cents\")\n",
        "\n"
      ],
      "execution_count": null,
      "outputs": [
        {
          "output_type": "stream",
          "text": [
            "Change:0.5\n",
            ">>  1 coins of 50 cents\n"
          ],
          "name": "stdout"
        }
      ]
    },
    {
      "cell_type": "code",
      "metadata": {
        "colab": {
          "base_uri": "https://localhost:8080/"
        },
        "id": "LTWJsNVdiJyf",
        "outputId": "9fbae9d5-b891-47b2-ea6b-4556deb7611d"
      },
      "source": [
        "num = 1000\n",
        "\n",
        "s = num // 1000\n",
        "print(\"thousand:\", s)\n",
        "\n",
        "h = num % 1000 // 100\n",
        "print(\"hundred:\", h)\n",
        "\n",
        "t = num % 100 // 10\n",
        "print(\"tens:\", t)\n",
        "\n",
        "o = num % 10 \n",
        "print(\"ones:\", o)\n"
      ],
      "execution_count": null,
      "outputs": [
        {
          "output_type": "stream",
          "text": [
            "thousand: 1\n",
            "hundred: 0\n",
            "tens: 0\n",
            "ones: 0\n"
          ],
          "name": "stdout"
        }
      ]
    },
    {
      "cell_type": "markdown",
      "metadata": {
        "id": "mm9V3ia40fgW"
      },
      "source": []
    },
    {
      "cell_type": "markdown",
      "metadata": {
        "id": "f4qdLSEw0fdw"
      },
      "source": []
    },
    {
      "cell_type": "markdown",
      "metadata": {
        "id": "6rLKsDGpzeQ2"
      },
      "source": [
        "# Day 3\n"
      ]
    },
    {
      "cell_type": "code",
      "metadata": {
        "colab": {
          "base_uri": "https://localhost:8080/"
        },
        "id": "cJWuMg56ziCw",
        "outputId": "a994d1af-01cc-4ad7-8f7a-adaa18d11754"
      },
      "source": [
        "\n",
        "score = 90\n",
        "if (score >= 60):\n",
        "  print (\"passed\")\n",
        "else: \n",
        "  print (\"failed\")\n"
      ],
      "execution_count": null,
      "outputs": [
        {
          "output_type": "stream",
          "text": [
            "passed\n"
          ],
          "name": "stdout"
        }
      ]
    },
    {
      "cell_type": "code",
      "metadata": {
        "colab": {
          "base_uri": "https://localhost:8080/"
        },
        "id": "R5YsMCEp1DNe",
        "outputId": "d6bbe040-4335-4e1f-ba10-dc67a99f3edd"
      },
      "source": [
        "score = 60\n",
        "if ( score >= 80 ):\n",
        "  print (\"grade A\")\n",
        "elif ( score >= 60 ):\n",
        "  print (\"grade B\")\n",
        "elif ( score >= 40 ):\n",
        "  print (\"grade C\")\n",
        "elif ( score >= 20 ):\n",
        "  print (\"grade D\")\n",
        "else:\n",
        "  print (\"grade E\")"
      ],
      "execution_count": null,
      "outputs": [
        {
          "output_type": "stream",
          "text": [
            "grade B\n"
          ],
          "name": "stdout"
        }
      ]
    },
    {
      "cell_type": "code",
      "metadata": {
        "colab": {
          "base_uri": "https://localhost:8080/"
        },
        "id": "2TcXbfd_18Lq",
        "outputId": "e4dd8b29-3383-46a1-a0a0-12eccccd5b70"
      },
      "source": [
        "number = int(input(\"input a number:\"))\n",
        "if (number > 0):\n",
        "  print (\"positive\")\n",
        "elif (number < 0):\n",
        "   print (\"negative\")\n",
        "else:\n",
        "  print (\"zero\")"
      ],
      "execution_count": null,
      "outputs": [
        {
          "output_type": "stream",
          "text": [
            "input a number:100\n",
            "positive\n"
          ],
          "name": "stdout"
        }
      ]
    },
    {
      "cell_type": "code",
      "metadata": {
        "colab": {
          "base_uri": "https://localhost:8080/"
        },
        "id": "DhQAEOXl287C",
        "outputId": "25259051-e34c-41e8-81bb-cdda1e94737e"
      },
      "source": [
        "number = int(input(\"input a number:\"))\n",
        "num = number%2\n",
        "if (num == 0):\n",
        "  print (\"even\")\n",
        "elif (num == 1):\n",
        "  print (\"odd\")\n",
        "else:\n",
        "  print (\"zero\")"
      ],
      "execution_count": null,
      "outputs": [
        {
          "output_type": "stream",
          "text": [
            "input a number:2\n",
            "even\n"
          ],
          "name": "stdout"
        }
      ]
    },
    {
      "cell_type": "code",
      "metadata": {
        "colab": {
          "base_uri": "https://localhost:8080/"
        },
        "id": "30Tr2J734joE",
        "outputId": "879aff21-b3c0-4beb-f581-2837625c38f6"
      },
      "source": [
        "a = int(input(\"input number a:\"))\n",
        "b = int(input(\"input number b:\"))\n",
        "c = int(input(\"input number c:\"))\n",
        "\n",
        "if (a > b and a > c):\n",
        "  print(\"the biggest =\", a)\n",
        "elif ( b > a and b > c ):\n",
        "  print(\"the biggest =\", b) \n",
        "elif ( c > b and c > a ):\n",
        "  print(\"the biggest =\", c)\n",
        "else:\n",
        "  print(\"there is no biggest number\")"
      ],
      "execution_count": null,
      "outputs": [
        {
          "output_type": "stream",
          "text": [
            "input number a:3\n",
            "input number b:4\n",
            "input number c:10\n",
            "the biggest = 10\n"
          ],
          "name": "stdout"
        }
      ]
    },
    {
      "cell_type": "code",
      "metadata": {
        "colab": {
          "base_uri": "https://localhost:8080/"
        },
        "id": "CsH41XTb8A5u",
        "outputId": "6721915b-833b-4d13-fd39-e16ca7170511"
      },
      "source": [
        "line1 = 1\n",
        "line2 = 2\n",
        "line3 = 3\n",
        "if (line1 + line2 > line3 and line1 + line3 > line2 and line2 + line3 > line1):\n",
        "  print(\"can\")\n",
        "\n",
        "else: \n",
        "  print(\"can't\")"
      ],
      "execution_count": null,
      "outputs": [
        {
          "output_type": "stream",
          "text": [
            "can't\n"
          ],
          "name": "stdout"
        }
      ]
    },
    {
      "cell_type": "code",
      "metadata": {
        "colab": {
          "base_uri": "https://localhost:8080/"
        },
        "id": "Q19VvVwN9X3q",
        "outputId": "b2f97a69-567a-4597-a67f-1f39eb9c6973"
      },
      "source": [
        "name = input(\"name:\")\n",
        "gender = input(\"gender(male/female):\")\n",
        "status = input(\"status(married/single):\")\n",
        "if (gender == \"male\"):\n",
        "  print(\"Hello Mr.\", name)\n",
        "elif (gender == \"female\" and status == \"married\"):\n",
        "  print(\"Hello Mrs.\", name)\n",
        "elif (gender == \"female\" and status == \"single\"):\n",
        "  print(\"Hello Ms.\", name)\n",
        "\n"
      ],
      "execution_count": null,
      "outputs": [
        {
          "output_type": "stream",
          "text": [
            "name:john\n",
            "gender(male/female):male\n",
            "status(married/single):single\n",
            "Hello Mr. john\n"
          ],
          "name": "stdout"
        }
      ]
    },
    {
      "cell_type": "code",
      "metadata": {
        "colab": {
          "base_uri": "https://localhost:8080/"
        },
        "id": "9cisx1wCBEnw",
        "outputId": "92958463-1ba3-4d6c-e6a7-2bba2fa3d76a"
      },
      "source": [
        "a = int(input(\"input number a:\"))\n",
        "b = int(input(\"input number b:\"))\n",
        "c = int(input(\"input number c:\"))\n",
        "\n",
        "if (a > b):\n",
        "  a,b = b,a\n",
        "if (a > c):\n",
        "  a,c = c,a\n",
        "if (b > c):\n",
        "  b,c = c,b\n",
        "\n",
        "print(a,b,c)"
      ],
      "execution_count": null,
      "outputs": [
        {
          "output_type": "stream",
          "text": [
            "input number a:5\n",
            "input number b:3\n",
            "input number c:1\n",
            "1 3 5\n"
          ],
          "name": "stdout"
        }
      ]
    },
    {
      "cell_type": "markdown",
      "metadata": {
        "id": "XU7j8HncVDd-"
      },
      "source": [
        "# Day 4\n"
      ]
    },
    {
      "cell_type": "markdown",
      "metadata": {
        "id": "ic06fSS4BTjp"
      },
      "source": []
    },
    {
      "cell_type": "code",
      "metadata": {
        "colab": {
          "base_uri": "https://localhost:8080/"
        },
        "id": "_i4ai5gCVHYK",
        "outputId": "828d7838-be82-41e8-e38d-949f7ff9021e"
      },
      "source": [
        "i = 0\n",
        "while ( i < 3 ):\n",
        "   print ( \" run \",end = \" - \")\n",
        "   i = i + 1\n",
        "   print (i, \"x\")\n",
        "print (\"Done\")"
      ],
      "execution_count": null,
      "outputs": [
        {
          "output_type": "stream",
          "text": [
            " run  - 1 x\n",
            " run  - 2 x\n",
            " run  - 3 x\n",
            "Done\n"
          ],
          "name": "stdout"
        }
      ]
    },
    {
      "cell_type": "code",
      "metadata": {
        "colab": {
          "base_uri": "https://localhost:8080/"
        },
        "id": "uyto20uBWOzV",
        "outputId": "090ef3d8-1ac9-4c34-a1ab-c5f95a400f1d"
      },
      "source": [
        "i = 1\n",
        "while (i <= 10):\n",
        "   print (i,end = \"  \")\n",
        "   i = i + 1\n"
      ],
      "execution_count": null,
      "outputs": [
        {
          "output_type": "stream",
          "text": [
            "1  2  3  4  5  6  7  8  9  10  \n"
          ],
          "name": "stdout"
        }
      ]
    },
    {
      "cell_type": "code",
      "metadata": {
        "colab": {
          "base_uri": "https://localhost:8080/"
        },
        "id": "XuHLPp9qXM6U",
        "outputId": "be292801-9f25-4ed3-e783-3a841106295a"
      },
      "source": [
        "i = 1\n",
        "while (i <= 9):\n",
        "    print (i, end = \" \")\n",
        "    i = i + 2"
      ],
      "execution_count": null,
      "outputs": [
        {
          "output_type": "stream",
          "text": [
            "1 3 5 7 9 "
          ],
          "name": "stdout"
        }
      ]
    },
    {
      "cell_type": "code",
      "metadata": {
        "colab": {
          "base_uri": "https://localhost:8080/"
        },
        "id": "zmHz8uk9XZu-",
        "outputId": "1ace9a27-735c-4486-d59e-a9ded9fc2377"
      },
      "source": [
        "i = 2\n",
        "while (i <= 10):\n",
        "    print (i, end = \" \")\n",
        "    i = i + 2"
      ],
      "execution_count": null,
      "outputs": [
        {
          "output_type": "stream",
          "text": [
            "2 4 6 8 10 "
          ],
          "name": "stdout"
        }
      ]
    },
    {
      "cell_type": "code",
      "metadata": {
        "colab": {
          "base_uri": "https://localhost:8080/"
        },
        "id": "GjwE_WNIXgrz",
        "outputId": "d4403cb0-7414-4811-84f6-305188ffac0b"
      },
      "source": [
        "i = 0\n",
        "while (i <= 25):\n",
        "    print (i, end = \" \")\n",
        "    i = i + 5"
      ],
      "execution_count": null,
      "outputs": [
        {
          "output_type": "stream",
          "text": [
            "0 5 10 15 20 25 "
          ],
          "name": "stdout"
        }
      ]
    },
    {
      "cell_type": "code",
      "metadata": {
        "colab": {
          "base_uri": "https://localhost:8080/"
        },
        "id": "3pztIS0iXvBP",
        "outputId": "304e946d-3805-4791-94f4-96735b9c1de6"
      },
      "source": [
        "i = 1\n",
        "while (i <= 5):\n",
        "    print (i * i, end = \" \")\n",
        "    i = i + 1"
      ],
      "execution_count": null,
      "outputs": [
        {
          "output_type": "stream",
          "text": [
            "1 4 9 16 25 "
          ],
          "name": "stdout"
        }
      ]
    },
    {
      "cell_type": "code",
      "metadata": {
        "colab": {
          "base_uri": "https://localhost:8080/"
        },
        "id": "D-Fkwk9mYg75",
        "outputId": "0608f2f5-fc41-4035-b6fa-c7e68b24b0ce"
      },
      "source": [
        "i = 1\n",
        "while (i <= 32):\n",
        "    print (i, end = \" \")\n",
        "    i = (i * 2) "
      ],
      "execution_count": null,
      "outputs": [
        {
          "output_type": "stream",
          "text": [
            "1 2 4 8 16 32 "
          ],
          "name": "stdout"
        }
      ]
    },
    {
      "cell_type": "code",
      "metadata": {
        "colab": {
          "base_uri": "https://localhost:8080/"
        },
        "id": "cZbJrs5pY6Kt",
        "outputId": "a8444c50-ee99-4151-aed4-729394034e22"
      },
      "source": [
        "i = 10\n",
        "while (i >= 1):\n",
        "    print (i, end = \" \")\n",
        "    i = i - 1\n",
        "print ()\n",
        "print (\"HAPPY NEW YEAR 2021\")"
      ],
      "execution_count": null,
      "outputs": [
        {
          "output_type": "stream",
          "text": [
            "10 9 8 7 6 5 4 3 2 1 \n",
            "HAPPY NEW YEAR 2021\n"
          ],
          "name": "stdout"
        }
      ]
    },
    {
      "cell_type": "code",
      "metadata": {
        "colab": {
          "base_uri": "https://localhost:8080/"
        },
        "id": "UHTTrOVZZXXw",
        "outputId": "f4bc88a2-069b-469c-8e61-d6562aa03e36"
      },
      "source": [
        "total = 0\n",
        "n = 10\n",
        "i = 1\n",
        "while (i < 10):\n",
        "    print (i, end = \" + \")\n",
        "    total = total + i\n",
        "    i = i + 1    \n",
        "print (n, \"=\", total + i)"
      ],
      "execution_count": null,
      "outputs": [
        {
          "output_type": "stream",
          "text": [
            "1 + 2 + 3 + 4 + 5 + 6 + 7 + 8 + 9 + 10 = 55\n"
          ],
          "name": "stdout"
        }
      ]
    },
    {
      "cell_type": "code",
      "metadata": {
        "colab": {
          "base_uri": "https://localhost:8080/"
        },
        "id": "1wXNwq4ccIqo",
        "outputId": "e56a2735-2b42-44d5-9f43-294e3447a304"
      },
      "source": [
        "result = 1\n",
        "n = 5\n",
        "i = 1\n",
        "while (i < n):\n",
        "    print (i, end = \" x \")\n",
        "    result = result * i\n",
        "    i = i + 1    \n",
        "print (n, \"=\", result * i)"
      ],
      "execution_count": null,
      "outputs": [
        {
          "output_type": "stream",
          "text": [
            "1 x 2 x 3 x 4 x 5 = 120\n"
          ],
          "name": "stdout"
        }
      ]
    },
    {
      "cell_type": "code",
      "metadata": {
        "colab": {
          "base_uri": "https://localhost:8080/"
        },
        "id": "fOfi1ymbj-yt",
        "outputId": "bcb373c7-19e1-49e7-8f1c-91585185fbd9"
      },
      "source": [
        "n = 64\n",
        "i = 0\n",
        "total = 0\n",
        "while (i<n-1):\n",
        "  x = 2**i \n",
        "  print(\"grid #\", format(i+1, \"2d\"), \":\", format(x, \"25,d\"), \"+\")\n",
        "  total = total + x\n",
        "  i = i + 1\n",
        "print(\"grid #\", format(i+1, \"2d\"), \":\", format(2**i, \"25,d\"), \"=\")\n",
        "y = total + 2**i\n",
        "print(\"total   :\",format((y/1E18),'8,f'), \"quintillion\")"
      ],
      "execution_count": null,
      "outputs": [
        {
          "output_type": "stream",
          "text": [
            "grid #  1 :                         1 +\n",
            "grid #  2 :                         2 +\n",
            "grid #  3 :                         4 +\n",
            "grid #  4 :                         8 +\n",
            "grid #  5 :                        16 +\n",
            "grid #  6 :                        32 +\n",
            "grid #  7 :                        64 +\n",
            "grid #  8 :                       128 +\n",
            "grid #  9 :                       256 +\n",
            "grid # 10 :                       512 +\n",
            "grid # 11 :                     1,024 +\n",
            "grid # 12 :                     2,048 +\n",
            "grid # 13 :                     4,096 +\n",
            "grid # 14 :                     8,192 +\n",
            "grid # 15 :                    16,384 +\n",
            "grid # 16 :                    32,768 +\n",
            "grid # 17 :                    65,536 +\n",
            "grid # 18 :                   131,072 +\n",
            "grid # 19 :                   262,144 +\n",
            "grid # 20 :                   524,288 +\n",
            "grid # 21 :                 1,048,576 +\n",
            "grid # 22 :                 2,097,152 +\n",
            "grid # 23 :                 4,194,304 +\n",
            "grid # 24 :                 8,388,608 +\n",
            "grid # 25 :                16,777,216 +\n",
            "grid # 26 :                33,554,432 +\n",
            "grid # 27 :                67,108,864 +\n",
            "grid # 28 :               134,217,728 +\n",
            "grid # 29 :               268,435,456 +\n",
            "grid # 30 :               536,870,912 +\n",
            "grid # 31 :             1,073,741,824 +\n",
            "grid # 32 :             2,147,483,648 +\n",
            "grid # 33 :             4,294,967,296 +\n",
            "grid # 34 :             8,589,934,592 +\n",
            "grid # 35 :            17,179,869,184 +\n",
            "grid # 36 :            34,359,738,368 +\n",
            "grid # 37 :            68,719,476,736 +\n",
            "grid # 38 :           137,438,953,472 +\n",
            "grid # 39 :           274,877,906,944 +\n",
            "grid # 40 :           549,755,813,888 +\n",
            "grid # 41 :         1,099,511,627,776 +\n",
            "grid # 42 :         2,199,023,255,552 +\n",
            "grid # 43 :         4,398,046,511,104 +\n",
            "grid # 44 :         8,796,093,022,208 +\n",
            "grid # 45 :        17,592,186,044,416 +\n",
            "grid # 46 :        35,184,372,088,832 +\n",
            "grid # 47 :        70,368,744,177,664 +\n",
            "grid # 48 :       140,737,488,355,328 +\n",
            "grid # 49 :       281,474,976,710,656 +\n",
            "grid # 50 :       562,949,953,421,312 +\n",
            "grid # 51 :     1,125,899,906,842,624 +\n",
            "grid # 52 :     2,251,799,813,685,248 +\n",
            "grid # 53 :     4,503,599,627,370,496 +\n",
            "grid # 54 :     9,007,199,254,740,992 +\n",
            "grid # 55 :    18,014,398,509,481,984 +\n",
            "grid # 56 :    36,028,797,018,963,968 +\n",
            "grid # 57 :    72,057,594,037,927,936 +\n",
            "grid # 58 :   144,115,188,075,855,872 +\n",
            "grid # 59 :   288,230,376,151,711,744 +\n",
            "grid # 60 :   576,460,752,303,423,488 +\n",
            "grid # 61 : 1,152,921,504,606,846,976 +\n",
            "grid # 62 : 2,305,843,009,213,693,952 +\n",
            "grid # 63 : 4,611,686,018,427,387,904 +\n",
            "grid # 64 : 9,223,372,036,854,775,808 =\n",
            "total   : 18.446744 quintillion\n"
          ],
          "name": "stdout"
        }
      ]
    },
    {
      "cell_type": "markdown",
      "metadata": {
        "id": "5f6bt4j2n8gs"
      },
      "source": [
        "# Day 5\n"
      ]
    },
    {
      "cell_type": "code",
      "metadata": {
        "colab": {
          "base_uri": "https://localhost:8080/"
        },
        "id": "blTYPZKFgmyM",
        "outputId": "841daed0-43de-4ff8-9476-e5fd441b0de7"
      },
      "source": [
        "result = 1\n",
        "n = 7\n",
        "i = 1\n",
        "while (i < n):\n",
        "    print (i, end = \" x \")\n",
        "    result = result * i\n",
        "    i = i + 2    \n",
        "print (n, \"=\", result * i)"
      ],
      "execution_count": null,
      "outputs": [
        {
          "output_type": "stream",
          "text": [
            "1 x 3 x 5 x 7 = 105\n"
          ],
          "name": "stdout"
        }
      ]
    },
    {
      "cell_type": "code",
      "metadata": {
        "colab": {
          "base_uri": "https://localhost:8080/"
        },
        "id": "JotLbXdemPdO",
        "outputId": "4353f385-c28d-4aa5-9f96-b23801c7acf6"
      },
      "source": [
        "result = 1\n",
        "n = -2\n",
        "i = -5\n",
        "while (i < n):\n",
        "    print (i, end = \" x \")\n",
        "    result = result * i\n",
        "    i = i + 1    \n",
        "print (n, \"=\", result * i)\n"
      ],
      "execution_count": null,
      "outputs": [
        {
          "output_type": "stream",
          "text": [
            "-5 x -4 x -3 x -2 = 120\n"
          ],
          "name": "stdout"
        }
      ]
    },
    {
      "cell_type": "code",
      "metadata": {
        "colab": {
          "base_uri": "https://localhost:8080/"
        },
        "id": "6uGqmItAohHt",
        "outputId": "4b339c54-328a-4a58-f480-d9cc37432f75"
      },
      "source": [
        "result = 0\n",
        "n = 63\n",
        "i = 0\n",
        "while (i < n):\n",
        "    print (2 ** i, end = \" + \")\n",
        "    result = result + (2 ** i)\n",
        "    i = i + 1   \n",
        "print (2 ** i, \"=\", result + 2 ** i)\n"
      ],
      "execution_count": null,
      "outputs": [
        {
          "output_type": "stream",
          "text": [
            "1 + 2 + 4 + 8 + 16 + 32 + 64 + 128 + 256 + 512 + 1024 + 2048 + 4096 + 8192 + 16384 + 32768 + 65536 + 131072 + 262144 + 524288 + 1048576 + 2097152 + 4194304 + 8388608 + 16777216 + 33554432 + 67108864 + 134217728 + 268435456 + 536870912 + 1073741824 + 2147483648 + 4294967296 + 8589934592 + 17179869184 + 34359738368 + 68719476736 + 137438953472 + 274877906944 + 549755813888 + 1099511627776 + 2199023255552 + 4398046511104 + 8796093022208 + 17592186044416 + 35184372088832 + 70368744177664 + 140737488355328 + 281474976710656 + 562949953421312 + 1125899906842624 + 2251799813685248 + 4503599627370496 + 9007199254740992 + 18014398509481984 + 36028797018963968 + 72057594037927936 + 144115188075855872 + 288230376151711744 + 576460752303423488 + 1152921504606846976 + 2305843009213693952 + 4611686018427387904 + 9223372036854775808 = 18446744073709551615\n"
          ],
          "name": "stdout"
        }
      ]
    },
    {
      "cell_type": "code",
      "metadata": {
        "colab": {
          "base_uri": "https://localhost:8080/"
        },
        "id": "o65uzyjlsZvw",
        "outputId": "e6b6bf80-2ebe-4298-d169-c8063000103c"
      },
      "source": [
        "i = 2\n",
        "while ( i < 11 ):\n",
        "   print ( i, end = \" \")\n",
        "   i = i + 2\n",
        "\n",
        "print()\n",
        "\n",
        "i = 1\n",
        "for i in range ( 2, 11, 2 ):\n",
        "   print ( i, end= \" \")"
      ],
      "execution_count": null,
      "outputs": [
        {
          "output_type": "stream",
          "text": [
            "2 4 6 8 10 \n",
            "2 4 6 8 10 "
          ],
          "name": "stdout"
        }
      ]
    },
    {
      "cell_type": "code",
      "metadata": {
        "colab": {
          "base_uri": "https://localhost:8080/"
        },
        "id": "dUQyUnZLwoJO",
        "outputId": "7ed98358-25f1-4b0d-f44d-12de95ca392f"
      },
      "source": [
        "i = 1\n",
        "for i in range ( 10, 0, -1 ):\n",
        "   print ( i, end= \" \")"
      ],
      "execution_count": null,
      "outputs": [
        {
          "output_type": "stream",
          "text": [
            "10 9 8 7 6 5 4 3 2 1 "
          ],
          "name": "stdout"
        }
      ]
    },
    {
      "cell_type": "code",
      "metadata": {
        "colab": {
          "base_uri": "https://localhost:8080/"
        },
        "id": "72ya3XsRw4mZ",
        "outputId": "99c01276-5f40-43ae-85e0-426b8907a9c6"
      },
      "source": [
        "i = 1\n",
        "n = 7\n",
        "total = 0\n",
        "for i in range ( 2, n ):\n",
        "  total = total + 1\n",
        "  print ( i, end= \" + \")"
      ],
      "execution_count": null,
      "outputs": [
        {
          "output_type": "stream",
          "text": [
            "2 + 3 + 4 + 5 + 6 + "
          ],
          "name": "stdout"
        }
      ]
    },
    {
      "cell_type": "code",
      "metadata": {
        "id": "Yy4sFFnXzXEV"
      },
      "source": [
        "x = 1\n",
        "total = 0\n",
        "for i in range ( 1, 4 ):\n",
        "   print ( x, end= \" + \")\n",
        "   total = total + x\n",
        "   x = x - (i * 10)\n",
        "print (x, \"=\", total + x)"
      ],
      "execution_count": null,
      "outputs": []
    },
    {
      "cell_type": "code",
      "metadata": {
        "colab": {
          "base_uri": "https://localhost:8080/"
        },
        "id": "_6FvOxuAyXyG",
        "outputId": "e603f6dc-0e29-4e6b-940e-6b183fbd7b07"
      },
      "source": [
        "x = 100\n",
        "total = 0\n",
        "for i in range ( 1, 4 ):\n",
        "   print ( x, end= \" + \")\n",
        "   total = total + x\n",
        "   x = x - (i * 10)\n",
        "print (x, \"=\", total + x)"
      ],
      "execution_count": null,
      "outputs": [
        {
          "output_type": "stream",
          "text": [
            "100 + 90 + 70 + 40 = 300\n"
          ],
          "name": "stdout"
        }
      ]
    },
    {
      "cell_type": "markdown",
      "metadata": {
        "id": "fFouSPFn4R8o"
      },
      "source": [
        "# Day 6\n"
      ]
    },
    {
      "cell_type": "code",
      "metadata": {
        "colab": {
          "base_uri": "https://localhost:8080/"
        },
        "id": "hHZA3OJX4VBQ",
        "outputId": "7b784136-85e2-402a-b0ac-f8ec41ccc278"
      },
      "source": [
        "\n",
        "num = int(input(\"magic number (0-9): \"))\n",
        "i = -1\n",
        "while (i != num):\n",
        "  i = random.randint(0,9)\n",
        "  print (i, end= \" \")\n",
        "print(\"done!\")"
      ],
      "execution_count": null,
      "outputs": [
        {
          "output_type": "stream",
          "text": [
            "magic number (0-9): 1\n",
            "8 5 0 3 4 6 6 2 0 5 8 1 done!\n"
          ],
          "name": "stdout"
        }
      ]
    },
    {
      "cell_type": "code",
      "metadata": {
        "colab": {
          "base_uri": "https://localhost:8080/"
        },
        "id": "HPmWipj4AME5",
        "outputId": "edcc2c98-4bd1-44d7-af80-1bfe68e7737e"
      },
      "source": [
        "print (\"rock=1, scissors=2, paper=3\")\n",
        "comp = random.randint(1,3)\n",
        "human = int(input(\"You throw (1/2/3): \"))\n",
        "print (\"Computer throw:\", comp)\n",
        "if (comp == human): \n",
        " print (\"Its a tie!\")\n",
        "elif (human == 1 and comp == 2 or human == 2 and comp == 3 or human == 3 and comp == 1):\n",
        " print (\"You won the round!\")\n",
        "else:\n",
        "  print (\"Computer won the round!\")"
      ],
      "execution_count": null,
      "outputs": [
        {
          "output_type": "stream",
          "text": [
            "rock=1, scissors=2, paper=3\n"
          ],
          "name": "stdout"
        }
      ]
    },
    {
      "cell_type": "code",
      "metadata": {
        "id": "JIeIGAbQPCH8",
        "colab": {
          "base_uri": "https://localhost:8080/"
        },
        "outputId": "ba5d6f1e-d852-42e2-9785-4d7837b247f2"
      },
      "source": [
        "import random \n",
        "hpoints = 0\n",
        "cpoints = 0 \n",
        "i = 1\n",
        "while (hpoints < 3 and cpoints < 3):\n",
        "  print(\"Round #\", i)\n",
        "  comp = random.randint(1, 3)\n",
        "  human = int(input(\"1-rock 2-paper 3-scissors: \"))\n",
        "  print(\"Computer uses\", comp)\n",
        "  if (human == comp):\n",
        "    print(\"It's a tie!\")\n",
        "  elif (comp == 1 and human == 2 or comp == 2 and human == 3 or comp == 3 and human == 1): \n",
        "    hpoints += 1 \n",
        "    print(\"You won this round!\") \n",
        "  else:\n",
        "    cpoints += 1\n",
        "    print(\"The computer has won this round!\")\n",
        "  i = i + 1\n",
        "print (\"Final Result\")\n",
        "print(\"Human: \", hpoints)\n",
        "print(\"Computer:\", cpoints)\n",
        "if (hpoints > cpoints):\n",
        "  print(\"You win!\")\n",
        "else: \n",
        "  print(\"Computer wins!\")\n"
      ],
      "execution_count": null,
      "outputs": [
        {
          "output_type": "stream",
          "text": [
            "Round # 1\n",
            "Computer uses 1\n",
            "You won this round!\n",
            "Round # 2\n"
          ],
          "name": "stdout"
        },
        {
          "output_type": "error",
          "ename": "KeyboardInterrupt",
          "evalue": "ignored",
          "traceback": [
            "\u001b[0;31m---------------------------------------------------------------------------\u001b[0m",
            "\u001b[0;31mKeyboardInterrupt\u001b[0m                         Traceback (most recent call last)",
            "\u001b[0;32m/usr/local/lib/python3.6/dist-packages/ipykernel/kernelbase.py\u001b[0m in \u001b[0;36m_input_request\u001b[0;34m(self, prompt, ident, parent, password)\u001b[0m\n\u001b[1;32m    728\u001b[0m             \u001b[0;32mtry\u001b[0m\u001b[0;34m:\u001b[0m\u001b[0;34m\u001b[0m\u001b[0;34m\u001b[0m\u001b[0m\n\u001b[0;32m--> 729\u001b[0;31m                 \u001b[0mident\u001b[0m\u001b[0;34m,\u001b[0m \u001b[0mreply\u001b[0m \u001b[0;34m=\u001b[0m \u001b[0mself\u001b[0m\u001b[0;34m.\u001b[0m\u001b[0msession\u001b[0m\u001b[0;34m.\u001b[0m\u001b[0mrecv\u001b[0m\u001b[0;34m(\u001b[0m\u001b[0mself\u001b[0m\u001b[0;34m.\u001b[0m\u001b[0mstdin_socket\u001b[0m\u001b[0;34m,\u001b[0m \u001b[0;36m0\u001b[0m\u001b[0;34m)\u001b[0m\u001b[0;34m\u001b[0m\u001b[0;34m\u001b[0m\u001b[0m\n\u001b[0m\u001b[1;32m    730\u001b[0m             \u001b[0;32mexcept\u001b[0m \u001b[0mException\u001b[0m\u001b[0;34m:\u001b[0m\u001b[0;34m\u001b[0m\u001b[0;34m\u001b[0m\u001b[0m\n",
            "\u001b[0;32m/usr/local/lib/python3.6/dist-packages/jupyter_client/session.py\u001b[0m in \u001b[0;36mrecv\u001b[0;34m(self, socket, mode, content, copy)\u001b[0m\n\u001b[1;32m    802\u001b[0m         \u001b[0;32mtry\u001b[0m\u001b[0;34m:\u001b[0m\u001b[0;34m\u001b[0m\u001b[0;34m\u001b[0m\u001b[0m\n\u001b[0;32m--> 803\u001b[0;31m             \u001b[0mmsg_list\u001b[0m \u001b[0;34m=\u001b[0m \u001b[0msocket\u001b[0m\u001b[0;34m.\u001b[0m\u001b[0mrecv_multipart\u001b[0m\u001b[0;34m(\u001b[0m\u001b[0mmode\u001b[0m\u001b[0;34m,\u001b[0m \u001b[0mcopy\u001b[0m\u001b[0;34m=\u001b[0m\u001b[0mcopy\u001b[0m\u001b[0;34m)\u001b[0m\u001b[0;34m\u001b[0m\u001b[0;34m\u001b[0m\u001b[0m\n\u001b[0m\u001b[1;32m    804\u001b[0m         \u001b[0;32mexcept\u001b[0m \u001b[0mzmq\u001b[0m\u001b[0;34m.\u001b[0m\u001b[0mZMQError\u001b[0m \u001b[0;32mas\u001b[0m \u001b[0me\u001b[0m\u001b[0;34m:\u001b[0m\u001b[0;34m\u001b[0m\u001b[0;34m\u001b[0m\u001b[0m\n",
            "\u001b[0;32m/usr/local/lib/python3.6/dist-packages/zmq/sugar/socket.py\u001b[0m in \u001b[0;36mrecv_multipart\u001b[0;34m(self, flags, copy, track)\u001b[0m\n\u001b[1;32m    565\u001b[0m         \"\"\"\n\u001b[0;32m--> 566\u001b[0;31m         \u001b[0mparts\u001b[0m \u001b[0;34m=\u001b[0m \u001b[0;34m[\u001b[0m\u001b[0mself\u001b[0m\u001b[0;34m.\u001b[0m\u001b[0mrecv\u001b[0m\u001b[0;34m(\u001b[0m\u001b[0mflags\u001b[0m\u001b[0;34m,\u001b[0m \u001b[0mcopy\u001b[0m\u001b[0;34m=\u001b[0m\u001b[0mcopy\u001b[0m\u001b[0;34m,\u001b[0m \u001b[0mtrack\u001b[0m\u001b[0;34m=\u001b[0m\u001b[0mtrack\u001b[0m\u001b[0;34m)\u001b[0m\u001b[0;34m]\u001b[0m\u001b[0;34m\u001b[0m\u001b[0;34m\u001b[0m\u001b[0m\n\u001b[0m\u001b[1;32m    567\u001b[0m         \u001b[0;31m# have first part already, only loop while more to receive\u001b[0m\u001b[0;34m\u001b[0m\u001b[0;34m\u001b[0m\u001b[0;34m\u001b[0m\u001b[0m\n",
            "\u001b[0;32mzmq/backend/cython/socket.pyx\u001b[0m in \u001b[0;36mzmq.backend.cython.socket.Socket.recv\u001b[0;34m()\u001b[0m\n",
            "\u001b[0;32mzmq/backend/cython/socket.pyx\u001b[0m in \u001b[0;36mzmq.backend.cython.socket.Socket.recv\u001b[0;34m()\u001b[0m\n",
            "\u001b[0;32mzmq/backend/cython/socket.pyx\u001b[0m in \u001b[0;36mzmq.backend.cython.socket._recv_copy\u001b[0;34m()\u001b[0m\n",
            "\u001b[0;32m/usr/local/lib/python3.6/dist-packages/zmq/backend/cython/checkrc.pxd\u001b[0m in \u001b[0;36mzmq.backend.cython.checkrc._check_rc\u001b[0;34m()\u001b[0m\n",
            "\u001b[0;31mKeyboardInterrupt\u001b[0m: ",
            "\nDuring handling of the above exception, another exception occurred:\n",
            "\u001b[0;31mKeyboardInterrupt\u001b[0m                         Traceback (most recent call last)",
            "\u001b[0;32m<ipython-input-7-4a69e5798d5a>\u001b[0m in \u001b[0;36m<module>\u001b[0;34m()\u001b[0m\n\u001b[1;32m      6\u001b[0m   \u001b[0mprint\u001b[0m\u001b[0;34m(\u001b[0m\u001b[0;34m\"Round #\"\u001b[0m\u001b[0;34m,\u001b[0m \u001b[0mi\u001b[0m\u001b[0;34m)\u001b[0m\u001b[0;34m\u001b[0m\u001b[0;34m\u001b[0m\u001b[0m\n\u001b[1;32m      7\u001b[0m   \u001b[0mcomp\u001b[0m \u001b[0;34m=\u001b[0m \u001b[0mrandom\u001b[0m\u001b[0;34m.\u001b[0m\u001b[0mrandint\u001b[0m\u001b[0;34m(\u001b[0m\u001b[0;36m1\u001b[0m\u001b[0;34m,\u001b[0m \u001b[0;36m3\u001b[0m\u001b[0;34m)\u001b[0m\u001b[0;34m\u001b[0m\u001b[0;34m\u001b[0m\u001b[0m\n\u001b[0;32m----> 8\u001b[0;31m   \u001b[0mhuman\u001b[0m \u001b[0;34m=\u001b[0m \u001b[0mint\u001b[0m\u001b[0;34m(\u001b[0m\u001b[0minput\u001b[0m\u001b[0;34m(\u001b[0m\u001b[0;34m\"1-rock 2-paper 3-scissors: \"\u001b[0m\u001b[0;34m)\u001b[0m\u001b[0;34m)\u001b[0m\u001b[0;34m\u001b[0m\u001b[0;34m\u001b[0m\u001b[0m\n\u001b[0m\u001b[1;32m      9\u001b[0m   \u001b[0mprint\u001b[0m\u001b[0;34m(\u001b[0m\u001b[0;34m\"Computer uses\"\u001b[0m\u001b[0;34m,\u001b[0m \u001b[0mcomp\u001b[0m\u001b[0;34m)\u001b[0m\u001b[0;34m\u001b[0m\u001b[0;34m\u001b[0m\u001b[0m\n\u001b[1;32m     10\u001b[0m   \u001b[0;32mif\u001b[0m \u001b[0;34m(\u001b[0m\u001b[0mhuman\u001b[0m \u001b[0;34m==\u001b[0m \u001b[0mcomp\u001b[0m\u001b[0;34m)\u001b[0m\u001b[0;34m:\u001b[0m\u001b[0;34m\u001b[0m\u001b[0;34m\u001b[0m\u001b[0m\n",
            "\u001b[0;32m/usr/local/lib/python3.6/dist-packages/ipykernel/kernelbase.py\u001b[0m in \u001b[0;36mraw_input\u001b[0;34m(self, prompt)\u001b[0m\n\u001b[1;32m    702\u001b[0m             \u001b[0mself\u001b[0m\u001b[0;34m.\u001b[0m\u001b[0m_parent_ident\u001b[0m\u001b[0;34m,\u001b[0m\u001b[0;34m\u001b[0m\u001b[0;34m\u001b[0m\u001b[0m\n\u001b[1;32m    703\u001b[0m             \u001b[0mself\u001b[0m\u001b[0;34m.\u001b[0m\u001b[0m_parent_header\u001b[0m\u001b[0;34m,\u001b[0m\u001b[0;34m\u001b[0m\u001b[0;34m\u001b[0m\u001b[0m\n\u001b[0;32m--> 704\u001b[0;31m             \u001b[0mpassword\u001b[0m\u001b[0;34m=\u001b[0m\u001b[0;32mFalse\u001b[0m\u001b[0;34m,\u001b[0m\u001b[0;34m\u001b[0m\u001b[0;34m\u001b[0m\u001b[0m\n\u001b[0m\u001b[1;32m    705\u001b[0m         )\n\u001b[1;32m    706\u001b[0m \u001b[0;34m\u001b[0m\u001b[0m\n",
            "\u001b[0;32m/usr/local/lib/python3.6/dist-packages/ipykernel/kernelbase.py\u001b[0m in \u001b[0;36m_input_request\u001b[0;34m(self, prompt, ident, parent, password)\u001b[0m\n\u001b[1;32m    732\u001b[0m             \u001b[0;32mexcept\u001b[0m \u001b[0mKeyboardInterrupt\u001b[0m\u001b[0;34m:\u001b[0m\u001b[0;34m\u001b[0m\u001b[0;34m\u001b[0m\u001b[0m\n\u001b[1;32m    733\u001b[0m                 \u001b[0;31m# re-raise KeyboardInterrupt, to truncate traceback\u001b[0m\u001b[0;34m\u001b[0m\u001b[0;34m\u001b[0m\u001b[0;34m\u001b[0m\u001b[0m\n\u001b[0;32m--> 734\u001b[0;31m                 \u001b[0;32mraise\u001b[0m \u001b[0mKeyboardInterrupt\u001b[0m\u001b[0;34m\u001b[0m\u001b[0;34m\u001b[0m\u001b[0m\n\u001b[0m\u001b[1;32m    735\u001b[0m             \u001b[0;32melse\u001b[0m\u001b[0;34m:\u001b[0m\u001b[0;34m\u001b[0m\u001b[0;34m\u001b[0m\u001b[0m\n\u001b[1;32m    736\u001b[0m                 \u001b[0;32mbreak\u001b[0m\u001b[0;34m\u001b[0m\u001b[0;34m\u001b[0m\u001b[0m\n",
            "\u001b[0;31mKeyboardInterrupt\u001b[0m: "
          ]
        }
      ]
    },
    {
      "cell_type": "markdown",
      "metadata": {
        "id": "G5-ORPYHY1YT"
      },
      "source": [
        "# Day 7\n"
      ]
    },
    {
      "cell_type": "code",
      "metadata": {
        "colab": {
          "base_uri": "https://localhost:8080/"
        },
        "id": "zUu3zZJ8Y2QG",
        "outputId": "933fa343-11df-4006-d642-6016b659237f"
      },
      "source": [
        "def parabolic (x):\n",
        "  y = x**2\n",
        "  return y\n",
        "\n",
        "result = parabolic(4)\n",
        "print(result)"
      ],
      "execution_count": null,
      "outputs": [
        {
          "output_type": "stream",
          "text": [
            "16\n"
          ],
          "name": "stdout"
        }
      ]
    },
    {
      "cell_type": "code",
      "metadata": {
        "colab": {
          "base_uri": "https://localhost:8080/"
        },
        "id": "stYHIn5lbIf6",
        "outputId": "e63c7b11-c3a0-4881-c55a-643093b46eaf"
      },
      "source": [
        "def doubler (x):\n",
        "  y = x*2\n",
        "  return y\n",
        "x = int(input(\"x value: \"))\n",
        "\n",
        "result = doubler(x)\n",
        "print(\"y value:\", result)"
      ],
      "execution_count": null,
      "outputs": [
        {
          "output_type": "stream",
          "text": [
            "x value: 5\n",
            "y value: 10\n"
          ],
          "name": "stdout"
        }
      ]
    },
    {
      "cell_type": "code",
      "metadata": {
        "colab": {
          "base_uri": "https://localhost:8080/"
        },
        "id": "LdwfScFNbM2N",
        "outputId": "c8892709-b583-4ef5-9d80-14071b48349f"
      },
      "source": [
        "def multiplier (x,y):\n",
        " z = x * y\n",
        " return z\n",
        "\n",
        "x = int(input(\"x value: \"))\n",
        "y = int(input(\"y value: \"))\n",
        "\n",
        "result = multiplier(x,y)\n",
        "print(\"z value: \", result)"
      ],
      "execution_count": null,
      "outputs": [
        {
          "output_type": "stream",
          "text": [
            "x value: 5\n",
            "y value: 4\n",
            "z value:  20\n"
          ],
          "name": "stdout"
        }
      ]
    },
    {
      "cell_type": "code",
      "metadata": {
        "colab": {
          "base_uri": "https://localhost:8080/"
        },
        "id": "5VBgC1vtcHLl",
        "outputId": "4533c054-14eb-4e31-a735-427df8b9dbdd"
      },
      "source": [
        "def getInput(text):\n",
        "  while (True):\n",
        "    edge = float (input(\"input edge\" + text + \": \"))\n",
        "    if (edge <= 0):\n",
        "      print (\"invalid edge!\")\n",
        "    else:\n",
        "      break\n",
        "  return edge\n",
        "\n",
        "edge = getInput(\"1\")"
      ],
      "execution_count": null,
      "outputs": [
        {
          "output_type": "stream",
          "text": [
            "input edge1: 4\n"
          ],
          "name": "stdout"
        }
      ]
    },
    {
      "cell_type": "code",
      "metadata": {
        "colab": {
          "base_uri": "https://localhost:8080/"
        },
        "id": "BEJnfgm-dU0y",
        "outputId": "071ac0c4-57bd-4623-bde7-727fc8bcd6ef"
      },
      "source": [
        "def display(text, num):\n",
        "  print(text, \": \",num)\n",
        "\n",
        "display(\"Area of square\", 100)"
      ],
      "execution_count": null,
      "outputs": [
        {
          "output_type": "stream",
          "text": [
            "Area of square :  100\n"
          ],
          "name": "stdout"
        }
      ]
    },
    {
      "cell_type": "code",
      "metadata": {
        "colab": {
          "base_uri": "https://localhost:8080/"
        },
        "id": "W88-Ux0aejkG",
        "outputId": "44402504-de31-413d-b4a6-bdc1355b191d"
      },
      "source": [
        "def getInput(text):\n",
        "  while (True):\n",
        "    edge = float (input(\"input edge\" + text + \": \"))\n",
        "    if (edge <= 0):\n",
        "      print (\"invalid edge!\")\n",
        "    else:\n",
        "      break\n",
        "  return edge\n",
        "\n",
        "def multiplier (x,y,z):\n",
        "  result = x * y * z\n",
        "  return result \n",
        "def display(text1, num):\n",
        "  if text1 == \"box\":\n",
        "    text1 = \"volume of \" + text1\n",
        "    text2 = \"cm3\"\n",
        "  else:\n",
        "    text1 = \"area of \"+ text1\n",
        "    text2 = \"cm2\"\n",
        "  print(format(text1, \"20s\"), \" : \", num, text2)\n",
        "e1 = getInput (\"1\")\n",
        "e2 = getInput (\"2\")\n",
        "e3 = getInput (\"3\")\n",
        "\n",
        "s = multiplier (e1,e1, 1)\n",
        "r = multiplier (e1, e2, 1)\n",
        "t = multiplier (1/2, e1, e2)\n",
        "c = multiplier (3.14, e1**2, 1 )\n",
        "v = multiplier(e1, e2, e3)\n",
        "\n",
        "print ()\n",
        "\n",
        "display(\"square\", s)\n",
        "display(\"rectangle\", r )\n",
        "display(\"triangle\", t)\n",
        "display(\"circle\", c)\n",
        "display(\"box\", v)"
      ],
      "execution_count": null,
      "outputs": [
        {
          "output_type": "stream",
          "text": [
            "input edge1: 2\n",
            "input edge2: 3\n",
            "input edge3: 4\n",
            "\n",
            "area of square        :  4.0 cm2\n",
            "area of rectangle     :  6.0 cm2\n",
            "area of triangle      :  3.0 cm2\n",
            "area of circle        :  12.56 cm2\n",
            "volume of box         :  24.0 cm3\n"
          ],
          "name": "stdout"
        }
      ]
    },
    {
      "cell_type": "code",
      "metadata": {
        "colab": {
          "base_uri": "https://localhost:8080/"
        },
        "id": "oMaXy8oSRNPc",
        "outputId": "dc6e6027-a003-4498-9f06-af472741f979"
      },
      "source": [
        "def sigma (start, n):\n",
        "  total = 0\n",
        "  for i in range(start, n):\n",
        "    print (i, end=' + ')\n",
        "    total += i\n",
        "  print(n, \"=\",total+n)\n",
        "\n",
        "sigma(3,10)"
      ],
      "execution_count": null,
      "outputs": [
        {
          "output_type": "stream",
          "text": [
            "3 + 4 + 5 + 6 + 7 + 8 + 9 + 10 = 52\n"
          ],
          "name": "stdout"
        }
      ]
    },
    {
      "cell_type": "code",
      "metadata": {
        "colab": {
          "base_uri": "https://localhost:8080/"
        },
        "id": "kOc4wK6VR8tl",
        "outputId": "96ebc5ee-c644-4ff7-8c76-6b695b5f6a6e"
      },
      "source": [
        "def mystery (d1,d2,g):\n",
        "  result = d1 +d2\n",
        "  if (d1 == d2):\n",
        "    return \"You lost\"\n",
        "  elif (result%2 == g%2):\n",
        "    return \"You won\"\n",
        "  else:\n",
        "    return \"You lost\"\n",
        "\n",
        "print (mystery(1,2,5))\n",
        "print (mystery(2,4,3))\n",
        "print (mystery(3,3,5))\n"
      ],
      "execution_count": null,
      "outputs": [
        {
          "output_type": "stream",
          "text": [
            "You won\n",
            "You lost\n",
            "You lost\n"
          ],
          "name": "stdout"
        }
      ]
    },
    {
      "cell_type": "markdown",
      "metadata": {
        "id": "YaRcwUUUWifV"
      },
      "source": [
        "# Day 8\n"
      ]
    },
    {
      "cell_type": "code",
      "metadata": {
        "colab": {
          "base_uri": "https://localhost:8080/"
        },
        "id": "sdTYOIODSzv-",
        "outputId": "40b42edf-52de-46c0-d184-7f9924de0dad"
      },
      "source": [
        "def facto (start, n):\n",
        " total = 1\n",
        " for i in range(start, n):\n",
        "    print (i, end=' x ')\n",
        "    total *= i\n",
        " print(n, \"=\", total*n)\n",
        "\n",
        "facto(2, 4)"
      ],
      "execution_count": null,
      "outputs": [
        {
          "output_type": "stream",
          "text": [
            "2 x 3 x 4 = 24\n"
          ],
          "name": "stdout"
        }
      ]
    },
    {
      "cell_type": "code",
      "metadata": {
        "colab": {
          "base_uri": "https://localhost:8080/"
        },
        "id": "LThiWuNYWmHq",
        "outputId": "2fd269ce-4dbb-4dc5-c273-1b3489511b8f"
      },
      "source": [
        "def facto (n):\n",
        " result = 1\n",
        " for i in range(1, n + 1):\n",
        "    result *= i\n",
        " return result\n",
        "\n",
        "f6 = facto (6)\n",
        "print(f6)"
      ],
      "execution_count": null,
      "outputs": [
        {
          "output_type": "stream",
          "text": [
            "720\n"
          ],
          "name": "stdout"
        }
      ]
    },
    {
      "cell_type": "code",
      "metadata": {
        "colab": {
          "base_uri": "https://localhost:8080/"
        },
        "id": "ddFfnigtYXjM",
        "outputId": "b54d15b3-a8de-4f16-a680-7ec57966ea0f"
      },
      "source": [
        "def facto (n):\n",
        "  result = 1\n",
        "  for i in range(1, n+1):\n",
        "    result *= i\n",
        "  return result\n",
        "\n",
        "c = facto(n)/facto(r)*facto(n-r)\n",
        "p = facto(n)/facto(n-r)\n",
        "\n",
        "print (\"C(\", n , \"/\",r,\")=\", int(c))\n",
        "print (\"P(\", n , \"/\",r,\")=\", int(p))"
      ],
      "execution_count": null,
      "outputs": [
        {
          "output_type": "stream",
          "text": [
            "C( 3 / 2 )= 3\n",
            "P( 3 / 2 )= 6\n"
          ],
          "name": "stdout"
        }
      ]
    },
    {
      "cell_type": "code",
      "metadata": {
        "colab": {
          "base_uri": "https://localhost:8080/"
        },
        "id": "jtZSmxaher4m",
        "outputId": "70ddeae1-cdf2-49fa-f616-31494fa0ec3c"
      },
      "source": [
        "def fibo(n):\n",
        "  if (n==0 or n==1):\n",
        "    return n\n",
        "  else:\n",
        "    return fibo(n-2) + fibo(n-1)\n",
        "\n",
        "print (\"no. of rabbits born:\", fibo(24)*2)"
      ],
      "execution_count": null,
      "outputs": [
        {
          "output_type": "stream",
          "text": [
            "no. of rabbits born: 92736\n"
          ],
          "name": "stdout"
        }
      ]
    },
    {
      "cell_type": "code",
      "metadata": {
        "colab": {
          "base_uri": "https://localhost:8080/"
        },
        "id": "xsJZWbx-gK7l",
        "outputId": "101a79e3-4ed0-408a-aa2a-de453b0cb09c"
      },
      "source": [
        "def sigma(n):\n",
        "  if (n==0):\n",
        "    return 0\n",
        "  else:\n",
        "    return n + sigma (n-1)\n",
        "\n",
        "print (sigma(10))"
      ],
      "execution_count": null,
      "outputs": [
        {
          "output_type": "stream",
          "text": [
            "55\n"
          ],
          "name": "stdout"
        }
      ]
    },
    {
      "cell_type": "code",
      "metadata": {
        "colab": {
          "base_uri": "https://localhost:8080/"
        },
        "id": "A4uk3WCsiXpp",
        "outputId": "f22256a0-6bcd-423a-d229-03cebbb35da4"
      },
      "source": [
        "def facto(n):\n",
        "  if (n==1):\n",
        "    return 1\n",
        "  else:\n",
        "    return n * facto (n-1)\n",
        "\n",
        "print (facto(5))"
      ],
      "execution_count": null,
      "outputs": [
        {
          "output_type": "stream",
          "text": [
            "120\n"
          ],
          "name": "stdout"
        }
      ]
    },
    {
      "cell_type": "code",
      "metadata": {
        "colab": {
          "base_uri": "https://localhost:8080/"
        },
        "id": "KWOm4Xq7i49c",
        "outputId": "d7df70aa-4e9d-48cf-98a7-1e17cb95bfc8"
      },
      "source": [
        "def fibo(n):\n",
        "  result = 0\n",
        "  next = 1\n",
        "  for i in range(n):\n",
        "    temp = result\n",
        "    result = next\n",
        "    next = temp + result\n",
        "  return result\n",
        "\n",
        "print (\"no. of rabbits born:\", fibo(24)*2)"
      ],
      "execution_count": null,
      "outputs": [
        {
          "output_type": "stream",
          "text": [
            "no. of rabbits born: 92736\n"
          ],
          "name": "stdout"
        }
      ]
    },
    {
      "cell_type": "markdown",
      "metadata": {
        "id": "RE-_1GyBbJLz"
      },
      "source": [
        "# Day 9"
      ]
    },
    {
      "cell_type": "code",
      "metadata": {
        "colab": {
          "base_uri": "https://localhost:8080/"
        },
        "id": "ACBP4QB3bMvF",
        "outputId": "f2309bf3-4d75-47ef-d2ea-d68e849d04cd"
      },
      "source": [
        "\n",
        "scores = [90,70,80,100,60]\n",
        "print(scores)\n",
        "print(scores[3])\n",
        "scores.append(88)\n",
        "scores[4] = 77\n",
        "scores.pop(1)\n",
        "print(scores)\n",
        "for i in range(len(scores)):\n",
        " print(\"student #\", i + 1,\":\",scores[i])"
      ],
      "execution_count": null,
      "outputs": [
        {
          "output_type": "stream",
          "text": [
            "[90, 70, 80, 100, 60]\n",
            "100\n",
            "[90, 80, 100, 77, 88]\n",
            "student # 1 : 90\n",
            "student # 2 : 80\n",
            "student # 3 : 100\n",
            "student # 4 : 77\n",
            "student # 5 : 88\n"
          ],
          "name": "stdout"
        }
      ]
    },
    {
      "cell_type": "code",
      "metadata": {
        "colab": {
          "base_uri": "https://localhost:8080/"
        },
        "id": "Y3QTyjqvhIWd",
        "outputId": "78dc0b4c-c9eb-4c31-a976-96c22160121c"
      },
      "source": [
        "names = [\"Alex\", \"Bob\", \"Chen\", \"Dave\", \"Eddy\"]\n",
        "scores = [90,70,80,100,60]\n",
        "for i in range(len(scores)):\n",
        "  print(names[i], \" : \",scores[i])"
      ],
      "execution_count": null,
      "outputs": [
        {
          "output_type": "stream",
          "text": [
            "Alex  :  90\n",
            "Bob  :  70\n",
            "Chen  :  80\n",
            "Dave  :  100\n",
            "Eddy  :  60\n"
          ],
          "name": "stdout"
        }
      ]
    },
    {
      "cell_type": "code",
      "metadata": {
        "colab": {
          "base_uri": "https://localhost:8080/"
        },
        "id": "_zrX4N6EiQ09",
        "outputId": "7616ae16-1e11-448a-ae8f-376a2ca76cf1"
      },
      "source": [
        "names = [\"Alex\", \"Bob\", \"Chen\", \"Dave\", \"Eddy\"]\n",
        "scores = [90,70,80,100,60]\n",
        "for i in range(len(scores)):\n",
        "  scores[i]= scores[i] + 5\n",
        "  if (scores[i] > 100):\n",
        "    scores[i] = 100\n",
        "  print(i+1, names[i], \" : \",(scores[i]))"
      ],
      "execution_count": null,
      "outputs": [
        {
          "output_type": "stream",
          "text": [
            "1 Alex  :  95\n",
            "2 Bob  :  75\n",
            "3 Chen  :  85\n",
            "4 Dave  :  100\n",
            "5 Eddy  :  65\n"
          ],
          "name": "stdout"
        }
      ]
    },
    {
      "cell_type": "code",
      "metadata": {
        "colab": {
          "base_uri": "https://localhost:8080/"
        },
        "id": "KnjGzTzmlGHs",
        "outputId": "601a9b2c-b9a4-462d-ae62-c18335f1a683"
      },
      "source": [
        "names = [\"Alex\", \"Bob\", \"Chen\", \"Dave\", \"Eddy\"]\n",
        "scores = [90,70,80,100,60]\n",
        "total,hIdx,lIdx = 0,0,0\n",
        "print(\"Score list\")\n",
        "for i in range(len(scores)):\n",
        "  scores[i] += 5\n",
        "  if (scores[i] > 100):\n",
        "    scores[i] = 100\n",
        "  print(i+1, names[i], \" : \",scores[i])\n",
        "  total += scores[i]\n",
        "  average = total/len(scores)\n",
        "  if (scores[hIdx] < scores[i]):\n",
        "    hIdx = i\n",
        "  if (scores[lIdx] > scores[i]):\n",
        "    lIdx = i\n",
        "print(\"\")\n",
        "print(\"total score :\", total)\n",
        "print(\"average score :\", average)\n",
        "print(\"\")\n",
        "print(\"highest score :\", names[hIdx], \"-\", scores[hIdx])\n",
        "print(\"lowest score :\", names[lIdx], \"-\", scores[lIdx])\n"
      ],
      "execution_count": null,
      "outputs": [
        {
          "output_type": "stream",
          "text": [
            "Score list\n",
            "1 Alex  :  95\n",
            "2 Bob  :  75\n",
            "3 Chen  :  85\n",
            "4 Dave  :  100\n",
            "5 Eddy  :  65\n",
            "\n",
            "total score : 420\n",
            "average score : 84.0\n",
            "\n",
            "highest score : Dave - 100\n",
            "lowest score : Eddy - 65\n"
          ],
          "name": "stdout"
        }
      ]
    },
    {
      "cell_type": "code",
      "metadata": {
        "colab": {
          "base_uri": "https://localhost:8080/"
        },
        "id": "galHMrB_sRPl",
        "outputId": "0dcc7ec7-e6ec-479d-f30c-2c7b4410bc10"
      },
      "source": [
        "choice = int(input(\"input 1/2/3: \"))\n",
        "if (choice == 1):\n",
        "  print(\"strawberry\")\n",
        "elif (choice == 2):\n",
        "  print(\"chocolate\")\n",
        "elif (choice == 3):\n",
        "  print(\"vanilla\")\n"
      ],
      "execution_count": null,
      "outputs": [
        {
          "output_type": "stream",
          "text": [
            "input 1/2/3: 2\n",
            "chocolate\n"
          ],
          "name": "stdout"
        }
      ]
    },
    {
      "cell_type": "code",
      "metadata": {
        "colab": {
          "base_uri": "https://localhost:8080/"
        },
        "id": "8RM_SHxCs7vu",
        "outputId": "18304a89-3243-4574-d5c4-9a99f0990b6c"
      },
      "source": [
        "flavours = [\"Strawberry\", \"Chocolate\", \"Vanilla\"] #strawberry = 0, chocolate = 1, vanilla = 2\n",
        "choice = int(input(\"Input 1/2/3: \"))\n",
        "print(flavours[choice - 1])"
      ],
      "execution_count": null,
      "outputs": [
        {
          "output_type": "stream",
          "text": [
            "Input 1/2/3: 3\n",
            "Vanilla\n"
          ],
          "name": "stdout"
        }
      ]
    },
    {
      "cell_type": "markdown",
      "metadata": {
        "id": "eljMVnNPxSBZ"
      },
      "source": [
        "# Day 10"
      ]
    },
    {
      "cell_type": "code",
      "metadata": {
        "id": "vCdNRP4Cygpz"
      },
      "source": [
        "flavours = [\"Strawberry\", \"Chocolate\", \"Vanilla\"] #strawberry = 0, chocolate = 1, vanilla = 2\n",
        "prices = [2.0, 2.5, 3.0]\n",
        "choice = int(input(\"Input 1-strawberry/2-chocolate/3-vanilla: \"))\n",
        "flavour = flavours[choice - 1]\n",
        "price = prices\n",
        "[choice - 1]\n",
        "qty = int(input(\"quantity: \"))\n",
        "totalprice = sum(qty*prices)\n",
        "payment = int (input(\"payment: \"))\n",
        "change = payment - totalprice\n",
        "if (change > 0):\n",
        " print(flavour, \"$\", price, \"x\", qty, \"=\",)\n",
        " print(\"payment ($):\", payment)\n",
        " print(\"Change ($):\", change)\n",
        "\n",
        "elif (change < 0):\n",
        " print(\"insufficient funds!\")"
      ],
      "execution_count": null,
      "outputs": []
    },
    {
      "cell_type": "code",
      "metadata": {
        "colab": {
          "base_uri": "https://localhost:8080/",
          "height": 578
        },
        "id": "lSScvbWXxVYV",
        "outputId": "cd257c3a-715b-465e-a6cf-ad5efee304a5"
      },
      "source": [
        "cc_nos = [ 123, 234, 345]\n",
        "names = [\"Alex\", \"Bree\", \"Chow\"]\n",
        "pins = [111, 222, 333]\n",
        "balances = [ 100, 200, 300]\n",
        "valid = False\n",
        "while (True):\n",
        "  print(\"n\\ATM JJL\")\n",
        "  acc_no = int (input(\"Account No: \"))\n",
        "  if (acc_no == -1):\n",
        "    print(\"Thank you\")\n",
        "    break \n",
        "  pin = int (input(\"Account Pin: \"))\n",
        "  if acc_no in acc_nos:\n",
        "    idx = acc_nos.index(acc_no)\n",
        "    if pin == pins[idx]:\n",
        "      print(\"Welcome\", names[idx], \"!\")\n",
        "      print(\"Balance $\", balances[idx])\n",
        "      valid = True\n",
        "      break\n",
        "    else:\n",
        "      print(\"Incorrect PIN\")\n",
        "  else: \n",
        "    print(\"Incorrect Acc No\") \n",
        "if valid:\n",
        "  while (True):\n",
        "    trans = int(input(\"1-Deposit 2-Withdraw 3-Transfer 0-Exit\"))\n",
        "    if (trans == 0):\n",
        "      print(\"See you Amigo! \")\n",
        "      break \n",
        "    amount = int(input(\"Amount: \"))\n",
        "    if (trans == 1):\n",
        "      if (amount > 0):\n",
        "       balances[idx] += amount\n",
        "    elif (trans == 2):\n",
        "      if (amount > 0 and amount <= balances[idx]):\n",
        "       balances[idx] -= amount\n",
        "    elif (trans == 3):\n",
        "      if (amount > 0 and amound <= balances[idx]):\n",
        "       d_acc_no = int (input(\"Destination Account No: \"))\n",
        "      idx_d = acc_nos.index(d_acc_no)\n",
        "      balances[idx] -= amount \n",
        "      balances[idx_d] += amount\n",
        "    print(\"Your balance $\", balances[idx])\n"
      ],
      "execution_count": null,
      "outputs": [
        {
          "output_type": "stream",
          "text": [
            "n\\ATM JJL\n"
          ],
          "name": "stdout"
        },
        {
          "output_type": "error",
          "ename": "KeyboardInterrupt",
          "evalue": "ignored",
          "traceback": [
            "\u001b[0;31m---------------------------------------------------------------------------\u001b[0m",
            "\u001b[0;31mKeyboardInterrupt\u001b[0m                         Traceback (most recent call last)",
            "\u001b[0;32m/usr/local/lib/python3.6/dist-packages/ipykernel/kernelbase.py\u001b[0m in \u001b[0;36m_input_request\u001b[0;34m(self, prompt, ident, parent, password)\u001b[0m\n\u001b[1;32m    728\u001b[0m             \u001b[0;32mtry\u001b[0m\u001b[0;34m:\u001b[0m\u001b[0;34m\u001b[0m\u001b[0;34m\u001b[0m\u001b[0m\n\u001b[0;32m--> 729\u001b[0;31m                 \u001b[0mident\u001b[0m\u001b[0;34m,\u001b[0m \u001b[0mreply\u001b[0m \u001b[0;34m=\u001b[0m \u001b[0mself\u001b[0m\u001b[0;34m.\u001b[0m\u001b[0msession\u001b[0m\u001b[0;34m.\u001b[0m\u001b[0mrecv\u001b[0m\u001b[0;34m(\u001b[0m\u001b[0mself\u001b[0m\u001b[0;34m.\u001b[0m\u001b[0mstdin_socket\u001b[0m\u001b[0;34m,\u001b[0m \u001b[0;36m0\u001b[0m\u001b[0;34m)\u001b[0m\u001b[0;34m\u001b[0m\u001b[0;34m\u001b[0m\u001b[0m\n\u001b[0m\u001b[1;32m    730\u001b[0m             \u001b[0;32mexcept\u001b[0m \u001b[0mException\u001b[0m\u001b[0;34m:\u001b[0m\u001b[0;34m\u001b[0m\u001b[0;34m\u001b[0m\u001b[0m\n",
            "\u001b[0;32m/usr/local/lib/python3.6/dist-packages/jupyter_client/session.py\u001b[0m in \u001b[0;36mrecv\u001b[0;34m(self, socket, mode, content, copy)\u001b[0m\n\u001b[1;32m    802\u001b[0m         \u001b[0;32mtry\u001b[0m\u001b[0;34m:\u001b[0m\u001b[0;34m\u001b[0m\u001b[0;34m\u001b[0m\u001b[0m\n\u001b[0;32m--> 803\u001b[0;31m             \u001b[0mmsg_list\u001b[0m \u001b[0;34m=\u001b[0m \u001b[0msocket\u001b[0m\u001b[0;34m.\u001b[0m\u001b[0mrecv_multipart\u001b[0m\u001b[0;34m(\u001b[0m\u001b[0mmode\u001b[0m\u001b[0;34m,\u001b[0m \u001b[0mcopy\u001b[0m\u001b[0;34m=\u001b[0m\u001b[0mcopy\u001b[0m\u001b[0;34m)\u001b[0m\u001b[0;34m\u001b[0m\u001b[0;34m\u001b[0m\u001b[0m\n\u001b[0m\u001b[1;32m    804\u001b[0m         \u001b[0;32mexcept\u001b[0m \u001b[0mzmq\u001b[0m\u001b[0;34m.\u001b[0m\u001b[0mZMQError\u001b[0m \u001b[0;32mas\u001b[0m \u001b[0me\u001b[0m\u001b[0;34m:\u001b[0m\u001b[0;34m\u001b[0m\u001b[0;34m\u001b[0m\u001b[0m\n",
            "\u001b[0;32m/usr/local/lib/python3.6/dist-packages/zmq/sugar/socket.py\u001b[0m in \u001b[0;36mrecv_multipart\u001b[0;34m(self, flags, copy, track)\u001b[0m\n\u001b[1;32m    565\u001b[0m         \"\"\"\n\u001b[0;32m--> 566\u001b[0;31m         \u001b[0mparts\u001b[0m \u001b[0;34m=\u001b[0m \u001b[0;34m[\u001b[0m\u001b[0mself\u001b[0m\u001b[0;34m.\u001b[0m\u001b[0mrecv\u001b[0m\u001b[0;34m(\u001b[0m\u001b[0mflags\u001b[0m\u001b[0;34m,\u001b[0m \u001b[0mcopy\u001b[0m\u001b[0;34m=\u001b[0m\u001b[0mcopy\u001b[0m\u001b[0;34m,\u001b[0m \u001b[0mtrack\u001b[0m\u001b[0;34m=\u001b[0m\u001b[0mtrack\u001b[0m\u001b[0;34m)\u001b[0m\u001b[0;34m]\u001b[0m\u001b[0;34m\u001b[0m\u001b[0;34m\u001b[0m\u001b[0m\n\u001b[0m\u001b[1;32m    567\u001b[0m         \u001b[0;31m# have first part already, only loop while more to receive\u001b[0m\u001b[0;34m\u001b[0m\u001b[0;34m\u001b[0m\u001b[0;34m\u001b[0m\u001b[0m\n",
            "\u001b[0;32mzmq/backend/cython/socket.pyx\u001b[0m in \u001b[0;36mzmq.backend.cython.socket.Socket.recv\u001b[0;34m()\u001b[0m\n",
            "\u001b[0;32mzmq/backend/cython/socket.pyx\u001b[0m in \u001b[0;36mzmq.backend.cython.socket.Socket.recv\u001b[0;34m()\u001b[0m\n",
            "\u001b[0;32mzmq/backend/cython/socket.pyx\u001b[0m in \u001b[0;36mzmq.backend.cython.socket._recv_copy\u001b[0;34m()\u001b[0m\n",
            "\u001b[0;32m/usr/local/lib/python3.6/dist-packages/zmq/backend/cython/checkrc.pxd\u001b[0m in \u001b[0;36mzmq.backend.cython.checkrc._check_rc\u001b[0;34m()\u001b[0m\n",
            "\u001b[0;31mKeyboardInterrupt\u001b[0m: ",
            "\nDuring handling of the above exception, another exception occurred:\n",
            "\u001b[0;31mKeyboardInterrupt\u001b[0m                         Traceback (most recent call last)",
            "\u001b[0;32m<ipython-input-60-177395fb7223>\u001b[0m in \u001b[0;36m<module>\u001b[0;34m()\u001b[0m\n\u001b[1;32m      6\u001b[0m \u001b[0;32mwhile\u001b[0m \u001b[0;34m(\u001b[0m\u001b[0;32mTrue\u001b[0m\u001b[0;34m)\u001b[0m\u001b[0;34m:\u001b[0m\u001b[0;34m\u001b[0m\u001b[0;34m\u001b[0m\u001b[0m\n\u001b[1;32m      7\u001b[0m   \u001b[0mprint\u001b[0m\u001b[0;34m(\u001b[0m\u001b[0;34m\"n\\ATM JJL\"\u001b[0m\u001b[0;34m)\u001b[0m\u001b[0;34m\u001b[0m\u001b[0;34m\u001b[0m\u001b[0m\n\u001b[0;32m----> 8\u001b[0;31m   \u001b[0macc_no\u001b[0m \u001b[0;34m=\u001b[0m \u001b[0mint\u001b[0m \u001b[0;34m(\u001b[0m\u001b[0minput\u001b[0m\u001b[0;34m(\u001b[0m\u001b[0;34m\"Account No: \"\u001b[0m\u001b[0;34m)\u001b[0m\u001b[0;34m)\u001b[0m\u001b[0;34m\u001b[0m\u001b[0;34m\u001b[0m\u001b[0m\n\u001b[0m\u001b[1;32m      9\u001b[0m   \u001b[0;32mif\u001b[0m \u001b[0;34m(\u001b[0m\u001b[0macc_no\u001b[0m \u001b[0;34m==\u001b[0m \u001b[0;34m-\u001b[0m\u001b[0;36m1\u001b[0m\u001b[0;34m)\u001b[0m\u001b[0;34m:\u001b[0m\u001b[0;34m\u001b[0m\u001b[0;34m\u001b[0m\u001b[0m\n\u001b[1;32m     10\u001b[0m     \u001b[0mprint\u001b[0m\u001b[0;34m(\u001b[0m\u001b[0;34m\"Thank you\"\u001b[0m\u001b[0;34m)\u001b[0m\u001b[0;34m\u001b[0m\u001b[0;34m\u001b[0m\u001b[0m\n",
            "\u001b[0;32m/usr/local/lib/python3.6/dist-packages/ipykernel/kernelbase.py\u001b[0m in \u001b[0;36mraw_input\u001b[0;34m(self, prompt)\u001b[0m\n\u001b[1;32m    702\u001b[0m             \u001b[0mself\u001b[0m\u001b[0;34m.\u001b[0m\u001b[0m_parent_ident\u001b[0m\u001b[0;34m,\u001b[0m\u001b[0;34m\u001b[0m\u001b[0;34m\u001b[0m\u001b[0m\n\u001b[1;32m    703\u001b[0m             \u001b[0mself\u001b[0m\u001b[0;34m.\u001b[0m\u001b[0m_parent_header\u001b[0m\u001b[0;34m,\u001b[0m\u001b[0;34m\u001b[0m\u001b[0;34m\u001b[0m\u001b[0m\n\u001b[0;32m--> 704\u001b[0;31m             \u001b[0mpassword\u001b[0m\u001b[0;34m=\u001b[0m\u001b[0;32mFalse\u001b[0m\u001b[0;34m,\u001b[0m\u001b[0;34m\u001b[0m\u001b[0;34m\u001b[0m\u001b[0m\n\u001b[0m\u001b[1;32m    705\u001b[0m         )\n\u001b[1;32m    706\u001b[0m \u001b[0;34m\u001b[0m\u001b[0m\n",
            "\u001b[0;32m/usr/local/lib/python3.6/dist-packages/ipykernel/kernelbase.py\u001b[0m in \u001b[0;36m_input_request\u001b[0;34m(self, prompt, ident, parent, password)\u001b[0m\n\u001b[1;32m    732\u001b[0m             \u001b[0;32mexcept\u001b[0m \u001b[0mKeyboardInterrupt\u001b[0m\u001b[0;34m:\u001b[0m\u001b[0;34m\u001b[0m\u001b[0;34m\u001b[0m\u001b[0m\n\u001b[1;32m    733\u001b[0m                 \u001b[0;31m# re-raise KeyboardInterrupt, to truncate traceback\u001b[0m\u001b[0;34m\u001b[0m\u001b[0;34m\u001b[0m\u001b[0;34m\u001b[0m\u001b[0m\n\u001b[0;32m--> 734\u001b[0;31m                 \u001b[0;32mraise\u001b[0m \u001b[0mKeyboardInterrupt\u001b[0m\u001b[0;34m\u001b[0m\u001b[0;34m\u001b[0m\u001b[0m\n\u001b[0m\u001b[1;32m    735\u001b[0m             \u001b[0;32melse\u001b[0m\u001b[0;34m:\u001b[0m\u001b[0;34m\u001b[0m\u001b[0;34m\u001b[0m\u001b[0m\n\u001b[1;32m    736\u001b[0m                 \u001b[0;32mbreak\u001b[0m\u001b[0;34m\u001b[0m\u001b[0;34m\u001b[0m\u001b[0m\n",
            "\u001b[0;31mKeyboardInterrupt\u001b[0m: "
          ]
        }
      ]
    },
    {
      "cell_type": "code",
      "metadata": {
        "id": "UrIj4r-KGO_c",
        "colab": {
          "base_uri": "https://localhost:8080/"
        },
        "outputId": "a5d1d1f4-98ae-476e-b574-61cede851e22"
      },
      "source": [
        "product_code = [123, 234, 345]\n",
        "product_name = [\"iPhone 12\", \"Samsung A50\", \"ASUS Laptop\"]\n",
        "price = [1200, 1500, 5000]\n",
        "\n",
        "while (True):\n",
        "  print(\"Welcome to LEO's Store\")\n",
        "  product = int (input(\"Product Code: (0 to exit) \"))\n",
        "  if (product == 0):\n",
        "    print(\"See you!\")\n",
        "    break\n",
        "  if product in product_code:\n",
        "    idx = product_code.index(product)\n",
        "    if (product == product_code[idx]):\n",
        "      print(\"You are buying\", product_name[idx])\n",
        "  quantity = (input(\"Quantity: \"))\n",
        "  print(\"You are buying\", quantity, product_name[idx])\n",
        "  print(\"The price is\", price[idx])\n",
        "  payment = int (input(\"Please input payment: \"))\n",
        "  change = (payment - price[idx])\n",
        "  print(\"Your change is $\", change)\n",
        "  print(\"Thank you!\")\n",
        "  \n",
        "\n"
      ],
      "execution_count": null,
      "outputs": [
        {
          "output_type": "stream",
          "text": [
            "Welcome to LEO's Store\n",
            "Product Code: (0 to exit) 123\n",
            "You are buying iPhone 12\n"
          ],
          "name": "stdout"
        }
      ]
    },
    {
      "cell_type": "markdown",
      "metadata": {
        "id": "g7j5y1lVAIsl"
      },
      "source": [
        "# Day 11"
      ]
    },
    {
      "cell_type": "code",
      "metadata": {
        "id": "h2efdgqmAxH4"
      },
      "source": [
        "x = [5, 3, 4, 2 ,1]\n",
        "print(x)\n",
        "n = len(x)\n",
        "for i in range (n-1):\n",
        "# use this instead of: for i in range (0, n-1) cause it automatically starts at 0\n",
        "  for j in range (i+1, n):\n",
        "    if (x[i] > x[j]):\n",
        "      x[i], x[j] = x[j], x[i]\n",
        "print(x)"
      ],
      "execution_count": null,
      "outputs": []
    },
    {
      "cell_type": "code",
      "metadata": {
        "colab": {
          "base_uri": "https://localhost:8080/"
        },
        "id": "4nKPwSZ3Axen",
        "outputId": "22b172c5-a7ff-441b-b2a3-0bd134a68e40"
      },
      "source": [
        "def sortbyname():\n",
        " n = len(names)\n",
        " for i in range (n-1):\n",
        "  for j in range(i+1, n):\n",
        "    if (names[i]> names[j]):\n",
        "      names [i],names[j] = names[j],names[i]\n",
        "      scores[i],scores[j]=scores[j],scores[i]\n",
        "\n",
        "\n",
        "def sortbyscore():\n",
        "  n=len(scores)\n",
        "  for i in range(n-1):\n",
        "   for j in range(i+1,n):\n",
        "    if (scores[i]<scores[j]):\n",
        "      names [i],names[j] = names[j],names[i]\n",
        "      scores[i],scores[j]=scores[j],scores[i]\n",
        "\n",
        "def printlist():\n",
        "  for i in range(n):\n",
        "    print(i+1, names[i], \" : \",scores[i])\n",
        "\n",
        "names = [\"john\", \"alex\", \"hans\", \"chow\", \"bree\"]\n",
        "scores = [90,60,100,70,80]\n",
        "sortbyname()\n",
        "printlist()\n",
        "print()\n",
        "sortbyscore()\n",
        "printlist()"
      ],
      "execution_count": null,
      "outputs": [
        {
          "output_type": "stream",
          "text": [
            "1 alex  :  60\n",
            "2 bree  :  80\n",
            "3 chow  :  70\n",
            "4 hans  :  100\n",
            "5 john  :  90\n",
            "\n",
            "1 hans  :  100\n",
            "2 john  :  90\n",
            "3 bree  :  80\n",
            "4 chow  :  70\n",
            "5 alex  :  60\n"
          ],
          "name": "stdout"
        }
      ]
    },
    {
      "cell_type": "code",
      "metadata": {
        "colab": {
          "base_uri": "https://localhost:8080/"
        },
        "id": "eGZPqOh4AxoU",
        "outputId": "f82f3787-459a-42b7-b6aa-3b08e8da106d"
      },
      "source": [
        "import random \n",
        "\n",
        "def sortNumber(n):\n",
        "  for i in range(n-1):\n",
        "    for j in range (i+1,n):\n",
        "      if (num[i] > num[j]):\n",
        "        num[i], num[j] = num[j], num[i]\n",
        "\n",
        "def printlist(n):\n",
        "  for i in range(n):\n",
        "    print(num[i], end= ' ')\n",
        "  print()\n",
        "\n",
        "def generateNum(n):\n",
        "  for i in range (n):\n",
        "    num[i] = random.randint(0,n)\n",
        "\n",
        "n = 1000\n",
        "num = [0] * n\n",
        "generateNum(n)\n",
        "printlist(n)\n",
        "sortNumber(n)\n",
        "printlist(n)"
      ],
      "execution_count": null,
      "outputs": [
        {
          "output_type": "stream",
          "text": [
            "778 100 724 76 710 275 674 763 381 689 634 206 305 301 220 441 373 839 91 36 532 953 651 649 672 371 366 457 230 600 899 728 178 650 325 497 539 274 663 16 505 843 919 181 30 719 977 882 273 729 502 246 191 494 536 739 141 211 968 318 683 925 339 184 597 729 2 436 882 596 832 943 106 989 703 6 987 385 17 439 616 776 423 721 232 739 225 892 88 383 574 537 988 129 568 482 998 67 782 695 806 233 571 416 442 298 926 709 860 472 198 476 739 952 344 176 711 361 619 326 710 301 665 928 485 443 569 153 542 494 670 178 535 446 384 409 723 594 847 669 651 84 995 765 94 644 523 247 199 735 41 256 512 538 756 205 231 654 253 126 367 871 573 73 243 431 655 923 721 568 294 584 934 278 444 851 364 988 841 897 342 552 761 625 517 441 844 109 892 555 387 636 628 375 459 354 42 823 99 543 898 77 624 839 526 5 283 915 326 994 832 715 118 998 742 805 402 25 207 465 205 383 489 790 226 248 243 424 447 6 965 102 848 829 349 234 744 365 46 38 928 634 851 842 827 36 752 161 255 25 863 627 172 584 265 801 512 446 144 243 139 423 895 142 426 251 319 986 310 209 951 639 785 843 306 58 79 845 833 264 165 478 63 501 534 466 625 87 918 37 546 321 17 819 278 170 576 175 987 229 190 63 331 762 212 518 603 617 501 146 988 618 567 429 509 287 431 870 600 717 154 486 810 180 586 981 264 312 51 516 731 281 557 654 374 553 284 506 39 206 599 110 877 140 397 295 486 206 52 835 76 545 467 752 557 234 112 700 161 395 115 650 188 816 905 899 447 840 277 327 910 160 241 618 179 729 552 295 417 235 367 160 487 688 12 200 325 467 776 126 80 706 281 130 977 214 472 147 430 327 382 15 734 434 7 289 720 912 708 707 910 195 189 274 998 591 20 555 752 492 823 640 251 476 948 187 301 590 593 878 926 362 794 12 637 223 911 23 486 190 913 168 100 535 775 2 852 640 110 500 910 674 553 838 613 75 449 127 555 879 958 242 967 535 399 74 309 953 32 129 325 646 943 427 125 485 688 699 516 829 887 97 113 398 131 290 852 693 543 735 424 725 61 884 887 792 725 146 54 440 796 876 166 742 761 121 506 597 771 330 79 770 115 792 740 68 86 14 47 781 9 722 851 325 767 617 921 118 326 240 700 581 97 839 48 756 6 161 221 605 486 113 294 665 992 920 554 494 608 514 685 256 893 62 220 529 764 89 357 566 232 618 831 214 534 532 117 309 540 371 161 996 365 209 349 744 955 976 807 860 987 767 113 299 528 294 135 869 881 302 966 999 375 565 19 306 719 368 682 620 882 420 963 705 537 421 951 3 528 792 14 922 480 266 327 578 489 576 57 186 39 550 373 206 534 373 342 644 107 65 468 47 289 855 694 670 95 336 196 778 81 881 459 811 278 748 462 617 475 702 256 210 615 575 836 575 989 570 364 782 194 84 984 602 327 171 840 332 91 771 873 518 134 364 668 730 874 844 599 652 522 924 719 400 840 17 937 438 691 25 775 616 942 141 225 538 386 155 418 196 876 417 246 324 754 75 258 156 895 905 728 710 363 705 664 460 967 767 724 477 751 940 874 848 573 248 103 323 706 548 904 140 1000 714 382 970 965 712 372 6 440 101 180 557 968 51 513 267 156 637 297 162 822 474 336 342 190 62 540 565 481 762 514 380 305 921 736 293 458 740 84 199 654 281 21 739 945 237 441 609 198 161 226 564 396 144 458 801 533 629 303 919 358 485 196 327 272 387 369 880 704 420 9 627 896 842 960 937 670 454 531 999 977 639 678 522 74 24 623 950 603 957 123 240 667 521 871 169 370 290 955 126 914 85 294 377 288 798 989 626 607 116 641 167 438 263 248 339 48 966 193 637 563 623 334 556 663 585 981 432 873 980 647 86 505 965 583 939 472 549 583 628 114 593 67 669 23 336 94 905 57 792 450 486 736 846 442 376 673 713 245 406 981 880 912 339 128 448 468 435 355 326 296 228 14 214 20 825 867 560 716 7 390 985 963 23 177 421 34 712 706 137 219 189 804 101 15 827 801 268 474 473 405 626 457 458 433 922 646 468 229 800 940 150 236 299 294 954 477 238 678 311 465 888 442 954 595 539 386 538 426 585 628 965 215 6 683 680 536 489 159 103 719 966 125 756 15 232 604 147 214 145 10 783 324 112 316 53 66 547 218 724 775 921 240 354 191 119 873 473 \n",
            "2 2 3 5 6 6 6 6 6 7 7 9 9 10 12 12 14 14 14 15 15 15 16 17 17 17 19 20 20 21 23 23 23 24 25 25 25 30 32 34 36 36 37 38 39 39 41 42 46 47 47 48 48 51 51 52 53 54 57 57 58 61 62 62 63 63 65 66 67 67 68 73 74 74 75 75 76 76 77 79 79 80 81 84 84 84 85 86 86 87 88 89 91 91 94 94 95 97 97 99 100 100 101 101 102 103 103 106 107 109 110 110 112 112 113 113 113 114 115 115 116 117 118 118 119 121 123 125 125 126 126 126 127 128 129 129 130 131 134 135 137 139 140 140 141 141 142 144 144 145 146 146 147 147 150 153 154 155 156 156 159 160 160 161 161 161 161 161 162 165 166 167 168 169 170 171 172 175 176 177 178 178 179 180 180 181 184 186 187 188 189 189 190 190 190 191 191 193 194 195 196 196 196 198 198 199 199 200 205 205 206 206 206 206 207 209 209 210 211 212 214 214 214 214 215 218 219 220 220 221 223 225 225 226 226 228 229 229 230 231 232 232 232 233 234 234 235 236 237 238 240 240 240 241 242 243 243 243 245 246 246 247 248 248 248 251 251 253 255 256 256 256 258 263 264 264 265 266 267 268 272 273 274 274 275 277 278 278 278 281 281 281 283 284 287 288 289 289 290 290 293 294 294 294 294 294 295 295 296 297 298 299 299 301 301 301 302 303 305 305 306 306 309 309 310 311 312 316 318 319 321 323 324 324 325 325 325 325 326 326 326 326 327 327 327 327 327 330 331 332 334 336 336 336 339 339 339 342 342 342 344 349 349 354 354 355 357 358 361 362 363 364 364 364 365 365 366 367 367 368 369 370 371 371 372 373 373 373 374 375 375 376 377 380 381 382 382 383 383 384 385 386 386 387 387 390 395 396 397 398 399 400 402 405 406 409 416 417 417 418 420 420 421 421 423 423 424 424 426 426 427 429 430 431 431 432 433 434 435 436 438 438 439 440 440 441 441 441 442 442 442 443 444 446 446 447 447 448 449 450 454 457 457 458 458 458 459 459 460 462 465 465 466 467 467 468 468 468 472 472 472 473 473 474 474 475 476 476 477 477 478 480 481 482 485 485 485 486 486 486 486 486 487 489 489 489 492 494 494 494 497 500 501 501 502 505 505 506 506 509 512 512 513 514 514 516 516 517 518 518 521 522 522 523 526 528 528 529 531 532 532 533 534 534 534 535 535 535 536 536 537 537 538 538 538 539 539 540 540 542 543 543 545 546 547 548 549 550 552 552 553 553 554 555 555 555 556 557 557 557 560 563 564 565 565 566 567 568 568 569 570 571 573 573 574 575 575 576 576 578 581 583 583 584 584 585 585 586 590 591 593 593 594 595 596 597 597 599 599 600 600 602 603 603 604 605 607 608 609 613 615 616 616 617 617 617 618 618 618 619 620 623 623 624 625 625 626 626 627 627 628 628 628 629 634 634 636 637 637 637 639 639 640 640 641 644 644 646 646 647 649 650 650 651 651 652 654 654 654 655 663 663 664 665 665 667 668 669 669 670 670 670 672 673 674 674 678 678 680 682 683 683 685 688 688 689 691 693 694 695 699 700 700 702 703 704 705 705 706 706 706 707 708 709 710 710 710 711 712 712 713 714 715 716 717 719 719 719 719 720 721 721 722 723 724 724 724 725 725 728 728 729 729 729 730 731 734 735 735 736 736 739 739 739 739 740 740 742 742 744 744 748 751 752 752 752 754 756 756 756 761 761 762 762 763 764 765 767 767 767 770 771 771 775 775 775 776 776 778 778 781 782 782 783 785 790 792 792 792 792 794 796 798 800 801 801 801 804 805 806 807 810 811 816 819 822 823 823 825 827 827 829 829 831 832 832 833 835 836 838 839 839 839 840 840 840 841 842 842 843 843 844 844 845 846 847 848 848 851 851 851 852 852 855 860 860 863 867 869 870 871 871 873 873 873 874 874 876 876 877 878 879 880 880 881 881 882 882 882 884 887 887 888 892 892 893 895 895 896 897 898 899 899 904 905 905 905 910 910 910 911 912 912 913 914 915 918 919 919 920 921 921 921 922 922 923 924 925 926 926 928 928 934 937 937 939 940 940 942 943 943 945 948 950 951 951 952 953 953 954 954 955 955 957 958 960 963 963 965 965 965 965 966 966 966 967 967 968 968 970 976 977 977 977 980 981 981 981 984 985 986 987 987 987 988 988 988 989 989 989 992 994 995 996 998 998 998 999 999 1000 \n"
          ],
          "name": "stdout"
        }
      ]
    },
    {
      "cell_type": "markdown",
      "metadata": {
        "id": "hVllS2oiCciN"
      },
      "source": [
        "# EXAM TERM 1\n",
        "\n",
        "\n",
        "\n"
      ]
    },
    {
      "cell_type": "code",
      "metadata": {
        "colab": {
          "base_uri": "https://localhost:8080/"
        },
        "id": "Q7ExL-t9E6C7",
        "outputId": "cdbf4cda-dbd9-4a2e-9c58-de665aefcb76"
      },
      "source": [
        "score = 75.6\n",
        "if ( score >= 80 ):\n",
        "  print (\"grade A\")\n",
        "elif ( score >= 60 ):\n",
        "  print (\"grade B\")\n",
        "elif ( score >= 40 ):\n",
        "  print (\"grade C\")\n",
        "elif ( score >= 20 ):\n",
        "  print (\"grade D\")\n",
        "else:\n",
        "  print (\"grade E\")"
      ],
      "execution_count": null,
      "outputs": [
        {
          "output_type": "stream",
          "text": [
            "grade B\n"
          ],
          "name": "stdout"
        }
      ]
    },
    {
      "cell_type": "code",
      "metadata": {
        "colab": {
          "base_uri": "https://localhost:8080/"
        },
        "id": "R6pURJicFrDO",
        "outputId": "d4b8b0a4-c7e6-4b2b-de8b-015a38451fd6"
      },
      "source": [
        "date = int(input(\"date: \"))\n",
        "plate = int(input(\"input plate number:\"))\n",
        "result = plate - date\n",
        "num = result%2\n",
        "if (num == 0):\n",
        "  print (\"You may pass the road\")\n",
        "elif (num == 1):\n",
        "  print (\"You may not pass the road\")\n"
      ],
      "execution_count": null,
      "outputs": [
        {
          "output_type": "stream",
          "text": [
            "date: 12\n",
            "input plate number:111\n",
            "You may not pass the road\n"
          ],
          "name": "stdout"
        }
      ]
    },
    {
      "cell_type": "code",
      "metadata": {
        "colab": {
          "base_uri": "https://localhost:8080/"
        },
        "id": "cA3FrbVQIJD1",
        "outputId": "c6193929-8dbb-4080-e02a-364df4fa60c1"
      },
      "source": [
        "i = 0\n",
        "n = int (input(\"n: \" ))\n",
        "while (i < n):\n",
        "    print (3 ** i, end = \" \")\n",
        "    i = i + 1"
      ],
      "execution_count": null,
      "outputs": [
        {
          "output_type": "stream",
          "text": [
            "n: 2\n",
            "1 3 "
          ],
          "name": "stdout"
        }
      ]
    },
    {
      "cell_type": "code",
      "metadata": {
        "colab": {
          "base_uri": "https://localhost:8080/"
        },
        "id": "ANLeJBeePdn3",
        "outputId": "660c6a69-32bb-4924-ebf3-6ef00e7b9a1d"
      },
      "source": [
        "n = int (input(\"value n: \"))\n",
        "for i in range (n):\n",
        "  for j in range (n):\n",
        "    print(i+1+(2*j), end= \" \")\n",
        "  print()\n",
        "print()"
      ],
      "execution_count": null,
      "outputs": [
        {
          "output_type": "stream",
          "text": [
            "value n: 5\n",
            "1 3 5 7 9 \n",
            "2 4 6 8 10 \n",
            "3 5 7 9 11 \n",
            "4 6 8 10 12 \n",
            "5 7 9 11 13 \n",
            "\n"
          ],
          "name": "stdout"
        }
      ]
    },
    {
      "cell_type": "code",
      "metadata": {
        "id": "7kjA3R-TAx7k",
        "colab": {
          "base_uri": "https://localhost:8080/"
        },
        "outputId": "47505ddf-1af5-434d-8cee-a30aef5c17f4"
      },
      "source": [
        "country = [\"USA\",\"India\",\"Brazil\",\"Russia\",\"France\"]\n",
        "cases = [19.57, 10.20, 7.48, 3.05, 2.56]\n",
        "idx = int (input(\"rank: \"))\n",
        "\n",
        "print(\"country:\", country[idx-1])\n",
        "print(\"cases:\", cases[idx-1], \"million\")\n",
        "\n"
      ],
      "execution_count": null,
      "outputs": [
        {
          "output_type": "stream",
          "text": [
            "rank: 2\n",
            "country: India\n",
            "cases: 10.2 million\n"
          ],
          "name": "stdout"
        }
      ]
    },
    {
      "cell_type": "markdown",
      "metadata": {
        "id": "cdS1RvrEoNh2"
      },
      "source": [
        "# Day 1 TERM 2"
      ]
    },
    {
      "cell_type": "code",
      "metadata": {
        "colab": {
          "base_uri": "https://localhost:8080/"
        },
        "id": "w76e4EULofrl",
        "outputId": "9559ff5f-021b-49c9-d042-23d36f84e725"
      },
      "source": [
        "c1 = True\n",
        "c2 = True\n",
        "c3 = True\n",
        "c4 = True\n",
        "c5 = True\n",
        "\n",
        "\n",
        "\n",
        "if (c1):\n",
        "  if (c2):\n",
        "    if (c3):\n",
        "      print(\"A\")\n",
        "    else:\n",
        "      print(\"b\")\n",
        "  else:\n",
        "    print(\"c\")\n",
        "elif (c4):\n",
        "    if (c5):\n",
        "      print(\"d\")\n",
        "else: \n",
        "  print(\"e\")\n",
        "print(\"done\")\n"
      ],
      "execution_count": null,
      "outputs": [
        {
          "output_type": "stream",
          "text": [
            "A\n",
            "done\n"
          ],
          "name": "stdout"
        }
      ]
    },
    {
      "cell_type": "code",
      "metadata": {
        "colab": {
          "base_uri": "https://localhost:8080/"
        },
        "id": "uFn4n2gB6hwI",
        "outputId": "d3854763-0877-4a85-b51e-6b93a7fa86fd"
      },
      "source": [
        "score = int (input(\"score: \"))\n",
        "if (100 >= score >= 0):\n",
        "  print(\"valid score\")\n",
        "else:\n",
        "  print(\"invalid score\")\n"
      ],
      "execution_count": null,
      "outputs": [
        {
          "output_type": "stream",
          "text": [
            "score: 30\n",
            "valid score\n"
          ],
          "name": "stdout"
        }
      ]
    },
    {
      "cell_type": "code",
      "metadata": {
        "colab": {
          "base_uri": "https://localhost:8080/"
        },
        "id": "Kzk-g0Na8zPq",
        "outputId": "f4133a65-7a22-4bc7-9e22-540e8d0e12d1"
      },
      "source": [
        "englishscore = int (input(\"english score: \"))\n",
        "mathscore = int (input(\"math score: \"))\n",
        "physicsscore = int (input(\"physics score: \"))\n",
        "average = (englishscore + mathscore + physicsscore)/3\n",
        "print(\"average score: \",average)\n",
        "\n",
        "if (englishscore >= 85 and mathscore >= 90 and physicsscore >= 75 and average >= 80):\n",
        "  print(\"passed\")\n",
        "else:\n",
        "  print(\"failed\")\n",
        "\n",
        "\n",
        "\n",
        "\n",
        "\n"
      ],
      "execution_count": null,
      "outputs": [
        {
          "output_type": "stream",
          "text": [
            "english score: 100\n",
            "math score: 90\n",
            "physics score: 90\n",
            "average score:  93.33333333333333\n",
            "passed\n"
          ],
          "name": "stdout"
        }
      ]
    },
    {
      "cell_type": "code",
      "metadata": {
        "colab": {
          "base_uri": "https://localhost:8080/"
        },
        "id": "RFpppuhF9xFI",
        "outputId": "eb9064bd-304e-42d3-81e2-d270048b08b1"
      },
      "source": [
        "score = input(\"score(0-100) = \")\n",
        "if (score.isdigit()):\n",
        "  score = int(score)\n",
        "  if (score >= 0 and score <= 100):\n",
        "    print(\"This is a valid score\")\n",
        "  elif (score >= 0):\n",
        "    print(\"score must be less than or equal to 100\")\n",
        "  elif (score <= 100):\n",
        "    print(\"score must be greater than or equal to 0\")\n",
        "else:\n",
        "  if (\".\" in score):\n",
        "    score = float(score)\n",
        "    if (score >= 0 and score <= 100):\n",
        "      print(\"This is a valid score\")\n",
        "    elif (score >= 0):\n",
        "      print(\"score must be less than or equal to 100\")\n",
        "    elif (score <= 100):\n",
        "      print(\"score must be greater than or equal to 0\")\n",
        "  else:\n",
        "    print(\"score must be a number\")\n",
        "\n"
      ],
      "execution_count": null,
      "outputs": [
        {
          "output_type": "stream",
          "text": [
            "score(0-100) = 100\n",
            "This is a valid score\n"
          ],
          "name": "stdout"
        }
      ]
    },
    {
      "cell_type": "markdown",
      "metadata": {
        "id": "-_ruzoLpCmag"
      },
      "source": [
        "# Day 2\n"
      ]
    },
    {
      "cell_type": "code",
      "metadata": {
        "colab": {
          "base_uri": "https://localhost:8080/"
        },
        "id": "KyOHtnMqCp4O",
        "outputId": "464a7a7d-92d4-40d6-d193-ec4e12e7b996"
      },
      "source": [
        "import random\n",
        "n = 5\n",
        "m = 7\n",
        "for i in range(n):\n",
        "  print(i+1, end=\" - \")\n",
        "  while True:\n",
        "    num = random.randint(1,9)\n",
        "    print(num, end=\" \")\n",
        "    if (num == m):\n",
        "      break\n",
        "  print()"
      ],
      "execution_count": null,
      "outputs": [
        {
          "output_type": "stream",
          "text": [
            "1 - 1 7 \n",
            "2 - 5 5 5 9 4 1 5 6 1 1 9 4 4 1 4 1 2 9 4 8 5 5 5 8 7 \n",
            "3 - 7 \n",
            "4 - 9 1 1 7 \n",
            "5 - 2 8 2 8 1 4 9 3 2 5 1 5 9 9 9 8 7 \n"
          ],
          "name": "stdout"
        }
      ]
    },
    {
      "cell_type": "code",
      "metadata": {
        "colab": {
          "base_uri": "https://localhost:8080/"
        },
        "id": "l6JDoiZZEL_I",
        "outputId": "3db9e36a-0cb8-4bf4-9e80-354add062bb3"
      },
      "source": [
        "lev = 3\n",
        "row = 2\n",
        "col = 5\n",
        "for l in range (lev):\n",
        "  for r in range (row):\n",
        "    for c in range (col):\n",
        "      print(r+c+l, end=' ')\n",
        "    print()\n",
        "  print()\n",
        "  "
      ],
      "execution_count": null,
      "outputs": [
        {
          "output_type": "stream",
          "text": [
            "0 1 2 3 4 \n",
            "1 2 3 4 5 \n",
            "\n",
            "1 2 3 4 5 \n",
            "2 3 4 5 6 \n",
            "\n",
            "2 3 4 5 6 \n",
            "3 4 5 6 7 \n",
            "\n"
          ],
          "name": "stdout"
        }
      ]
    },
    {
      "cell_type": "code",
      "metadata": {
        "colab": {
          "base_uri": "https://localhost:8080/"
        },
        "id": "ZLfQHp-CKZj9",
        "outputId": "23ec15a1-c1df-4562-f851-11f83e3c03e0"
      },
      "source": [
        "table = [\n",
        "          [\n",
        "             [3,2,1,0,10,4,6,7],\n",
        "             [3,1,1,1,7,5,2,4],\n",
        "             [3,1,2,1,8,6,2,5],\n",
        "             [3,0,1,2,6,10,-14,1]\n",
        "          ],\n",
        "          [\n",
        "             [3,2,1,0,10,4,6,7],\n",
        "             [3,1,1,1,7,5,2,4],\n",
        "             [3,1,2,1,8,6,2,5],\n",
        "             [3,0,1,2,6,10,-14,1]\n",
        "         ],\n",
        "         [\n",
        "             [3,2,1,0,10,4,6,7],\n",
        "             [3,1,1,1,7,5,2,4],\n",
        "             [3,1,2,1,8,6,2,5],\n",
        "             [3,0,1,2,6,10,-14,1]\n",
        "         ] \n",
        "       ]\n",
        "\n",
        "teams = [\n",
        "        [\"Italy\", \"Switzerland\", \"Turkey\", \"Wales\"],   \n",
        "        [\"Belgium\", \"Denmark\", \"Finland\", \"Russia\"],  \n",
        "        [\"Austria\", \"Netherland\", \"North Macedonia\", \"Ukraine\"]     \n",
        "        ] \n",
        "ng = 3\n",
        "nt = 4\n",
        "nc = 8\n",
        "for g in range(ng):\n",
        "  print(\"Group \",end = chr(g+65))\n",
        "  print(\"                             MP    W     D     L    GF    GA    GD    PTS\")\n",
        "  for t in range(nt):\n",
        "    print( format(teams[g][t], \"25s\"), end=\"\\t\")\n",
        "    for c in range(nc):\n",
        "      num = table [g][t][c]\n",
        "      print( format(num,\"5d\"), end =\" \")\n",
        "    print()\n",
        "  print()"
      ],
      "execution_count": null,
      "outputs": [
        {
          "output_type": "stream",
          "text": [
            "Group A                             MP    W     D     L    GF    GA    GD    PTS\n",
            "Italy                    \t    3     2     1     0    10     4     6     7 \n",
            "Switzerland              \t    3     1     1     1     7     5     2     4 \n",
            "Turkey                   \t    3     1     2     1     8     6     2     5 \n",
            "Wales                    \t    3     0     1     2     6    10   -14     1 \n",
            "\n",
            "Group B                             MP    W     D     L    GF    GA    GD    PTS\n",
            "Belgium                  \t    3     2     1     0    10     4     6     7 \n",
            "Denmark                  \t    3     1     1     1     7     5     2     4 \n",
            "Finland                  \t    3     1     2     1     8     6     2     5 \n",
            "Russia                   \t    3     0     1     2     6    10   -14     1 \n",
            "\n",
            "Group C                             MP    W     D     L    GF    GA    GD    PTS\n",
            "Austria                  \t    3     2     1     0    10     4     6     7 \n",
            "Netherland               \t    3     1     1     1     7     5     2     4 \n",
            "North Macedonia          \t    3     1     2     1     8     6     2     5 \n",
            "Ukraine                  \t    3     0     1     2     6    10   -14     1 \n",
            "\n"
          ],
          "name": "stdout"
        }
      ]
    },
    {
      "cell_type": "code",
      "metadata": {
        "id": "htG4SVZXF_qi",
        "colab": {
          "base_uri": "https://localhost:8080/"
        },
        "outputId": "58083929-8662-4d29-8266-30deb0981ece"
      },
      "source": [
        "table = [\n",
        "          [\n",
        "            [ 3, 2, 1, 0, 10, 4, 0, 0],\n",
        "            [ 3, 2, 1, 1, 7, 5, 0, 0],\n",
        "            [ 3, 2, 1, 1, 8, 6, 0, 0],\n",
        "            [ 3, 0, 1, 2, 6, 10, 0, 0]\n",
        "          ],\n",
        "          [\n",
        "            [ 3, 2, 1, 0, 10, 4, 0, 0],\n",
        "            [ 3, 2, 1, 1, 7, 5, 0, 0],\n",
        "            [ 3, 2, 1, 1, 8, 6, 0, 0],\n",
        "            [ 3, 0, 1, 2, 6, 10, 0, 0]\n",
        "          ],\n",
        "          [\n",
        "            [ 3, 2, 1, 0, 10, 4, 0, 0],\n",
        "            [ 3, 2, 1, 1, 7, 5, 0, 0],\n",
        "            [ 3, 2, 1, 1, 8, 6, 0, 0],\n",
        "            [ 3, 0, 1, 2, 6, 10, 0, 0]\n",
        "          ] \n",
        "        ]\n",
        "\n",
        "teams = [\n",
        "        [\"Italy\", \"Switzerland\", \"Turkey\", \"Wales\"],\n",
        "        [\"Belgium\", \"Denmark\", \"Finland\", \"Russia\"],\n",
        "        [\"Austria\", \"Netherkabd\", \"North Macedonia\", \"Ukraine\"]\n",
        "        ]\n",
        "ng = 3\n",
        "nt = 4\n",
        "nc = 8\n",
        "for g in range(ng):\n",
        "  print(\"Group\", chr(g+65), end= \"\\t\\t\\t\") #chr converts num to letter using the ascii code\n",
        "  print(\"      MP    W     D     L    GF    GA    GD    Pts\")\n",
        "  for t in range(nt):\n",
        "    print( format(teams[g][t], \"25s\"), end=\" \") \n",
        "    table[g][t][0] = table[g][t][1] + table[g][t][2] + table[g][t][3]\n",
        "    table[g][t][6] = table[g][t][4] - table[g][t][5]\n",
        "    table[g][t][7] = table[g][t][1] * 3 + table[g][t][2]\n",
        "    for c in range(nc):\n",
        "      num = table[g][t][c]\n",
        "      print( format(num,\"5d\"), end= \" \")\n",
        "    print()\n",
        "  print()"
      ],
      "execution_count": null,
      "outputs": [
        {
          "output_type": "stream",
          "text": [
            "Group A\t\t\t      MP    W     D     L    GF    GA    GD    Pts\n",
            "Italy                         3     2     1     0    10     4     6     7 \n",
            "Switzerland                   4     2     1     1     7     5     2     7 \n",
            "Turkey                        4     2     1     1     8     6     2     7 \n",
            "Wales                         3     0     1     2     6    10    -4     1 \n",
            "\n",
            "Group B\t\t\t      MP    W     D     L    GF    GA    GD    Pts\n",
            "Belgium                       3     2     1     0    10     4     6     7 \n",
            "Denmark                       4     2     1     1     7     5     2     7 \n",
            "Finland                       4     2     1     1     8     6     2     7 \n",
            "Russia                        3     0     1     2     6    10    -4     1 \n",
            "\n",
            "Group C\t\t\t      MP    W     D     L    GF    GA    GD    Pts\n",
            "Austria                       3     2     1     0    10     4     6     7 \n",
            "Netherkabd                    4     2     1     1     7     5     2     7 \n",
            "North Macedonia               4     2     1     1     8     6     2     7 \n",
            "Ukraine                       3     0     1     2     6    10    -4     1 \n",
            "\n"
          ],
          "name": "stdout"
        }
      ]
    },
    {
      "cell_type": "code",
      "metadata": {
        "colab": {
          "base_uri": "https://localhost:8080/"
        },
        "id": "mNzxhkjTDJDB",
        "outputId": "47a3644d-f964-4c5f-c603-aec2a052bc19"
      },
      "source": [
        "table = [ \n",
        "          [\n",
        "            [ 0, 2, 1, 0, 10, 4, 0, 0 ],\n",
        "            [ 0, 1, 1, 1,  7, 5, 0, 0 ],\n",
        "            [ 0, 1, 2, 1,  8, 6, 0, 0 ],\n",
        "            [ 0, 0, 1, 2,  6,10, 0, 0 ]\n",
        "          ],\n",
        "          [ \n",
        "            [ 0, 2, 1, 0, 10, 4, 0, 0 ],\n",
        "            [ 0, 1, 1, 1,  7, 5, 0, 0 ],\n",
        "            [ 0, 1, 2, 1,  8, 6, 0, 0 ],\n",
        "            [ 0, 0, 1, 2,  6,10, 0, 0 ]\n",
        "          ],\n",
        "          [ \n",
        "            [ 0, 2, 1, 0, 10, 4, 0, 0 ],\n",
        "            [ 0, 1, 1, 1,  7, 5, 0, 0 ],\n",
        "            [ 0, 1, 2, 1,  8, 6, 0, 0 ],\n",
        "            [ 0, 0, 1, 2,  6,10, 0, 0 ]\n",
        "          ],\n",
        "          [ \n",
        "            [ 0, 2, 1, 0, 10, 4, 0, 0 ],\n",
        "            [ 0, 1, 1, 1,  7, 5, 0, 0 ],\n",
        "            [ 0, 1, 2, 1,  8, 6, 0, 0 ],\n",
        "            [ 0, 0, 1, 2,  6,10, 0, 0 ]\n",
        "          ],\n",
        "          [ \n",
        "            [ 0, 2, 1, 0, 10, 4, 0, 0 ],\n",
        "            [ 0, 1, 1, 1,  7, 5, 0, 0 ],\n",
        "            [ 0, 1, 2, 1,  8, 6, 0, 0 ],\n",
        "            [ 0, 0, 1, 2,  6,10, 0, 0 ]\n",
        "          ],\n",
        "          [ \n",
        "            [ 0, 2, 1, 0, 10, 4, 0, 0 ],\n",
        "            [ 0, 1, 1, 1,  7, 5, 0, 0 ],\n",
        "            [ 0, 1, 2, 1,  8, 6, 0, 0 ],\n",
        "            [ 0, 0, 1, 2,  6,10, 0, 0 ]\n",
        "          ],\n",
        "        ]\n",
        "teams = [\n",
        "          [\"Italy\",   \"Switzerland\",    \"Turkey\",          \"Wales\"  ],\n",
        "          [\"Belgium\", \"Denmark\",        \"Finland\",         \"Russia\" ],\n",
        "          [\"Austria\", \"Netherland\",     \"North Macedonia\", \"Ukraine\"],\n",
        "          [\"Croatia\", \"Czech Republic\", \"England\",         \"Scotland\"],\n",
        "          [\"Poland\",  \"Slovakia\",       \"Spain\",           \"Sweden\"  ],\n",
        "          [\"France\",  \"Germany\",        \"Hungary\",         \"Portugal\"]\n",
        "        ]\n",
        "ng = 6\n",
        "nt = 4\n",
        "nc = 8\n",
        "for g in range(ng):\n",
        "  print(\"Group\", chr(g+65), end=\"\\t\\t\\t\")\n",
        "  print(\"      MP    W     D     L    GF    GA    GD    Pts\")\n",
        "  for t in range (nt):\n",
        "    print( format(teams[g][t], \"25s\"), end =\" \")\n",
        "    table[g][t][0] = table[g][t][1] + table[g][t][2] + table[g][t][3]\n",
        "    table[g][t][6] = table[g][t][4] - table[g][t][5]\n",
        "    table[g][t][7] = table[g][t][1] * 3 + table[g][t][2]\n",
        "    for c in range (nc):\n",
        "      num = table[g][t][c]\n",
        "      print( format(num,\"5d\"), end=\" \")\n",
        "    print()\n",
        "  print()"
      ],
      "execution_count": null,
      "outputs": [
        {
          "output_type": "stream",
          "text": [
            "Group A\t\t\t      MP    W     D     L    GF    GA    GD    Pts\n",
            "Italy                         3     2     1     0    10     4     6     7 \n",
            "Switzerland                   3     1     1     1     7     5     2     4 \n",
            "Turkey                        4     1     2     1     8     6     2     5 \n",
            "Wales                         3     0     1     2     6    10    -4     1 \n",
            "\n",
            "Group B\t\t\t      MP    W     D     L    GF    GA    GD    Pts\n",
            "Belgium                       3     2     1     0    10     4     6     7 \n",
            "Denmark                       3     1     1     1     7     5     2     4 \n",
            "Finland                       4     1     2     1     8     6     2     5 \n",
            "Russia                        3     0     1     2     6    10    -4     1 \n",
            "\n",
            "Group C\t\t\t      MP    W     D     L    GF    GA    GD    Pts\n",
            "Austria                       3     2     1     0    10     4     6     7 \n",
            "Netherland                    3     1     1     1     7     5     2     4 \n",
            "North Macedonia               4     1     2     1     8     6     2     5 \n",
            "Ukraine                       3     0     1     2     6    10    -4     1 \n",
            "\n",
            "Group D\t\t\t      MP    W     D     L    GF    GA    GD    Pts\n",
            "Croatia                       3     2     1     0    10     4     6     7 \n",
            "Czech Republic                3     1     1     1     7     5     2     4 \n",
            "England                       4     1     2     1     8     6     2     5 \n",
            "Scotland                      3     0     1     2     6    10    -4     1 \n",
            "\n",
            "Group E\t\t\t      MP    W     D     L    GF    GA    GD    Pts\n",
            "Poland                        3     2     1     0    10     4     6     7 \n",
            "Slovakia                      3     1     1     1     7     5     2     4 \n",
            "Spain                         4     1     2     1     8     6     2     5 \n",
            "Sweden                        3     0     1     2     6    10    -4     1 \n",
            "\n",
            "Group F\t\t\t      MP    W     D     L    GF    GA    GD    Pts\n",
            "France                        3     2     1     0    10     4     6     7 \n",
            "Germany                       3     1     1     1     7     5     2     4 \n",
            "Hungary                       4     1     2     1     8     6     2     5 \n",
            "Portugal                      3     0     1     2     6    10    -4     1 \n",
            "\n"
          ],
          "name": "stdout"
        }
      ]
    },
    {
      "cell_type": "markdown",
      "metadata": {
        "id": "H4iFFTuQA90t"
      },
      "source": [
        "# Day 3\n",
        "\n"
      ]
    },
    {
      "cell_type": "code",
      "metadata": {
        "colab": {
          "base_uri": "https://localhost:8080/"
        },
        "id": "-00OoUbvBBw7",
        "outputId": "ed11a0a3-b241-45b2-e9fa-7fe2205aea15"
      },
      "source": [
        "teams = [\n",
        "          [\"Italy\",   \"Switzerland\",    \"Turkey\",          \"Wales\"  ],\n",
        "          [\"Belgium\", \"Denmark\",        \"Finland\",         \"Russia\" ],\n",
        "          [\"Austria\", \"Netherland\",     \"North Macedonia\", \"Ukraine\"],\n",
        "          [\"Croatia\", \"Czech Republic\", \"England\",         \"Scotland\"],\n",
        "          [\"Poland\",  \"Slovakia\",       \"Spain\",           \"Sweden\"  ],\n",
        "          [\"France\",  \"Germany\",        \"Hungary\",         \"Portugal\"]\n",
        "        ]\n",
        "\n",
        "import random \n",
        "ng,nt,nc = 6,4,8\n",
        "table = [[[0 for c in range(nc)]\n",
        "             for t in range(nt)]\n",
        "             for g in range(ng)]\n",
        "for g in range(ng):\n",
        "  for t1 in range(nt - 1):\n",
        "    for t2 in range(t1+1, nt):\n",
        "      gt1 = random.randint(0,8)\n",
        "      gt2 = random.randint(0,8)\n",
        "      print(teams[g][t1],\"vs\", teams[g][t2],\"=\",gt1, \":\", gt2)\n",
        "    print()\n",
        "  print()\n",
        "print() \n",
        "if (gt1>gt2):\n",
        "  table[g][t1][1]+=1\n",
        "  table[g][t2][3]+=1\n",
        "elif (gt2>gt1):\n",
        "  table[g][t2][1]+=1\n",
        "  table[g][t1][3]+=1\n",
        "else:\n",
        "  table[g][t1][2]+=1\n",
        "  table[g][t2][2]+=1\n",
        "\n",
        "table[g][t1][4] += gt1\n",
        "table[g][t2][4] += gt2\n",
        "table[g][t1][5] += gt2\n",
        "table[g][t2][5] += gt1"
      ],
      "execution_count": null,
      "outputs": [
        {
          "output_type": "stream",
          "text": [
            "Italy vs Switzerland = 6 : 2\n",
            "Italy vs Turkey = 0 : 0\n",
            "Italy vs Wales = 8 : 2\n",
            "\n",
            "Switzerland vs Turkey = 5 : 8\n",
            "Switzerland vs Wales = 4 : 7\n",
            "\n",
            "Turkey vs Wales = 0 : 1\n",
            "\n",
            "\n",
            "Belgium vs Denmark = 3 : 3\n",
            "Belgium vs Finland = 7 : 6\n",
            "Belgium vs Russia = 4 : 3\n",
            "\n",
            "Denmark vs Finland = 8 : 7\n",
            "Denmark vs Russia = 1 : 6\n",
            "\n",
            "Finland vs Russia = 6 : 1\n",
            "\n",
            "\n",
            "Austria vs Netherland = 5 : 3\n",
            "Austria vs North Macedonia = 5 : 3\n",
            "Austria vs Ukraine = 2 : 5\n",
            "\n",
            "Netherland vs North Macedonia = 7 : 2\n",
            "Netherland vs Ukraine = 5 : 1\n",
            "\n",
            "North Macedonia vs Ukraine = 1 : 8\n",
            "\n",
            "\n",
            "Croatia vs Czech Republic = 3 : 5\n",
            "Croatia vs England = 1 : 1\n",
            "Croatia vs Scotland = 2 : 5\n",
            "\n",
            "Czech Republic vs England = 2 : 7\n",
            "Czech Republic vs Scotland = 7 : 7\n",
            "\n",
            "England vs Scotland = 0 : 7\n",
            "\n",
            "\n",
            "Poland vs Slovakia = 7 : 7\n",
            "Poland vs Spain = 5 : 4\n",
            "Poland vs Sweden = 7 : 4\n",
            "\n",
            "Slovakia vs Spain = 1 : 4\n",
            "Slovakia vs Sweden = 5 : 5\n",
            "\n",
            "Spain vs Sweden = 3 : 7\n",
            "\n",
            "\n",
            "France vs Germany = 2 : 2\n",
            "France vs Hungary = 6 : 6\n",
            "France vs Portugal = 8 : 6\n",
            "\n",
            "Germany vs Hungary = 0 : 3\n",
            "Germany vs Portugal = 1 : 8\n",
            "\n",
            "Hungary vs Portugal = 0 : 0\n",
            "\n",
            "\n",
            "\n"
          ],
          "name": "stdout"
        }
      ]
    },
    {
      "cell_type": "code",
      "metadata": {
        "colab": {
          "base_uri": "https://localhost:8080/",
          "height": 128
        },
        "id": "vqSiMZ31L2WP",
        "outputId": "e5fb6f9a-fbf3-462d-85d3-edf6573111d8"
      },
      "source": [
        "for g in range(ng):\n",
        "  for t1 in range(nt-1):\n",
        "    for t2 in range(t1 + 1,nt):\n",
        "      if (table[g][t1]<table[g][t2]):\n",
        "        for c in range (nc):\n",
        "          table[g][t1][c],\n",
        "          table[g][t2][c]=\n",
        "          table[g][t2][c],\n",
        "          table[g][t1][c]"
      ],
      "execution_count": null,
      "outputs": [
        {
          "output_type": "error",
          "ename": "SyntaxError",
          "evalue": "ignored",
          "traceback": [
            "\u001b[0;36m  File \u001b[0;32m\"<ipython-input-17-3808b9c8df98>\"\u001b[0;36m, line \u001b[0;32m7\u001b[0m\n\u001b[0;31m    table[g][t2][c]=\u001b[0m\n\u001b[0m                    ^\u001b[0m\n\u001b[0;31mSyntaxError\u001b[0m\u001b[0;31m:\u001b[0m invalid syntax\n"
          ]
        }
      ]
    },
    {
      "cell_type": "code",
      "metadata": {
        "colab": {
          "base_uri": "https://localhost:8080/"
        },
        "id": "6dxzl0qtf4nR",
        "outputId": "75378126-0418-4e24-b9b9-fd2278daa9bb"
      },
      "source": [
        "import random\n",
        "\n",
        "ng = 6\n",
        "nt = 4\n",
        "nc = 8  \n",
        "\n",
        "table = [[[0 for c in range(nc)] # the 0 means you input all the values in the table as 0\n",
        "             for t in range(nt)]\n",
        "             for g in range (ng)]\n",
        "\n",
        "teams = [\n",
        "        [\"Italy\", \"Switzerland\", \"Turkey\", \"Wales\"],\n",
        "        [\"Belgium\", \"Denmark\", \"Finland\", \"Russia\"],\n",
        "        [\"Austria\", \"Netherland\", \"North Macedonia\", \"Ukraine\"],\n",
        "        [\"Croatia\", \"Czech Republic\", \"England\", \"Scotland\"],\n",
        "        [\"Poland\", \"Slovakia\", \"Spain\", \"Sweden\"],\n",
        "        [\"France\", \"Germany\", \"Hungary\", \"Portugal\"]\n",
        "        ]\n",
        "\n",
        "# to create random matches and give the team points according to win / loss  \n",
        "for g in range(ng):\n",
        "  for t1 in range(nt - 1): # starts at team 0 then 1 then 2 then, (nt, which is 4, -1), 3\n",
        "    for t2 in range (t1 + 1, nt): # so t1 + 1 will make the team 1 go against the team next to it \n",
        "      gt1 = random.randint (0, 8)\n",
        "      gt2 = random.randint (0, 8)\n",
        "      print(teams[g][t1], \"vs\", teams[g][t2], \"=\", gt1, \":\", gt2) # the g is the one controlling which teams in which group  is playing \n",
        "      if (gt1 > gt2):\n",
        "        table [g][t1][1] += 1\n",
        "        table [g][t2][3] += 1\n",
        "      elif (gt2 > gt1):\n",
        "        table [g][t2][1] += 1\n",
        "        table [g][t1][3] += 1\n",
        "      else: \n",
        "        table [g][t1][2] += 1\n",
        "        table [g][t2][2] += 1\n",
        "      table [g][t1][4] += gt1\n",
        "      table [g][t2][4] += gt2\n",
        "      table [g][t2][5] += gt2\n",
        "      table [g][t2][5] += gt1\n",
        "\n",
        "# to sort the teams by points\n",
        "for g in range(ng):\n",
        "  for t1 in range(nt - 1): \n",
        "    for t2 in range (t1 + 1, nt): \n",
        "      if (table[g][t1] < table[g][t2]):\n",
        "        for c in range(nc):\n",
        "          table[g][t1][c], table[g][t2][c] = table[g][t2][c], table[g][t1][c]\n",
        "print()\n",
        "# to print the table\n",
        "for g in range(ng):\n",
        "  print(\"Group\", chr(g+65), end= \"\\t\\t\\t\") #chr converts num to letter using the ascii code\n",
        "  print(\"      MP    W     D     L    GF    GA    GD    Pts\")\n",
        "  for t in range(nt):\n",
        "    print( format(teams[g][t], \"25s\"), end= \" \") \n",
        "    table[g][t][0] = table[g][t][1] + table[g][t][2] + table[g][t][3]\n",
        "    table[g][t][6] = table[g][t][4] - table[g][t][5]\n",
        "    table[g][t][7] = table[g][t][1] * 3 + table[g][t][2]\n",
        "    for c in range(nc):\n",
        "      num = table[g][t][c]\n",
        "      print( format(num,\"5d\"), end= \" \")\n",
        "    print()\n",
        "  print()\n",
        "print() "
      ],
      "execution_count": null,
      "outputs": [
        {
          "output_type": "stream",
          "text": [
            "Italy vs Switzerland = 6 : 5\n",
            "Italy vs Turkey = 6 : 4\n",
            "Italy vs Wales = 2 : 6\n",
            "Switzerland vs Turkey = 0 : 7\n",
            "Switzerland vs Wales = 0 : 7\n",
            "Turkey vs Wales = 3 : 8\n",
            "Belgium vs Denmark = 6 : 7\n",
            "Belgium vs Finland = 2 : 2\n",
            "Belgium vs Russia = 0 : 0\n",
            "Denmark vs Finland = 3 : 4\n",
            "Denmark vs Russia = 5 : 8\n",
            "Finland vs Russia = 0 : 4\n",
            "Austria vs Netherland = 4 : 0\n",
            "Austria vs North Macedonia = 8 : 8\n",
            "Austria vs Ukraine = 7 : 1\n",
            "Netherland vs North Macedonia = 8 : 6\n",
            "Netherland vs Ukraine = 6 : 5\n",
            "North Macedonia vs Ukraine = 2 : 5\n",
            "Croatia vs Czech Republic = 5 : 7\n",
            "Croatia vs England = 6 : 6\n",
            "Croatia vs Scotland = 4 : 5\n",
            "Czech Republic vs England = 0 : 6\n",
            "Czech Republic vs Scotland = 2 : 3\n",
            "England vs Scotland = 2 : 5\n",
            "Poland vs Slovakia = 8 : 7\n",
            "Poland vs Spain = 3 : 7\n",
            "Poland vs Sweden = 1 : 7\n",
            "Slovakia vs Spain = 4 : 3\n",
            "Slovakia vs Sweden = 5 : 6\n",
            "Spain vs Sweden = 2 : 5\n",
            "France vs Germany = 5 : 7\n",
            "France vs Hungary = 5 : 7\n",
            "France vs Portugal = 1 : 6\n",
            "Germany vs Hungary = 4 : 3\n",
            "Germany vs Portugal = 4 : 8\n",
            "Hungary vs Portugal = 1 : 8\n",
            "\n",
            "Group A\t\t\t      MP    W     D     L    GF    GA    GD    Pts\n",
            "Italy                         3     3     0     0    21    26    -5     9 \n",
            "Switzerland                   3     2     0     1    14     0    14     6 \n",
            "Turkey                        3     1     0     2    14    17    -3     3 \n",
            "Wales                         3     0     0     3     5    11    -6     0 \n",
            "\n",
            "Group B\t\t\t      MP    W     D     L    GF    GA    GD    Pts\n",
            "Belgium                       3     2     1     0    12    17    -5     7 \n",
            "Denmark                       3     1     1     1     6    11    -5     4 \n",
            "Finland                       3     1     0     2    15    13     2     3 \n",
            "Russia                        3     0     2     1     8     0     8     2 \n",
            "\n",
            "Group C\t\t\t      MP    W     D     L    GF    GA    GD    Pts\n",
            "Austria                       3     2     1     0    19     0    19     7 \n",
            "Netherland                    3     2     0     1    14     4    10     6 \n",
            "North Macedonia               3     1     0     2    11    26   -15     3 \n",
            "Ukraine                       3     0     1     2    16    30   -14     1 \n",
            "\n",
            "Group D\t\t\t      MP    W     D     L    GF    GA    GD    Pts\n",
            "Croatia                       3     3     0     0    13    21    -8     9 \n",
            "Czech Republic                3     1     1     1    14    18    -4     4 \n",
            "England                       3     1     0     2     9    12    -3     3 \n",
            "Scotland                      3     0     1     2    15     0    15     1 \n",
            "\n",
            "Group E\t\t\t      MP    W     D     L    GF    GA    GD    Pts\n",
            "Poland                        3     3     0     0    18    26    -8     9 \n",
            "Slovakia                      3     1     0     2    16    15     1     3 \n",
            "Spain                         3     1     0     2    12    17    -5     3 \n",
            "Sweden                        3     1     0     2    12     0    12     3 \n",
            "\n",
            "Group F\t\t\t      MP    W     D     L    GF    GA    GD    Pts\n",
            "France                        3     3     0     0    22    28    -6     9 \n",
            "Germany                       3     2     0     1    15    12     3     6 \n",
            "Hungary                       3     1     0     2    11    19    -8     3 \n",
            "Portugal                      3     0     0     3    11     0    11     0 \n",
            "\n",
            "\n"
          ],
          "name": "stdout"
        }
      ]
    },
    {
      "cell_type": "markdown",
      "metadata": {
        "id": "PN3dod-Kf_j2"
      },
      "source": [
        "# Day 4\n"
      ]
    },
    {
      "cell_type": "code",
      "metadata": {
        "colab": {
          "base_uri": "https://localhost:8080/"
        },
        "id": "Klcmqt88o_Az",
        "outputId": "17a7eb6a-ac2f-4f6b-b550-66e2342fa6b6"
      },
      "source": [
        "import random\n",
        "def tossDie(n, pos):\n",
        "  head = [4, 9, 17, 20, 28, 40, 51, 54, 62, 63, 64, 71, 87, 93, 95, 99]\n",
        "  tail = [14, 31, 7, 38, 84, 59, 67, 34, 19, 81, 60, 91, 24, 73, 75, 78]\n",
        "  die = random.randint(1,6)\n",
        "  print(\"Player\", n, \":\", pos, \"+\", die, end=\" = \" )\n",
        "  pos = pos + die\n",
        "  if pos > 100:\n",
        "    pos = 200 - pos\n",
        "  for i in range(len(head)):\n",
        "    if pos == head[i]:\n",
        "      print(pos, end = \" => \")\n",
        "      pos = tail[i]\n",
        "      if head[i] > tail[i]:\n",
        "       print(end = \" snake => \")\n",
        "      else:\n",
        "        print(end= \"ladders => \")\n",
        "      break\n",
        "    elif (pos<head[i]):\n",
        "      break\n",
        "  print(pos)\n",
        "  return pos\n",
        "\n",
        "p1 = 0\n",
        "p2 = 0\n",
        "r = 1\n",
        "while(True):\n",
        "  print(\"\\nRound\", r)\n",
        "  p1 = tossDie(1, p1)\n",
        "  p2 = tossDie(2, p2)\n",
        "  if p1==100 or p2==100:\n",
        "    break\n",
        "  r+=1"
      ],
      "execution_count": null,
      "outputs": [
        {
          "output_type": "stream",
          "text": [
            "\n",
            "Round 1\n",
            "Player 1 : 0 + 6 = 6\n",
            "Player 2 : 0 + 3 = 3\n",
            "\n",
            "Round 2\n",
            "Player 1 : 6 + 3 = 9 => ladders => 31\n",
            "Player 2 : 3 + 6 = 9 => ladders => 31\n",
            "\n",
            "Round 3\n",
            "Player 1 : 31 + 4 = 35\n",
            "Player 2 : 31 + 2 = 33\n",
            "\n",
            "Round 4\n",
            "Player 1 : 35 + 6 = 41\n",
            "Player 2 : 33 + 2 = 35\n",
            "\n",
            "Round 5\n",
            "Player 1 : 41 + 3 = 44\n",
            "Player 2 : 35 + 5 = 40 => ladders => 59\n",
            "\n",
            "Round 6\n",
            "Player 1 : 44 + 5 = 49\n",
            "Player 2 : 59 + 5 = 64 =>  snake => 60\n",
            "\n",
            "Round 7\n",
            "Player 1 : 49 + 1 = 50\n",
            "Player 2 : 60 + 5 = 65\n",
            "\n",
            "Round 8\n",
            "Player 1 : 50 + 2 = 52\n",
            "Player 2 : 65 + 6 = 71 => ladders => 91\n",
            "\n",
            "Round 9\n",
            "Player 1 : 52 + 6 = 58\n",
            "Player 2 : 91 + 1 = 92\n",
            "\n",
            "Round 10\n",
            "Player 1 : 58 + 5 = 63 => ladders => 81\n",
            "Player 2 : 92 + 2 = 94\n",
            "\n",
            "Round 11\n",
            "Player 1 : 81 + 5 = 86\n",
            "Player 2 : 94 + 2 = 96\n",
            "\n",
            "Round 12\n",
            "Player 1 : 86 + 2 = 88\n",
            "Player 2 : 96 + 3 = 99 =>  snake => 78\n",
            "\n",
            "Round 13\n",
            "Player 1 : 88 + 4 = 92\n",
            "Player 2 : 78 + 4 = 82\n",
            "\n",
            "Round 14\n",
            "Player 1 : 92 + 4 = 96\n",
            "Player 2 : 82 + 2 = 84\n",
            "\n",
            "Round 15\n",
            "Player 1 : 96 + 3 = 99 =>  snake => 78\n",
            "Player 2 : 84 + 4 = 88\n",
            "\n",
            "Round 16\n",
            "Player 1 : 78 + 5 = 83\n",
            "Player 2 : 88 + 6 = 94\n",
            "\n",
            "Round 17\n",
            "Player 1 : 83 + 3 = 86\n",
            "Player 2 : 94 + 5 = 99 =>  snake => 78\n",
            "\n",
            "Round 18\n",
            "Player 1 : 86 + 4 = 90\n",
            "Player 2 : 78 + 4 = 82\n",
            "\n",
            "Round 19\n",
            "Player 1 : 90 + 4 = 94\n",
            "Player 2 : 82 + 2 = 84\n",
            "\n",
            "Round 20\n",
            "Player 1 : 94 + 6 = 100\n",
            "Player 2 : 84 + 3 = 87 =>  snake => 24\n"
          ],
          "name": "stdout"
        }
      ]
    },
    {
      "cell_type": "code",
      "metadata": {
        "colab": {
          "base_uri": "https://localhost:8080/"
        },
        "id": "mFa-5eDsgCFL",
        "outputId": "8c342542-6475-4792-d2f8-9d6cba8a2436"
      },
      "source": [
        "import random\n",
        "def tossDie(n, pos):\n",
        "  head = [4, 9, 17, 20, 28, 40, 51, 54, 62, 63, 64, 71, 87, 93, 95, 99]\n",
        "  tail = [14, 31, 7, 38, 84, 59, 67, 34, 19, 81, 60, 91, 24, 73, 75, 78]\n",
        "  die = random.randint(1,6)\n",
        "  print(\"Player\", n, \":\", pos, \"+\", die, end=\" = \" )\n",
        "  pos = pos + die\n",
        "  if pos > 100:\n",
        "    pos = 200 - pos\n",
        "  for i in range(len(head)):\n",
        "    if pos == head[i]:\n",
        "      print(pos, end = \" => \")\n",
        "      pos = tail[i]\n",
        "      if head[i] > tail[i]:\n",
        "       print(end = \" snake => \")\n",
        "      else:\n",
        "        print(end= \"ladders => \")\n",
        "      break\n",
        "    elif (pos<head[i]):\n",
        "      break\n",
        "  print(pos)\n",
        "  return pos\n",
        "\n",
        "p1 = 0\n",
        "p2 = 0\n",
        "p3 = 0\n",
        "r = 1\n",
        "while(True):\n",
        "  print(\"\\nRound\", r)\n",
        "  p1 = tossDie(1, p1)\n",
        "  p2 = tossDie(2, p2)\n",
        "  p3 = tossDie(3, p3)\n",
        "  if p1==100 or p2==100 or p3==100:\n",
        "    break\n",
        "  r+=1\n"
      ],
      "execution_count": null,
      "outputs": [
        {
          "output_type": "stream",
          "text": [
            "\n",
            "Round 1\n",
            "Player 1 : 0 + 3 = 3\n",
            "Player 2 : 0 + 3 = 3\n",
            "Player 3 : 0 + 6 = 6\n",
            "\n",
            "Round 2\n",
            "Player 1 : 3 + 4 = 7\n",
            "Player 2 : 3 + 4 = 7\n",
            "Player 3 : 6 + 4 = 10\n",
            "\n",
            "Round 3\n",
            "Player 1 : 7 + 3 = 10\n",
            "Player 2 : 7 + 6 = 13\n",
            "Player 3 : 10 + 1 = 11\n",
            "\n",
            "Round 4\n",
            "Player 1 : 10 + 3 = 13\n",
            "Player 2 : 13 + 4 = 17 =>  snake => 7\n",
            "Player 3 : 11 + 3 = 14\n",
            "\n",
            "Round 5\n",
            "Player 1 : 13 + 3 = 16\n",
            "Player 2 : 7 + 3 = 10\n",
            "Player 3 : 14 + 1 = 15\n",
            "\n",
            "Round 6\n",
            "Player 1 : 16 + 5 = 21\n",
            "Player 2 : 10 + 1 = 11\n",
            "Player 3 : 15 + 6 = 21\n",
            "\n",
            "Round 7\n",
            "Player 1 : 21 + 2 = 23\n",
            "Player 2 : 11 + 5 = 16\n",
            "Player 3 : 21 + 5 = 26\n",
            "\n",
            "Round 8\n",
            "Player 1 : 23 + 4 = 27\n",
            "Player 2 : 16 + 1 = 17 =>  snake => 7\n",
            "Player 3 : 26 + 6 = 32\n",
            "\n",
            "Round 9\n",
            "Player 1 : 27 + 6 = 33\n",
            "Player 2 : 7 + 3 = 10\n",
            "Player 3 : 32 + 4 = 36\n",
            "\n",
            "Round 10\n",
            "Player 1 : 33 + 3 = 36\n",
            "Player 2 : 10 + 6 = 16\n",
            "Player 3 : 36 + 3 = 39\n",
            "\n",
            "Round 11\n",
            "Player 1 : 36 + 4 = 40 => ladders => 59\n",
            "Player 2 : 16 + 6 = 22\n",
            "Player 3 : 39 + 6 = 45\n",
            "\n",
            "Round 12\n",
            "Player 1 : 59 + 2 = 61\n",
            "Player 2 : 22 + 6 = 28 => ladders => 84\n",
            "Player 3 : 45 + 6 = 51 => ladders => 67\n",
            "\n",
            "Round 13\n",
            "Player 1 : 61 + 1 = 62 =>  snake => 19\n",
            "Player 2 : 84 + 1 = 85\n",
            "Player 3 : 67 + 4 = 71 => ladders => 91\n",
            "\n",
            "Round 14\n",
            "Player 1 : 19 + 1 = 20 => ladders => 38\n",
            "Player 2 : 85 + 2 = 87 =>  snake => 24\n",
            "Player 3 : 91 + 2 = 93 =>  snake => 73\n",
            "\n",
            "Round 15\n",
            "Player 1 : 38 + 5 = 43\n",
            "Player 2 : 24 + 4 = 28 => ladders => 84\n",
            "Player 3 : 73 + 3 = 76\n",
            "\n",
            "Round 16\n",
            "Player 1 : 43 + 6 = 49\n",
            "Player 2 : 84 + 4 = 88\n",
            "Player 3 : 76 + 5 = 81\n",
            "\n",
            "Round 17\n",
            "Player 1 : 49 + 1 = 50\n",
            "Player 2 : 88 + 3 = 91\n",
            "Player 3 : 81 + 4 = 85\n",
            "\n",
            "Round 18\n",
            "Player 1 : 50 + 4 = 54 =>  snake => 34\n",
            "Player 2 : 91 + 2 = 93 =>  snake => 73\n",
            "Player 3 : 85 + 2 = 87 =>  snake => 24\n",
            "\n",
            "Round 19\n",
            "Player 1 : 34 + 4 = 38\n",
            "Player 2 : 73 + 3 = 76\n",
            "Player 3 : 24 + 1 = 25\n",
            "\n",
            "Round 20\n",
            "Player 1 : 38 + 6 = 44\n",
            "Player 2 : 76 + 2 = 78\n",
            "Player 3 : 25 + 3 = 28 => ladders => 84\n",
            "\n",
            "Round 21\n",
            "Player 1 : 44 + 6 = 50\n",
            "Player 2 : 78 + 5 = 83\n",
            "Player 3 : 84 + 6 = 90\n",
            "\n",
            "Round 22\n",
            "Player 1 : 50 + 5 = 55\n",
            "Player 2 : 83 + 4 = 87 =>  snake => 24\n",
            "Player 3 : 90 + 2 = 92\n",
            "\n",
            "Round 23\n",
            "Player 1 : 55 + 3 = 58\n",
            "Player 2 : 24 + 5 = 29\n",
            "Player 3 : 92 + 2 = 94\n",
            "\n",
            "Round 24\n",
            "Player 1 : 58 + 4 = 62 =>  snake => 19\n",
            "Player 2 : 29 + 6 = 35\n",
            "Player 3 : 94 + 3 = 97\n",
            "\n",
            "Round 25\n",
            "Player 1 : 19 + 1 = 20 => ladders => 38\n",
            "Player 2 : 35 + 2 = 37\n",
            "Player 3 : 97 + 5 = 98\n",
            "\n",
            "Round 26\n",
            "Player 1 : 38 + 1 = 39\n",
            "Player 2 : 37 + 5 = 42\n",
            "Player 3 : 98 + 3 = 99 =>  snake => 78\n",
            "\n",
            "Round 27\n",
            "Player 1 : 39 + 6 = 45\n",
            "Player 2 : 42 + 6 = 48\n",
            "Player 3 : 78 + 2 = 80\n",
            "\n",
            "Round 28\n",
            "Player 1 : 45 + 5 = 50\n",
            "Player 2 : 48 + 2 = 50\n",
            "Player 3 : 80 + 2 = 82\n",
            "\n",
            "Round 29\n",
            "Player 1 : 50 + 4 = 54 =>  snake => 34\n",
            "Player 2 : 50 + 1 = 51 => ladders => 67\n",
            "Player 3 : 82 + 4 = 86\n",
            "\n",
            "Round 30\n",
            "Player 1 : 34 + 3 = 37\n",
            "Player 2 : 67 + 1 = 68\n",
            "Player 3 : 86 + 3 = 89\n",
            "\n",
            "Round 31\n",
            "Player 1 : 37 + 5 = 42\n",
            "Player 2 : 68 + 6 = 74\n",
            "Player 3 : 89 + 3 = 92\n",
            "\n",
            "Round 32\n",
            "Player 1 : 42 + 4 = 46\n",
            "Player 2 : 74 + 3 = 77\n",
            "Player 3 : 92 + 5 = 97\n",
            "\n",
            "Round 33\n",
            "Player 1 : 46 + 6 = 52\n",
            "Player 2 : 77 + 2 = 79\n",
            "Player 3 : 97 + 2 = 99 =>  snake => 78\n",
            "\n",
            "Round 34\n",
            "Player 1 : 52 + 4 = 56\n",
            "Player 2 : 79 + 4 = 83\n",
            "Player 3 : 78 + 5 = 83\n",
            "\n",
            "Round 35\n",
            "Player 1 : 56 + 5 = 61\n",
            "Player 2 : 83 + 6 = 89\n",
            "Player 3 : 83 + 4 = 87 =>  snake => 24\n",
            "\n",
            "Round 36\n",
            "Player 1 : 61 + 2 = 63 => ladders => 81\n",
            "Player 2 : 89 + 5 = 94\n",
            "Player 3 : 24 + 4 = 28 => ladders => 84\n",
            "\n",
            "Round 37\n",
            "Player 1 : 81 + 3 = 84\n",
            "Player 2 : 94 + 2 = 96\n",
            "Player 3 : 84 + 4 = 88\n",
            "\n",
            "Round 38\n",
            "Player 1 : 84 + 1 = 85\n",
            "Player 2 : 96 + 4 = 100\n",
            "Player 3 : 88 + 6 = 94\n"
          ],
          "name": "stdout"
        }
      ]
    },
    {
      "cell_type": "code",
      "metadata": {
        "colab": {
          "base_uri": "https://localhost:8080/"
        },
        "id": "vbewGh9npqBk",
        "outputId": "63fc4f1f-4f8c-40b9-a06f-b7f954062912"
      },
      "source": [
        "import random\n",
        "def tossDie(name, pos):\n",
        "  head = [4, 9, 17, 20, 28, 40, 51, 54, 62, 63, 64, 71, 87, 93, 95, 99]\n",
        "  tail = [14, 31, 7, 38, 84, 59, 67, 34, 19, 81, 60, 91, 24, 73, 75, 78]\n",
        "  die = random.randint(1,6)\n",
        "  print(name, \":\", pos, \"+\", die, end=\" = \" )\n",
        "  pos = pos + die\n",
        "  if pos > 100:\n",
        "    pos = 200 - pos\n",
        "  for i in range(len(head)):\n",
        "    if pos == head[i]:\n",
        "      print(pos, end = \" => \")\n",
        "      pos = tail[i]\n",
        "      if head[i] > tail[i]:\n",
        "       print(end = \" snake => \")\n",
        "      else:\n",
        "        print(end= \"ladders => \")\n",
        "      break\n",
        "    elif (pos<head[i]):\n",
        "      break\n",
        "  if (pos == 100):\n",
        "    print(pos, \"Winner!!!\")\n",
        "  else:\n",
        "    print(pos)\n",
        "  return pos\n",
        "\n",
        "while (True):\n",
        "  n = int (input(\"How many players? \"))\n",
        "  if (n<2 or n>100):\n",
        "    print(\"invalid no. of players\")\n",
        "  else:\n",
        "    break\n",
        "names = [\"\"]*n\n",
        "player = [0]*n\n",
        "for i in range(n):\n",
        "  names[i] = input(\"name of player \" + str(i+1) + \":\")\n",
        "r = 1\n",
        "hasWinner = False\n",
        "while (hasWinner == False):\n",
        "  print(\"\\nRound\", r)\n",
        "  for i in range(n):\n",
        "    player[i] = tossDie(names[i], player[i])\n",
        "  for i in range(n):\n",
        "    if player[i]==100:\n",
        "      hasWinner = True\n",
        "      break\n",
        "  r+=1\n"
      ],
      "execution_count": null,
      "outputs": [
        {
          "output_type": "stream",
          "text": [
            "How many players? 3\n",
            "name of player 1:joseph\n",
            "name of player 2:joshua\n",
            "name of player 3:tristan\n",
            "\n",
            "Round 1\n",
            "joseph : 0 + 4 = 4 => ladders => 14\n",
            "joshua : 0 + 6 = 6\n",
            "tristan : 0 + 2 = 2\n",
            "\n",
            "Round 2\n",
            "joseph : 14 + 1 = 15\n",
            "joshua : 6 + 6 = 12\n",
            "tristan : 2 + 1 = 3\n",
            "\n",
            "Round 3\n",
            "joseph : 15 + 6 = 21\n",
            "joshua : 12 + 2 = 14\n",
            "tristan : 3 + 5 = 8\n",
            "\n",
            "Round 4\n",
            "joseph : 21 + 3 = 24\n",
            "joshua : 14 + 5 = 19\n",
            "tristan : 8 + 3 = 11\n",
            "\n",
            "Round 5\n",
            "joseph : 24 + 4 = 28 => ladders => 84\n",
            "joshua : 19 + 1 = 20 => ladders => 38\n",
            "tristan : 11 + 1 = 12\n",
            "\n",
            "Round 6\n",
            "joseph : 84 + 4 = 88\n",
            "joshua : 38 + 3 = 41\n",
            "tristan : 12 + 1 = 13\n",
            "\n",
            "Round 7\n",
            "joseph : 88 + 6 = 94\n",
            "joshua : 41 + 3 = 44\n",
            "tristan : 13 + 6 = 19\n",
            "\n",
            "Round 8\n",
            "joseph : 94 + 3 = 97\n",
            "joshua : 44 + 4 = 48\n",
            "tristan : 19 + 1 = 20 => ladders => 38\n",
            "\n",
            "Round 9\n",
            "joseph : 97 + 1 = 98\n",
            "joshua : 48 + 4 = 52\n",
            "tristan : 38 + 2 = 40 => ladders => 59\n",
            "\n",
            "Round 10\n",
            "joseph : 98 + 1 = 99 =>  snake => 78\n",
            "joshua : 52 + 5 = 57\n",
            "tristan : 59 + 3 = 62 =>  snake => 19\n",
            "\n",
            "Round 11\n",
            "joseph : 78 + 2 = 80\n",
            "joshua : 57 + 2 = 59\n",
            "tristan : 19 + 3 = 22\n",
            "\n",
            "Round 12\n",
            "joseph : 80 + 2 = 82\n",
            "joshua : 59 + 1 = 60\n",
            "tristan : 22 + 5 = 27\n",
            "\n",
            "Round 13\n",
            "joseph : 82 + 3 = 85\n",
            "joshua : 60 + 5 = 65\n",
            "tristan : 27 + 5 = 32\n",
            "\n",
            "Round 14\n",
            "joseph : 85 + 2 = 87 =>  snake => 24\n",
            "joshua : 65 + 6 = 71 => ladders => 91\n",
            "tristan : 32 + 6 = 38\n",
            "\n",
            "Round 15\n",
            "joseph : 24 + 4 = 28 => ladders => 84\n",
            "joshua : 91 + 3 = 94\n",
            "tristan : 38 + 6 = 44\n",
            "\n",
            "Round 16\n",
            "joseph : 84 + 3 = 87 =>  snake => 24\n",
            "joshua : 94 + 2 = 96\n",
            "tristan : 44 + 3 = 47\n",
            "\n",
            "Round 17\n",
            "joseph : 24 + 1 = 25\n",
            "joshua : 96 + 1 = 97\n",
            "tristan : 47 + 6 = 53\n",
            "\n",
            "Round 18\n",
            "joseph : 25 + 3 = 28 => ladders => 84\n",
            "joshua : 97 + 5 = 98\n",
            "tristan : 53 + 1 = 54 =>  snake => 34\n",
            "\n",
            "Round 19\n",
            "joseph : 84 + 5 = 89\n",
            "joshua : 98 + 1 = 99 =>  snake => 78\n",
            "tristan : 34 + 4 = 38\n",
            "\n",
            "Round 20\n",
            "joseph : 89 + 3 = 92\n",
            "joshua : 78 + 1 = 79\n",
            "tristan : 38 + 5 = 43\n",
            "\n",
            "Round 21\n",
            "joseph : 92 + 4 = 96\n",
            "joshua : 79 + 5 = 84\n",
            "tristan : 43 + 3 = 46\n",
            "\n",
            "Round 22\n",
            "joseph : 96 + 1 = 97\n",
            "joshua : 84 + 5 = 89\n",
            "tristan : 46 + 3 = 49\n",
            "\n",
            "Round 23\n",
            "joseph : 97 + 4 = 99 =>  snake => 78\n",
            "joshua : 89 + 4 = 93 =>  snake => 73\n",
            "tristan : 49 + 2 = 51 => ladders => 67\n",
            "\n",
            "Round 24\n",
            "joseph : 78 + 2 = 80\n",
            "joshua : 73 + 4 = 77\n",
            "tristan : 67 + 2 = 69\n",
            "\n",
            "Round 25\n",
            "joseph : 80 + 5 = 85\n",
            "joshua : 77 + 3 = 80\n",
            "tristan : 69 + 1 = 70\n",
            "\n",
            "Round 26\n",
            "joseph : 85 + 5 = 90\n",
            "joshua : 80 + 3 = 83\n",
            "tristan : 70 + 1 = 71 => ladders => 91\n",
            "\n",
            "Round 27\n",
            "joseph : 90 + 2 = 92\n",
            "joshua : 83 + 3 = 86\n",
            "tristan : 91 + 6 = 97\n",
            "\n",
            "Round 28\n",
            "joseph : 92 + 1 = 93 =>  snake => 73\n",
            "joshua : 86 + 4 = 90\n",
            "tristan : 97 + 4 = 99 =>  snake => 78\n",
            "\n",
            "Round 29\n",
            "joseph : 73 + 2 = 75\n",
            "joshua : 90 + 1 = 91\n",
            "tristan : 78 + 1 = 79\n",
            "\n",
            "Round 30\n",
            "joseph : 75 + 6 = 81\n",
            "joshua : 91 + 3 = 94\n",
            "tristan : 79 + 1 = 80\n",
            "\n",
            "Round 31\n",
            "joseph : 81 + 5 = 86\n",
            "joshua : 94 + 2 = 96\n",
            "tristan : 80 + 5 = 85\n",
            "\n",
            "Round 32\n",
            "joseph : 86 + 3 = 89\n",
            "joshua : 96 + 3 = 99 =>  snake => 78\n",
            "tristan : 85 + 4 = 89\n",
            "\n",
            "Round 33\n",
            "joseph : 89 + 3 = 92\n",
            "joshua : 78 + 1 = 79\n",
            "tristan : 89 + 2 = 91\n",
            "\n",
            "Round 34\n",
            "joseph : 92 + 6 = 98\n",
            "joshua : 79 + 1 = 80\n",
            "tristan : 91 + 3 = 94\n",
            "\n",
            "Round 35\n",
            "joseph : 98 + 4 = 98\n",
            "joshua : 80 + 6 = 86\n",
            "tristan : 94 + 1 = 95 =>  snake => 75\n",
            "\n",
            "Round 36\n",
            "joseph : 98 + 2 = 100 Winner!!!\n",
            "joshua : 86 + 4 = 90\n",
            "tristan : 75 + 5 = 80\n"
          ],
          "name": "stdout"
        }
      ]
    },
    {
      "cell_type": "markdown",
      "metadata": {
        "id": "6VHkf__f60ij"
      },
      "source": [
        "# Day 5\n"
      ]
    },
    {
      "cell_type": "code",
      "metadata": {
        "colab": {
          "base_uri": "https://localhost:8080/"
        },
        "id": "OdP8rOwE_TKN",
        "outputId": "f400551e-6a53-4632-eea5-8341fffa3809"
      },
      "source": [
        "import random\n",
        "\n",
        "ng = 6\n",
        "nt = 4\n",
        "nc = 8  \n",
        "\n",
        "table = [[[0 for c in range(nc)] # the 0 means you input all the values in the table as 0\n",
        "             for t in range(nt)]\n",
        "             for g in range (ng)]\n",
        "\n",
        "teams = [\n",
        "        [\"Italy\", \"Switzerland\", \"Turkey\", \"Wales\"],\n",
        "        [\"Belgium\", \"Denmark\", \"Finland\", \"Russia\"],\n",
        "        [\"Austria\", \"Netherland\", \"North Macedonia\", \"Ukraine\"],\n",
        "        [\"Croatia\", \"Czech Republic\", \"England\", \"Scotland\"],\n",
        "        [\"Poland\", \"Slovakia\", \"Spain\", \"Sweden\"],\n",
        "        [\"France\", \"Germany\", \"Hungary\", \"Portugal\"]\n",
        "        ]\n",
        "\n",
        "# to create random matches and give the team points according to win / loss  \n",
        "for g in range(ng):\n",
        "  for t1 in range(nt - 1): # starts at team 0 then 1 then 2 then, (nt, which is 4, -1), 3\n",
        "    for t2 in range (t1 + 1, nt): # so t1 + 1 will make the team 1 go against the team next to it \n",
        "      gt1 = random.randint (0, 8)\n",
        "      gt2 = random.randint (0, 8)\n",
        "      print(teams[g][t1], \"vs\", teams[g][t2], \"=\", gt1, \":\", gt2) # the g is the one controlling which teams in which group  is playing \n",
        "      if (gt1 > gt2):\n",
        "        table [g][t1][1] += 1\n",
        "        table [g][t2][3] += 1\n",
        "      elif (gt2 > gt1):\n",
        "        table [g][t2][1] += 1\n",
        "        table [g][t1][3] += 1\n",
        "      else: \n",
        "        table [g][t1][2] += 1\n",
        "        table [g][t2][2] += 1\n",
        "      table [g][t1][4] += gt1\n",
        "      table [g][t2][4] += gt2\n",
        "      table [g][t1][5] += gt2\n",
        "      table [g][t2][5] += gt1\n",
        "\n",
        "# to sort the teams by points\n",
        "for g in range(ng):\n",
        "  for t1 in range(nt - 1): \n",
        "    for t2 in range (t1 + 1, nt): \n",
        "      if (table[g][t1][7] < table[g][t2][7]):\n",
        "        teams[g][t1],teams[g][t2] = teams[g][t2], teams[g][t1]\n",
        "        for c in range(nc):\n",
        "          table[g][t1][c], table[g][t2][c] = table[g][t2][c], table[g][t1][c]\n",
        "\n",
        "          #sort the goal diff\n",
        "for g in range (ng):\n",
        "  for t1 in range (nt-1):\n",
        "    for t2 in range (t1+1, nt):\n",
        "      if (table[g][t1][7] == table[g][t2][7]):\n",
        "        if (table[g][t1][6] < table[g][t2][6]):\n",
        "          teams[g][t1],teams[g][t2] = teams[g][t2], teams[g][t1]\n",
        "          for c in range (nc):\n",
        "           table[g][t1][c], table[g][t2][c] = table[g][t2][c], table[g][t1][c]\n",
        "\n",
        "#sort the goal for \n",
        "for g in range (ng):\n",
        "  for t1 in range (nt-1):\n",
        "    for t2 in range (t1+1, nt):\n",
        "      if (table[g][t1][7] == table[g][t2][7] and table[g][t2][6] == table[g][t2][6]):\n",
        "        if (table[g][t1][4] < table[g][t2][4]):\n",
        "          teams[g][t1],teams[g][t2] = teams[g][t2], teams[g][t1]\n",
        "          for c in range (nc):\n",
        "           table[g][t1][c], table[g][t2][c] = table[g][t2][c], table[g][t1][c]\n",
        "\n",
        "print()\n",
        "# to print the table\n",
        "for g in range(ng):\n",
        "  print(\"Group\", chr(g+65), end= \"\\t\\t\\t\") #chr converts num to letter using the ascii code\n",
        "  print(\"      MP    W     D     L    GF    GA    GD    Pts\")\n",
        "  for t in range(nt):\n",
        "    print( format(teams[g][t], \"25s\"), end= \" \") \n",
        "    table[g][t][0] = table[g][t][1] + table[g][t][2] + table[g][t][3]\n",
        "    table[g][t][6] = table[g][t][4] - table[g][t][5]\n",
        "    table[g][t][7] = table[g][t][1] * 3 + table[g][t][2]\n",
        "    for c in range(nc):\n",
        "      num = table[g][t][c]\n",
        "      print( format(num,\"5d\"), end= \" \")\n",
        "    print()\n",
        "  print()\n",
        "print() "
      ],
      "execution_count": null,
      "outputs": [
        {
          "output_type": "stream",
          "text": [
            "Italy vs Switzerland = 2 : 3\n",
            "Italy vs Turkey = 2 : 2\n",
            "Italy vs Wales = 4 : 7\n",
            "Switzerland vs Turkey = 4 : 5\n",
            "Switzerland vs Wales = 3 : 7\n",
            "Turkey vs Wales = 0 : 4\n",
            "Belgium vs Denmark = 8 : 0\n",
            "Belgium vs Finland = 0 : 6\n",
            "Belgium vs Russia = 3 : 4\n",
            "Denmark vs Finland = 3 : 8\n",
            "Denmark vs Russia = 5 : 4\n",
            "Finland vs Russia = 0 : 4\n",
            "Austria vs Netherland = 7 : 1\n",
            "Austria vs North Macedonia = 4 : 3\n",
            "Austria vs Ukraine = 8 : 6\n",
            "Netherland vs North Macedonia = 0 : 0\n",
            "Netherland vs Ukraine = 3 : 1\n",
            "North Macedonia vs Ukraine = 1 : 0\n",
            "Croatia vs Czech Republic = 5 : 8\n",
            "Croatia vs England = 8 : 8\n",
            "Croatia vs Scotland = 8 : 8\n",
            "Czech Republic vs England = 3 : 4\n",
            "Czech Republic vs Scotland = 7 : 4\n",
            "England vs Scotland = 3 : 5\n",
            "Poland vs Slovakia = 4 : 6\n",
            "Poland vs Spain = 5 : 4\n",
            "Poland vs Sweden = 2 : 5\n",
            "Slovakia vs Spain = 2 : 1\n",
            "Slovakia vs Sweden = 4 : 6\n",
            "Spain vs Sweden = 5 : 8\n",
            "France vs Germany = 1 : 0\n",
            "France vs Hungary = 4 : 0\n",
            "France vs Portugal = 2 : 5\n",
            "Germany vs Hungary = 8 : 1\n",
            "Germany vs Portugal = 2 : 8\n",
            "Hungary vs Portugal = 6 : 6\n",
            "\n",
            "Group A\t\t\t      MP    W     D     L    GF    GA    GD    Pts\n",
            "Wales                         3     3     0     0    18     7    11     9 \n",
            "Switzerland                   3     1     0     2    10    14    -4     3 \n",
            "Italy                         3     0     1     2     8    12    -4     1 \n",
            "Turkey                        3     1     1     1     7    10    -3     4 \n",
            "\n",
            "Group B\t\t\t      MP    W     D     L    GF    GA    GD    Pts\n",
            "Finland                       3     2     0     1    14     7     7     6 \n",
            "Russia                        3     2     0     1    12     8     4     6 \n",
            "Belgium                       3     1     0     2    11    10     1     3 \n",
            "Denmark                       3     1     0     2     8    20   -12     3 \n",
            "\n",
            "Group C\t\t\t      MP    W     D     L    GF    GA    GD    Pts\n",
            "Austria                       3     3     0     0    19    10     9     9 \n",
            "Ukraine                       3     0     0     3     7    12    -5     0 \n",
            "North Macedonia               3     1     1     1     4     4     0     4 \n",
            "Netherland                    3     1     1     1     4     8    -4     4 \n",
            "\n",
            "Group D\t\t\t      MP    W     D     L    GF    GA    GD    Pts\n",
            "Croatia                       3     0     2     1    21    24    -3     2 \n",
            "Czech Republic                3     2     0     1    18    13     5     6 \n",
            "Scotland                      3     1     1     1    17    18    -1     4 \n",
            "England                       3     1     1     1    15    16    -1     4 \n",
            "\n",
            "Group E\t\t\t      MP    W     D     L    GF    GA    GD    Pts\n",
            "Sweden                        3     3     0     0    19    11     8     9 \n",
            "Slovakia                      3     2     0     1    12    11     1     6 \n",
            "Poland                        3     1     0     2    11    15    -4     3 \n",
            "Spain                         3     0     0     3    10    15    -5     0 \n",
            "\n",
            "Group F\t\t\t      MP    W     D     L    GF    GA    GD    Pts\n",
            "Portugal                      3     2     1     0    19    10     9     7 \n",
            "Germany                       3     1     0     2    10    10     0     3 \n",
            "Hungary                       3     0     1     2     7    18   -11     1 \n",
            "France                        3     2     0     1     7     5     2     6 \n",
            "\n",
            "\n"
          ],
          "name": "stdout"
        }
      ]
    },
    {
      "cell_type": "code",
      "metadata": {
        "colab": {
          "base_uri": "https://localhost:8080/"
        },
        "id": "yzV4lx3SFQm3",
        "outputId": "65cf924c-094d-471e-90a1-f3a1f7aca701"
      },
      "source": [
        "score = [8,6,7,9,4]\n",
        "n = 5\n",
        "for i in range(n-1):\n",
        "#i = 0,1,2,3\n",
        "  for j in range(n-i-1):\n",
        "  #0 1 2 3    (i=0)\n",
        "  #0 1 2      (i=1)\n",
        "  #0 1        (i=2)\n",
        "  #0          (i=3)\n",
        "\n",
        "    if (score[j]>score[j+1]):\n",
        "       score[j], score[j+1] = score[j+1], score[j]\n",
        "       \n",
        "\n",
        "print(score)\n"
      ],
      "execution_count": null,
      "outputs": [
        {
          "output_type": "stream",
          "text": [
            "[4, 6, 7, 8, 9]\n"
          ],
          "name": "stdout"
        }
      ]
    },
    {
      "cell_type": "code",
      "metadata": {
        "colab": {
          "base_uri": "https://localhost:8080/"
        },
        "id": "8vKlBNFUIj0F",
        "outputId": "e9b2d3e3-b5b4-41d1-cc99-24e616b59b00"
      },
      "source": [
        "def sortbycountry():\n",
        " n = len(country)\n",
        " for i in range(n-1):\n",
        "  for j in range(i+1, n):\n",
        "    if (country[i]> country[j]):\n",
        "      country [i],country[j] = country[j],country[i]\n",
        "      cases[i],cases[j]=cases[j],cases[i]\n",
        "\n",
        "\n",
        "def sortbycases():\n",
        "  n = len(cases)\n",
        "  for i in range(n-1):\n",
        "   for j in range(i+1,n):\n",
        "    if (cases[i]<cases[j]):\n",
        "      country[i],country[j] = country[j],country[i]\n",
        "      cases[i],cases[j]=cases[j], cases[i]\n",
        "\n",
        "def printlist():\n",
        "  for i in range(len(country)):\n",
        "    print(i+1, country[i], \" : \", cases[i])\n",
        "\n",
        "country = [\"Russia\", \"UK\", \"USA\", \"India\", \"Brazil\"]\n",
        "cases = [     3.28,  2.77, 21.58,  10.38,     7.81]\n",
        "sortbycountry()\n",
        "print(\"Sorted alphabetically\")\n",
        "printlist()\n",
        "print()\n",
        "print(\"Sorted by cases(decreasing)\")\n",
        "sortbycases()\n",
        "printlist()"
      ],
      "execution_count": null,
      "outputs": [
        {
          "output_type": "stream",
          "text": [
            "Sorted alphabetically\n",
            "1 Brazil  :  7.81\n",
            "2 India  :  10.38\n",
            "3 Russia  :  3.28\n",
            "4 UK  :  2.77\n",
            "5 USA  :  21.58\n",
            "\n",
            "Sorted by cases(decreasing)\n",
            "1 USA  :  21.58\n",
            "2 India  :  10.38\n",
            "3 Brazil  :  7.81\n",
            "4 Russia  :  3.28\n",
            "5 UK  :  2.77\n"
          ],
          "name": "stdout"
        }
      ]
    },
    {
      "cell_type": "markdown",
      "metadata": {
        "id": "LNFCQ99tA0BJ"
      },
      "source": [
        "# Day 6\n"
      ]
    },
    {
      "cell_type": "code",
      "metadata": {
        "colab": {
          "base_uri": "https://localhost:8080/"
        },
        "id": "PAS-FELGAxSi",
        "outputId": "cab2713e-cb8c-4248-935c-5b3ac68577d4"
      },
      "source": [
        "found = False\n",
        "score = [80,20,90,70,30,100,50,40,10,60]\n",
        "tofind = int (input(\"no: \"))\n",
        "print (\"searching\", tofind)\n",
        "for i in range(len(score)):\n",
        "  if tofind == score[i]:\n",
        "    print(\"found at\", i)\n",
        "    found = True\n",
        "    break\n",
        "if(not found):\n",
        "  print(\"Not Found\")"
      ],
      "execution_count": null,
      "outputs": [
        {
          "output_type": "stream",
          "text": [
            "no: 60\n",
            "searching 60\n",
            "found at 9\n"
          ],
          "name": "stdout"
        }
      ]
    },
    {
      "cell_type": "markdown",
      "metadata": {
        "id": "EQ9u0U1aE5El"
      },
      "source": []
    },
    {
      "cell_type": "code",
      "metadata": {
        "colab": {
          "base_uri": "https://localhost:8080/"
        },
        "id": "Z7_I-XyNERZM",
        "outputId": "c3d87ed4-0b79-47b0-da5f-633140a23e7b"
      },
      "source": [
        "found = False\n",
        "domains = [\"google.com\", \"instagram.com\", \"kompas.com\", \"youtube.com\"]\n",
        "ips = [\"142.250.73.206\", \"129.141.78.123\", \"217.823.145.100\", \"780.167.180.112\"]\n",
        "tofind = input(\"domain name: \")\n",
        "for i in range(len(domains)):\n",
        "  if tofind == domains[i]:\n",
        "    print(\"ip address:\", ips[i])\n",
        "    found = True\n",
        "    break\n",
        "if (not found):\n",
        "  print(\"Domain not found\")\n",
        "    \n",
        "\n"
      ],
      "execution_count": null,
      "outputs": [
        {
          "output_type": "stream",
          "text": [
            "domain name: google\n",
            "Domain not found\n"
          ],
          "name": "stdout"
        }
      ]
    },
    {
      "cell_type": "code",
      "metadata": {
        "colab": {
          "base_uri": "https://localhost:8080/"
        },
        "id": "G_ICAktOJTy9",
        "outputId": "9ddc51d3-2d23-4347-bac2-286fc25fe9cf"
      },
      "source": [
        "found = False\n",
        "scores=[20,35,50,75,88,100,125,157,188,200,230,280]\n",
        "n = len(scores)\n",
        "tofind = 125\n",
        "first = 0\n",
        "last = n-1 \n",
        "while (first <= last):\n",
        "  mid = (first + last)//2\n",
        "  if(tofind == scores[mid]):\n",
        "    print(\"found at\", mid)\n",
        "    found = True\n",
        "    break\n",
        "  elif (tofind > scores[mid]):\n",
        "    first = mid+1\n",
        "  else: \n",
        "    last = mid - 1\n",
        "if(not found):\n",
        "  print(\"not found\")\n"
      ],
      "execution_count": null,
      "outputs": [
        {
          "output_type": "stream",
          "text": [
            "found at 6\n"
          ],
          "name": "stdout"
        }
      ]
    },
    {
      "cell_type": "code",
      "metadata": {
        "colab": {
          "base_uri": "https://localhost:8080/"
        },
        "id": "ez9fXm4URwVu",
        "outputId": "53f2833f-0cf6-4688-9c83-fc222515b212"
      },
      "source": [
        "n = 10**2\n",
        "found = False\n",
        "tofind = 99\n",
        "first = 1\n",
        "last = n\n",
        "i = 1\n",
        "while (first <= last):\n",
        "  mid = (first + last)//2\n",
        "  print(i, mid)\n",
        "  if (tofind == mid):\n",
        "    print(\"found at\", mid)\n",
        "    found = True\n",
        "    break\n",
        "  elif (tofind > mid):\n",
        "    first = mid+1\n",
        "  else:\n",
        "    last = mid-1\n",
        "  i+=1\n",
        "if(not found):\n",
        "  print(\"not found\")\n"
      ],
      "execution_count": null,
      "outputs": [
        {
          "output_type": "stream",
          "text": [
            "1 50\n",
            "2 75\n",
            "3 88\n",
            "4 94\n",
            "5 97\n",
            "6 99\n",
            "found at 99\n"
          ],
          "name": "stdout"
        }
      ]
    },
    {
      "cell_type": "markdown",
      "metadata": {
        "id": "pmEqOo8Ja2gu"
      },
      "source": [
        "# Day 7\n"
      ]
    },
    {
      "cell_type": "code",
      "metadata": {
        "colab": {
          "base_uri": "https://localhost:8080/"
        },
        "id": "b2INnE0Ptesw",
        "outputId": "5e29dc8a-6e1c-4c93-e896-583b7cd01a2a"
      },
      "source": [
        "ll = list()\n",
        "print(ll)\n",
        "\n",
        "l2 = []\n",
        "print(l2)\n",
        "\n",
        "t1 = tuple()\n",
        "print(t1)\n",
        "t2 = ()\n",
        "print(t2)\n",
        "\n",
        "t3 = tuple(\"PYTHON\")\n",
        "print(t3)\n",
        "\n",
        "ll = list(\"PYTHON\")\n",
        "print(ll)"
      ],
      "execution_count": null,
      "outputs": [
        {
          "output_type": "stream",
          "text": [
            "[]\n",
            "[]\n",
            "()\n",
            "()\n",
            "('P', 'Y', 'T', 'H', 'O', 'N')\n",
            "['P', 'Y', 'T', 'H', 'O', 'N']\n"
          ],
          "name": "stdout"
        }
      ]
    },
    {
      "cell_type": "code",
      "metadata": {
        "colab": {
          "base_uri": "https://localhost:8080/"
        },
        "id": "46GtRaTapLKI",
        "outputId": "f4df55d0-5e55-40a3-95ad-bd7eaee55010"
      },
      "source": [
        "t = (\"a\",\"b\",\"c\",\"d\",\"e\")\n",
        "print(t[0])\n",
        "print(t[1:3])\n",
        "t = (\"A\",) + t[1:]\n",
        "print(t)"
      ],
      "execution_count": null,
      "outputs": [
        {
          "output_type": "stream",
          "text": [
            "a\n",
            "('b', 'c')\n",
            "('A', 'b', 'c', 'd', 'e')\n"
          ],
          "name": "stdout"
        }
      ]
    },
    {
      "cell_type": "code",
      "metadata": {
        "colab": {
          "base_uri": "https://localhost:8080/"
        },
        "id": "i9fArWYdpzHF",
        "outputId": "31a4ea94-d0a5-48be-ccc7-f8c00f068a2d"
      },
      "source": [
        "str = \"python\"\n",
        "print(str[0:1])\n",
        "print(str[0:2])\n",
        "\n",
        "print(str[2:4])\n",
        "print(str[:3])\n",
        "print(str[1] + str[4:6])"
      ],
      "execution_count": null,
      "outputs": [
        {
          "output_type": "stream",
          "text": [
            "p\n",
            "py\n",
            "th\n",
            "pyt\n",
            "yon\n"
          ],
          "name": "stdout"
        }
      ]
    },
    {
      "cell_type": "code",
      "metadata": {
        "colab": {
          "base_uri": "https://localhost:8080/"
        },
        "id": "DcBSNZKnrMKJ",
        "outputId": "79a469f9-f6ad-4c4a-bf15-11db741c758e"
      },
      "source": [
        "str = input(\"input string: \")\n",
        "n = len(str)-3\n",
        "p1 = str[:n]\n",
        "p2 = \"e\"\n",
        "p3 = str[n:]\n",
        "print(p1+p2+\"+\"+p3)"
      ],
      "execution_count": null,
      "outputs": [
        {
          "output_type": "stream",
          "text": [
            "input string: pooping\n",
            "poope+ing\n"
          ],
          "name": "stdout"
        }
      ]
    },
    {
      "cell_type": "code",
      "metadata": {
        "colab": {
          "base_uri": "https://localhost:8080/"
        },
        "id": "Em8m8ciLxMHj",
        "outputId": "fccecf4b-fda8-49ac-c478-b9df600a718d"
      },
      "source": [
        "str = \"12345\"\n",
        "for i in range(len(str)):\n",
        "  num = int(str[i:i+1])\n",
        "  if (num==0):\n",
        "    char = \"j\"\n",
        "  else:\n",
        "    char = chr(num+64)\n",
        "  print(char, end=\" \")\n",
        "print()"
      ],
      "execution_count": null,
      "outputs": [
        {
          "output_type": "stream",
          "text": [
            "A B C D E \n"
          ],
          "name": "stdout"
        }
      ]
    },
    {
      "cell_type": "code",
      "metadata": {
        "colab": {
          "base_uri": "https://localhost:8080/"
        },
        "id": "LnGwwW2BzkZ8",
        "outputId": "7b0b1061-9caf-4151-adec-e251e3a25664"
      },
      "source": [
        "t = divmod(5,2)\n",
        "print(t)\n",
        "quot, rem = divmod(5, 2)\n",
        "print(quot, rem)\n",
        "\n",
        "denom = (10, 5, 2, 1, 0.5, 0.2, 0.1, 0.05, 0.01)\n",
        "change = 28.99\n",
        "cents = int(change*100)\n",
        "for i in range(len(denom)):\n",
        "  d = int(denom[i]*100)\n",
        "  qty, cents = divmod(cents, d)\n",
        "  if (qty > 0):\n",
        "    if d >= 100:\n",
        "      print(qty, \"-> $\", int(d/100))\n",
        "    else:\n",
        "      print(qty, \"->\", d, \"cents\")"
      ],
      "execution_count": null,
      "outputs": [
        {
          "output_type": "stream",
          "text": [
            "(2, 1)\n",
            "2 1\n",
            "2 -> $ 10\n",
            "1 -> $ 5\n",
            "1 -> $ 2\n",
            "1 -> $ 1\n",
            "1 -> 50 cents\n",
            "2 -> 20 cents\n",
            "1 -> 5 cents\n",
            "4 -> 1 cents\n"
          ],
          "name": "stdout"
        }
      ]
    },
    {
      "cell_type": "code",
      "metadata": {
        "colab": {
          "base_uri": "https://localhost:8080/"
        },
        "id": "kIOeEA6n4F4F",
        "outputId": "b5acc25a-a0b2-40cb-a49d-b16919cc2baa"
      },
      "source": [
        "s = \"abc\"\n",
        "t = [0,1,2]\n",
        "print(list(zip(s, t)))\n",
        "print(tuple(zip(s, t)))"
      ],
      "execution_count": null,
      "outputs": [
        {
          "output_type": "stream",
          "text": [
            "[('a', 0), ('b', 1), ('c', 2)]\n",
            "(('a', 0), ('b', 1), ('c', 2))\n"
          ],
          "name": "stdout"
        }
      ]
    },
    {
      "cell_type": "code",
      "metadata": {
        "colab": {
          "base_uri": "https://localhost:8080/"
        },
        "id": "CEOvIR-R5eSo",
        "outputId": "02ff7c21-223e-493e-9549-4a45fa449adb"
      },
      "source": [
        "def has_match(t1, t2):\n",
        "  for x, y in zip(t1, t2):\n",
        "    if x == y:\n",
        "      return True\n",
        "    return False\n",
        "t1 = (\"Japan\", \"UK\", \"USA\")\n",
        "t2 = (\"Tokyo\", \"London\", \"Washington\")\n",
        "print(list(zip(t1, t2)))"
      ],
      "execution_count": null,
      "outputs": [
        {
          "output_type": "stream",
          "text": [
            "[('Japan', 'Tokyo'), ('UK', 'London'), ('USA', 'Washington')]\n"
          ],
          "name": "stdout"
        }
      ]
    },
    {
      "cell_type": "markdown",
      "metadata": {
        "id": "DlwgaJsvzT1N"
      },
      "source": [
        "# Day 8"
      ]
    },
    {
      "cell_type": "code",
      "metadata": {
        "colab": {
          "base_uri": "https://localhost:8080/"
        },
        "id": "skBz6wPnzThu",
        "outputId": "10bb683e-23f7-4ffa-f7d7-257efe83c414"
      },
      "source": [
        "greek = {'a':\"alpha\", \"o\":\"omega\", \"g\":\"gamma\"}\n",
        "print(greek)\n",
        "print()\n",
        "\n",
        "for letter in greek:\n",
        "  print(letter, \"=\", greek[letter])"
      ],
      "execution_count": null,
      "outputs": [
        {
          "output_type": "stream",
          "text": [
            "{'a': 'alpha', 'o': 'omega', 'g': 'gamma'}\n",
            "\n",
            "a = alpha\n",
            "o = omega\n",
            "g = gamma\n"
          ],
          "name": "stdout"
        }
      ]
    },
    {
      "cell_type": "code",
      "metadata": {
        "colab": {
          "base_uri": "https://localhost:8080/"
        },
        "id": "6s-aiuEfz1Ka",
        "outputId": "385e5c2f-ca7b-4778-9ccc-9b462f549928"
      },
      "source": [
        "def histogram(string):\n",
        "  string = string.upper()\n",
        "  mydict = dict()\n",
        "  for char in string:\n",
        "    if char != \" \":\n",
        "      if char not in mydict:\n",
        "        mydict[char] = 1\n",
        "      else:\n",
        "        mydict[char] += 1\n",
        "  return mydict\n",
        "str1 = \"RACECAR\"\n",
        "print(histogram(str1))\n",
        "\n",
        "hist = histogram(str1)\n",
        "for letter in sorted(hist):\n",
        "  print(letter, \"=\", hist[letter])"
      ],
      "execution_count": null,
      "outputs": [
        {
          "output_type": "stream",
          "text": [
            "{'R': 2, 'A': 2, 'C': 2, 'E': 1}\n",
            "A = 2\n",
            "C = 2\n",
            "E = 1\n",
            "R = 2\n"
          ],
          "name": "stdout"
        }
      ]
    },
    {
      "cell_type": "code",
      "metadata": {
        "colab": {
          "base_uri": "https://localhost:8080/"
        },
        "id": "5h17XITS3ZW9",
        "outputId": "1a9c74a6-8414-4e66-b798-c3025fe655e0"
      },
      "source": [
        "str = \"a quick brown fox jumps over the lazy dog\"\n",
        "str = str.upper()\n",
        "count = dict()\n",
        "mylist = list()\n",
        "for letter in str:\n",
        "  if letter != \" \":\n",
        "    count[letter] = 1\n",
        "for letter in sorted(count):\n",
        "  mylist.append(letter)\n",
        "print(mylist)"
      ],
      "execution_count": null,
      "outputs": [
        {
          "output_type": "stream",
          "text": [
            "['A', 'B', 'C', 'D', 'E', 'F', 'G', 'H', 'I', 'J', 'K', 'L', 'M', 'N', 'O', 'P', 'Q', 'R', 'S', 'T', 'U', 'V', 'W', 'X', 'Y', 'Z']\n"
          ],
          "name": "stdout"
        }
      ]
    },
    {
      "cell_type": "code",
      "metadata": {
        "colab": {
          "base_uri": "https://localhost:8080/"
        },
        "id": "5p4mMDtU79pl",
        "outputId": "68f475ad-126b-4957-fbfd-961500cd82e9"
      },
      "source": [
        "def searchvowels (string):\n",
        "  vowels = [\"a\", \"e\", \"i\", \"o\", \"u\"]\n",
        "  mydict = dict()\n",
        "  string = string.lower()\n",
        "  for char in string:\n",
        "    if char in vowels:\n",
        "      if char not in mydict:\n",
        "        mydict[char] = 1\n",
        "      else:\n",
        "        mydict[char] += 1\n",
        "  return mydict\n",
        "\n",
        "string1 = \"kuku kakiku kaku-kaku karena kena paku\"\n",
        "mydict = searchvowels (string1.lower())\n",
        "print(len(mydict),\"vowels\")"
      ],
      "execution_count": null,
      "outputs": [
        {
          "output_type": "stream",
          "text": [
            "4 vowels\n"
          ],
          "name": "stdout"
        }
      ]
    },
    {
      "cell_type": "code",
      "metadata": {
        "colab": {
          "base_uri": "https://localhost:8080/"
        },
        "id": "lLPFWGPY9MLd",
        "outputId": "3b3f88b0-4f07-4db7-a011-ba1403e48f2a"
      },
      "source": [
        "title = \"lord of the rings: the fellowship of the ring\"\n",
        "title = title.upper()\n",
        "title = title.replace(\":\",\"\")\n",
        "wordlist = title.split()\n",
        "hist = dict()\n",
        "for word in wordlist:\n",
        "  hist[word] = hist.get(word, 0) + 1\n",
        "\n",
        "for word in sorted(hist):\n",
        "  print(word, \"=\", hist[word])"
      ],
      "execution_count": null,
      "outputs": [
        {
          "output_type": "stream",
          "text": [
            "FELLOWSHIP = 1\n",
            "LORD = 1\n",
            "OF = 2\n",
            "RING = 1\n",
            "RINGS = 1\n",
            "THE = 3\n"
          ],
          "name": "stdout"
        }
      ]
    },
    {
      "cell_type": "code",
      "metadata": {
        "id": "csL-F_ZIA8ne",
        "colab": {
          "base_uri": "https://localhost:8080/",
          "height": 601
        },
        "outputId": "1201ec0d-b5a7-4bca-951f-158ac79efc1a"
      },
      "source": [
        "def printDict():\n",
        "  print(\"n\\list of words\")\n",
        "  for eng in sorted(kamus):\n",
        "    print (eng, kamus[eng])\n",
        "  print()\n",
        "\n",
        "def addUpdatedWord():\n",
        "  while True:\n",
        "    eng = input(\"English = \")\n",
        "    if eng == \".\":\n",
        "      break\n",
        "    ind = input(\"Indonesian = \")\n",
        "    kamus[eng] = ind\n",
        "\n",
        "def searchEng():\n",
        "  eng = input(\"English = \")\n",
        "  if eng in kamus:\n",
        "    print(\">>\", eng)\n",
        "\n",
        "def searchInd():\n",
        "  ind = input(\"Indonesian = \")\n",
        "  for eng in kamus:\n",
        "    if ind == kamus[eng]:\n",
        "      print(\">>\", eng)\n",
        "\n",
        "def deleteWord():\n",
        "  eng = input(\"English = \")\n",
        "  kamus.pop(eng)\n",
        "\n",
        "  kamus = {\"apple\":\"apel\", \"book\":\"buku\", \"axe\":\"kapak\", \"bear\":\"beruang\", \"bird\":\"burung\", \"dog\":\"anjing\"}\n",
        "while True:\n",
        "  print(\"1.Add 2.Update 3.Delete 4.Search Eng 5.SearchInd 6.Print 0.Exit\")\n",
        "  choice = int(input(\"Choice (0-6): \"))\n",
        "  if choice == 1 or choice == 2:\n",
        "    addUpdateWord()\n",
        "  elif choice == 3:\n",
        "    deleteWord()\n",
        "  elif choice == 4:\n",
        "    searchEng()\n",
        "  elif choice == 5:\n",
        "    searchInd()\n",
        "  elif choice == 6:\n",
        "    printDict()\n",
        "  elif choice == 0:\n",
        "    print(\"Thank you!\")\n",
        "    break\n",
        "  else:\n",
        "    print(\"Invalid choice!\")"
      ],
      "execution_count": null,
      "outputs": [
        {
          "output_type": "stream",
          "text": [
            "1.Add 2.Update 3.Delete 4.Search Eng 5.SearchInd 6.Print 0.Exit\n"
          ],
          "name": "stdout"
        },
        {
          "output_type": "error",
          "ename": "KeyboardInterrupt",
          "evalue": "ignored",
          "traceback": [
            "\u001b[0;31m---------------------------------------------------------------------------\u001b[0m",
            "\u001b[0;31mKeyboardInterrupt\u001b[0m                         Traceback (most recent call last)",
            "\u001b[0;32m/usr/local/lib/python3.6/dist-packages/ipykernel/kernelbase.py\u001b[0m in \u001b[0;36m_input_request\u001b[0;34m(self, prompt, ident, parent, password)\u001b[0m\n\u001b[1;32m    728\u001b[0m             \u001b[0;32mtry\u001b[0m\u001b[0;34m:\u001b[0m\u001b[0;34m\u001b[0m\u001b[0;34m\u001b[0m\u001b[0m\n\u001b[0;32m--> 729\u001b[0;31m                 \u001b[0mident\u001b[0m\u001b[0;34m,\u001b[0m \u001b[0mreply\u001b[0m \u001b[0;34m=\u001b[0m \u001b[0mself\u001b[0m\u001b[0;34m.\u001b[0m\u001b[0msession\u001b[0m\u001b[0;34m.\u001b[0m\u001b[0mrecv\u001b[0m\u001b[0;34m(\u001b[0m\u001b[0mself\u001b[0m\u001b[0;34m.\u001b[0m\u001b[0mstdin_socket\u001b[0m\u001b[0;34m,\u001b[0m \u001b[0;36m0\u001b[0m\u001b[0;34m)\u001b[0m\u001b[0;34m\u001b[0m\u001b[0;34m\u001b[0m\u001b[0m\n\u001b[0m\u001b[1;32m    730\u001b[0m             \u001b[0;32mexcept\u001b[0m \u001b[0mException\u001b[0m\u001b[0;34m:\u001b[0m\u001b[0;34m\u001b[0m\u001b[0;34m\u001b[0m\u001b[0m\n",
            "\u001b[0;32m/usr/local/lib/python3.6/dist-packages/jupyter_client/session.py\u001b[0m in \u001b[0;36mrecv\u001b[0;34m(self, socket, mode, content, copy)\u001b[0m\n\u001b[1;32m    802\u001b[0m         \u001b[0;32mtry\u001b[0m\u001b[0;34m:\u001b[0m\u001b[0;34m\u001b[0m\u001b[0;34m\u001b[0m\u001b[0m\n\u001b[0;32m--> 803\u001b[0;31m             \u001b[0mmsg_list\u001b[0m \u001b[0;34m=\u001b[0m \u001b[0msocket\u001b[0m\u001b[0;34m.\u001b[0m\u001b[0mrecv_multipart\u001b[0m\u001b[0;34m(\u001b[0m\u001b[0mmode\u001b[0m\u001b[0;34m,\u001b[0m \u001b[0mcopy\u001b[0m\u001b[0;34m=\u001b[0m\u001b[0mcopy\u001b[0m\u001b[0;34m)\u001b[0m\u001b[0;34m\u001b[0m\u001b[0;34m\u001b[0m\u001b[0m\n\u001b[0m\u001b[1;32m    804\u001b[0m         \u001b[0;32mexcept\u001b[0m \u001b[0mzmq\u001b[0m\u001b[0;34m.\u001b[0m\u001b[0mZMQError\u001b[0m \u001b[0;32mas\u001b[0m \u001b[0me\u001b[0m\u001b[0;34m:\u001b[0m\u001b[0;34m\u001b[0m\u001b[0;34m\u001b[0m\u001b[0m\n",
            "\u001b[0;32m/usr/local/lib/python3.6/dist-packages/zmq/sugar/socket.py\u001b[0m in \u001b[0;36mrecv_multipart\u001b[0;34m(self, flags, copy, track)\u001b[0m\n\u001b[1;32m    565\u001b[0m         \"\"\"\n\u001b[0;32m--> 566\u001b[0;31m         \u001b[0mparts\u001b[0m \u001b[0;34m=\u001b[0m \u001b[0;34m[\u001b[0m\u001b[0mself\u001b[0m\u001b[0;34m.\u001b[0m\u001b[0mrecv\u001b[0m\u001b[0;34m(\u001b[0m\u001b[0mflags\u001b[0m\u001b[0;34m,\u001b[0m \u001b[0mcopy\u001b[0m\u001b[0;34m=\u001b[0m\u001b[0mcopy\u001b[0m\u001b[0;34m,\u001b[0m \u001b[0mtrack\u001b[0m\u001b[0;34m=\u001b[0m\u001b[0mtrack\u001b[0m\u001b[0;34m)\u001b[0m\u001b[0;34m]\u001b[0m\u001b[0;34m\u001b[0m\u001b[0;34m\u001b[0m\u001b[0m\n\u001b[0m\u001b[1;32m    567\u001b[0m         \u001b[0;31m# have first part already, only loop while more to receive\u001b[0m\u001b[0;34m\u001b[0m\u001b[0;34m\u001b[0m\u001b[0;34m\u001b[0m\u001b[0m\n",
            "\u001b[0;32mzmq/backend/cython/socket.pyx\u001b[0m in \u001b[0;36mzmq.backend.cython.socket.Socket.recv\u001b[0;34m()\u001b[0m\n",
            "\u001b[0;32mzmq/backend/cython/socket.pyx\u001b[0m in \u001b[0;36mzmq.backend.cython.socket.Socket.recv\u001b[0;34m()\u001b[0m\n",
            "\u001b[0;32mzmq/backend/cython/socket.pyx\u001b[0m in \u001b[0;36mzmq.backend.cython.socket._recv_copy\u001b[0;34m()\u001b[0m\n",
            "\u001b[0;32m/usr/local/lib/python3.6/dist-packages/zmq/backend/cython/checkrc.pxd\u001b[0m in \u001b[0;36mzmq.backend.cython.checkrc._check_rc\u001b[0;34m()\u001b[0m\n",
            "\u001b[0;31mKeyboardInterrupt\u001b[0m: ",
            "\nDuring handling of the above exception, another exception occurred:\n",
            "\u001b[0;31mKeyboardInterrupt\u001b[0m                         Traceback (most recent call last)",
            "\u001b[0;32m<ipython-input-27-7b8353c5e51d>\u001b[0m in \u001b[0;36m<module>\u001b[0;34m()\u001b[0m\n\u001b[1;32m     31\u001b[0m \u001b[0;32mwhile\u001b[0m \u001b[0;32mTrue\u001b[0m\u001b[0;34m:\u001b[0m\u001b[0;34m\u001b[0m\u001b[0;34m\u001b[0m\u001b[0m\n\u001b[1;32m     32\u001b[0m   \u001b[0mprint\u001b[0m\u001b[0;34m(\u001b[0m\u001b[0;34m\"1.Add 2.Update 3.Delete 4.Search Eng 5.SearchInd 6.Print 0.Exit\"\u001b[0m\u001b[0;34m)\u001b[0m\u001b[0;34m\u001b[0m\u001b[0;34m\u001b[0m\u001b[0m\n\u001b[0;32m---> 33\u001b[0;31m   \u001b[0mchoice\u001b[0m \u001b[0;34m=\u001b[0m \u001b[0mint\u001b[0m\u001b[0;34m(\u001b[0m\u001b[0minput\u001b[0m\u001b[0;34m(\u001b[0m\u001b[0;34m\"Choice (0-6): \"\u001b[0m\u001b[0;34m)\u001b[0m\u001b[0;34m)\u001b[0m\u001b[0;34m\u001b[0m\u001b[0;34m\u001b[0m\u001b[0m\n\u001b[0m\u001b[1;32m     34\u001b[0m   \u001b[0;32mif\u001b[0m \u001b[0mchoice\u001b[0m \u001b[0;34m==\u001b[0m \u001b[0;36m1\u001b[0m \u001b[0;32mor\u001b[0m \u001b[0mchoice\u001b[0m \u001b[0;34m==\u001b[0m \u001b[0;36m2\u001b[0m\u001b[0;34m:\u001b[0m\u001b[0;34m\u001b[0m\u001b[0;34m\u001b[0m\u001b[0m\n\u001b[1;32m     35\u001b[0m     \u001b[0maddUpdateWord\u001b[0m\u001b[0;34m(\u001b[0m\u001b[0;34m)\u001b[0m\u001b[0;34m\u001b[0m\u001b[0;34m\u001b[0m\u001b[0m\n",
            "\u001b[0;32m/usr/local/lib/python3.6/dist-packages/ipykernel/kernelbase.py\u001b[0m in \u001b[0;36mraw_input\u001b[0;34m(self, prompt)\u001b[0m\n\u001b[1;32m    702\u001b[0m             \u001b[0mself\u001b[0m\u001b[0;34m.\u001b[0m\u001b[0m_parent_ident\u001b[0m\u001b[0;34m,\u001b[0m\u001b[0;34m\u001b[0m\u001b[0;34m\u001b[0m\u001b[0m\n\u001b[1;32m    703\u001b[0m             \u001b[0mself\u001b[0m\u001b[0;34m.\u001b[0m\u001b[0m_parent_header\u001b[0m\u001b[0;34m,\u001b[0m\u001b[0;34m\u001b[0m\u001b[0;34m\u001b[0m\u001b[0m\n\u001b[0;32m--> 704\u001b[0;31m             \u001b[0mpassword\u001b[0m\u001b[0;34m=\u001b[0m\u001b[0;32mFalse\u001b[0m\u001b[0;34m,\u001b[0m\u001b[0;34m\u001b[0m\u001b[0;34m\u001b[0m\u001b[0m\n\u001b[0m\u001b[1;32m    705\u001b[0m         )\n\u001b[1;32m    706\u001b[0m \u001b[0;34m\u001b[0m\u001b[0m\n",
            "\u001b[0;32m/usr/local/lib/python3.6/dist-packages/ipykernel/kernelbase.py\u001b[0m in \u001b[0;36m_input_request\u001b[0;34m(self, prompt, ident, parent, password)\u001b[0m\n\u001b[1;32m    732\u001b[0m             \u001b[0;32mexcept\u001b[0m \u001b[0mKeyboardInterrupt\u001b[0m\u001b[0;34m:\u001b[0m\u001b[0;34m\u001b[0m\u001b[0;34m\u001b[0m\u001b[0m\n\u001b[1;32m    733\u001b[0m                 \u001b[0;31m# re-raise KeyboardInterrupt, to truncate traceback\u001b[0m\u001b[0;34m\u001b[0m\u001b[0;34m\u001b[0m\u001b[0;34m\u001b[0m\u001b[0m\n\u001b[0;32m--> 734\u001b[0;31m                 \u001b[0;32mraise\u001b[0m \u001b[0mKeyboardInterrupt\u001b[0m\u001b[0;34m\u001b[0m\u001b[0;34m\u001b[0m\u001b[0m\n\u001b[0m\u001b[1;32m    735\u001b[0m             \u001b[0;32melse\u001b[0m\u001b[0;34m:\u001b[0m\u001b[0;34m\u001b[0m\u001b[0;34m\u001b[0m\u001b[0m\n\u001b[1;32m    736\u001b[0m                 \u001b[0;32mbreak\u001b[0m\u001b[0;34m\u001b[0m\u001b[0;34m\u001b[0m\u001b[0m\n",
            "\u001b[0;31mKeyboardInterrupt\u001b[0m: "
          ]
        }
      ]
    },
    {
      "cell_type": "markdown",
      "metadata": {
        "id": "J1getjyKgJ24"
      },
      "source": [
        "# Day 9\n"
      ]
    },
    {
      "cell_type": "code",
      "metadata": {
        "colab": {
          "base_uri": "https://localhost:8080/"
        },
        "id": "5NFJ3lAEgOtj",
        "outputId": "2d75c933-221f-4283-a670-ccfee7d4d0cf"
      },
      "source": [
        "accounts = { \"111\": [ \"Tristan\", \"123\", 100],\n",
        "            \"222\": [ \"Joseph\", \"234\", 200],\n",
        "            \"333\": [ \"Joshua\", \"345\", 300] }\n",
        "while (True):\n",
        "  accno = input(\"account no: \")\n",
        "  pin = input(\"PIN: \")\n",
        "  if accno in accounts:\n",
        "    if (pin == accounts[accno][1]):\n",
        "      name = accounts[accno][0]\n",
        "      balance = accounts[accno][2]\n",
        "      print (\"Welcome\", name)\n",
        "      print (\"Balance $\", balance)\n",
        "    break\n",
        "  else:\n",
        "    print(\"unknown account no!\")\n",
        "else:\n",
        "  print(\"unknown account no!\")\n",
        "\n",
        "while (True):\n",
        "  print(\"\\nmenu\\n1 - Deposit\\n2 - Withdraw\\n3 - Transfer\\n4 - Balance\\n5 - Change PIN\\n0 - Logout\")\n",
        "  choice = int(input(\"your choice (0-5): \"))\n",
        "  if (choice == 0):\n",
        "    print(\"see you!\")\n",
        "    break \n",
        "  if (choice == 1):\n",
        "    amount = int (input(\"Amount: \"))\n",
        "    accounts[accno][2] += amount\n",
        "  elif (choice == 2):\n",
        "    amount = int (input(\"Amount: \"))\n",
        "    accounts[accno][2] -= amount\n",
        "  elif (choice == 3):\n",
        "    amount = int (input(\"Amount: \"))\n",
        "    dest = input(\"destination account no: \")\n",
        "    accounts[dest][2] += amount\n",
        "    accounts[accno][2] -= amount\n",
        "  elif (choice == 4):\n",
        "    print(\"balance $\", accounts[accno][2])\n",
        "  elif (choice == 5):\n",
        "    old_pin = input(\"enter old pin: \")\n",
        "    if (old_pin == accounts[accno][1]):\n",
        "      new_pin1 = input(\"enter new pin: \")\n",
        "      new_pin2 = input(\"re-enter new pin: \")\n",
        "      if (new_pin1 == new_pin2):\n",
        "        accounts[accno][1] = new_pin1\n",
        "      else:\n",
        "        print(\"different pin!\")\n",
        "    else:\n",
        "      print(\"incorrect pin!\")\n",
        "  else: \n",
        "    print(\"invalid choice!\")\n",
        "\n",
        "accounts = { \"111\": [ \"Tristan\", \"123\", 100],\n",
        "            \"222\": [ \"Joseph\", \"234\", 200],\n",
        "            \"333\": [ \"Joshua\", \"345\", 300] }\n",
        "while (True):\n",
        "  accno = input(\"Account no: (exit = x): \")\n",
        "  if (accno == \"x\"):\n",
        "    print(\"see you!\")\n",
        "    break\n",
        "    pin = input(\"pin: \")\n",
        "    if accno in accounts:\n",
        "      if (pin == accounts[accno][1]):\n",
        "        print(\"welcome\", accounts[accno][0])\n",
        "        print (\"balance $\", accounts[accno][2])\n",
        "        dotransaction()\n",
        "      else:\n",
        "        print(\"incorrect account no or pin!\")\n",
        "    else:\n",
        "      print(\"incorrect account no or pin!\")"
      ],
      "execution_count": null,
      "outputs": [
        {
          "output_type": "stream",
          "text": [
            "account no: 123\n",
            "PIN: 123\n",
            "unknown account no!\n",
            "account no: 123\n",
            "PIN: 132\n",
            "unknown account no!\n",
            "account no: 111\n",
            "PIN: 123\n",
            "Welcome Tristan\n",
            "Balance $ 100\n",
            "\n",
            "menu\n",
            "1 - Deposit\n",
            "2 - Withdraw\n",
            "3 - Transfer\n",
            "4 - Balance\n",
            "5 - Change PIN\n",
            "0 - Logout\n",
            "your choice (0-5): 0\n",
            "see you!\n",
            "Account no: (x=exit): x\n",
            "see you!\n"
          ],
          "name": "stdout"
        }
      ]
    },
    {
      "cell_type": "markdown",
      "metadata": {
        "id": "geMnM1TK038a"
      },
      "source": [
        "# Day 10\n"
      ]
    },
    {
      "cell_type": "code",
      "metadata": {
        "colab": {
          "base_uri": "https://localhost:8080/"
        },
        "id": "7x3e3p7E05Dp",
        "outputId": "63f11050-8b34-4b55-c8a3-1577f3ff760a"
      },
      "source": [
        "scores = list()\n",
        "file = open(\"data.txt\")\n",
        "for line in file:\n",
        "  line = line.replace(\"\\n\",\"\")\n",
        "  line = int(line)\n",
        "  scores.append(line)\n",
        "print(scores)\n",
        "n = len(scores)\n",
        "total = sum(scores)\n",
        "avg = total/n\n",
        "print(\"average =\", avg)\n",
        "print(\"scores above average: \")\n",
        "for i in range(n):\n",
        "  if (scores[i]>avg):\n",
        "    print(scores[i],end=\" \")\n",
        "print()"
      ],
      "execution_count": null,
      "outputs": [
        {
          "output_type": "stream",
          "text": [
            "[90, 60, 80, 100, 70, 40, 30, 50, 90, 70]\n",
            "average = 68.0\n",
            "scores above average: \n",
            "90 80 100 70 90 70 \n"
          ],
          "name": "stdout"
        }
      ]
    },
    {
      "cell_type": "code",
      "metadata": {
        "colab": {
          "base_uri": "https://localhost:8080/"
        },
        "id": "L_-bTtDR6CTZ",
        "outputId": "259d6e12-827b-497a-bf42-88df0ba311bf"
      },
      "source": [
        "scores = list()\n",
        "file = open(\"data.txt\")\n",
        "for line in file:\n",
        "  line = line.replace(\"\\n\",\"\")\n",
        "  line = int(line)\n",
        "  scores.append(line)\n",
        "file.close()\n",
        "print(scores)\n",
        "n = len(scores)\n",
        "for i in range(n):\n",
        "  scores[i] += 5\n",
        "  if (scores[i] > 100):\n",
        "    scores[i] = 100\n",
        "print(scores)\n",
        "\n",
        "file = open(\"data2.txt\", \"w\")\n",
        "for score in scores:\n",
        "  data = str(score)\n",
        "  file.write( data + \"\\n\")\n",
        "file.close()"
      ],
      "execution_count": null,
      "outputs": [
        {
          "output_type": "stream",
          "text": [
            "[90, 60, 80, 100, 70, 40, 30, 50, 90, 70]\n",
            "[95, 65, 85, 100, 75, 45, 35, 55, 95, 75]\n"
          ],
          "name": "stdout"
        }
      ]
    },
    {
      "cell_type": "code",
      "metadata": {
        "colab": {
          "base_uri": "https://localhost:8080/",
          "height": 239
        },
        "id": "7WJdQq-J9ZMa",
        "outputId": "259359e4-5552-4fc3-b2a2-2a9416450424"
      },
      "source": [
        "students = list()\n",
        "file = open(\"students.txt\")\n",
        "for line in file:\n",
        "  line = line.replace(\"\\n\",\"\")\n",
        "  templist = line.split()\n",
        "  students.append(templist)\n",
        "file.close()\n",
        "\n",
        "n = len(students)\n",
        "total = 0\n",
        "for i in range(n):\n",
        "  name = students[i][0]\n",
        "  students[i][1] = int(students[i][1])\n",
        "  score = students[i][1]\n",
        "  print(format(name, \"10s\"), format(score, \"4d\"))\n",
        "print(\"total =\", total)"
      ],
      "execution_count": null,
      "outputs": [
        {
          "output_type": "error",
          "ename": "FileNotFoundError",
          "evalue": "ignored",
          "traceback": [
            "\u001b[0;31m---------------------------------------------------------------------------\u001b[0m",
            "\u001b[0;31mFileNotFoundError\u001b[0m                         Traceback (most recent call last)",
            "\u001b[0;32m<ipython-input-17-1c4c3be44178>\u001b[0m in \u001b[0;36m<module>\u001b[0;34m()\u001b[0m\n\u001b[1;32m      1\u001b[0m \u001b[0mstudents\u001b[0m \u001b[0;34m=\u001b[0m \u001b[0mlist\u001b[0m\u001b[0;34m(\u001b[0m\u001b[0;34m)\u001b[0m\u001b[0;34m\u001b[0m\u001b[0;34m\u001b[0m\u001b[0m\n\u001b[0;32m----> 2\u001b[0;31m \u001b[0mfile\u001b[0m \u001b[0;34m=\u001b[0m \u001b[0mopen\u001b[0m\u001b[0;34m(\u001b[0m\u001b[0;34m\"students.txt\"\u001b[0m\u001b[0;34m)\u001b[0m\u001b[0;34m\u001b[0m\u001b[0;34m\u001b[0m\u001b[0m\n\u001b[0m\u001b[1;32m      3\u001b[0m \u001b[0;32mfor\u001b[0m \u001b[0mline\u001b[0m \u001b[0;32min\u001b[0m \u001b[0mfile\u001b[0m\u001b[0;34m:\u001b[0m\u001b[0;34m\u001b[0m\u001b[0;34m\u001b[0m\u001b[0m\n\u001b[1;32m      4\u001b[0m   \u001b[0mline\u001b[0m \u001b[0;34m=\u001b[0m \u001b[0mline\u001b[0m\u001b[0;34m.\u001b[0m\u001b[0mreplace\u001b[0m\u001b[0;34m(\u001b[0m\u001b[0;34m\"\\n\"\u001b[0m\u001b[0;34m,\u001b[0m\u001b[0;34m\"\"\u001b[0m\u001b[0;34m)\u001b[0m\u001b[0;34m\u001b[0m\u001b[0;34m\u001b[0m\u001b[0m\n\u001b[1;32m      5\u001b[0m   \u001b[0mtemplist\u001b[0m \u001b[0;34m=\u001b[0m \u001b[0mline\u001b[0m\u001b[0;34m.\u001b[0m\u001b[0msplit\u001b[0m\u001b[0;34m(\u001b[0m\u001b[0;34m)\u001b[0m\u001b[0;34m\u001b[0m\u001b[0;34m\u001b[0m\u001b[0m\n",
            "\u001b[0;31mFileNotFoundError\u001b[0m: [Errno 2] No such file or directory: 'students.txt'"
          ]
        }
      ]
    },
    {
      "cell_type": "code",
      "metadata": {
        "colab": {
          "base_uri": "https://localhost:8080/"
        },
        "id": "Ym0uO3CsFLEw",
        "outputId": "848a6151-c573-4739-efe2-d1239ad3f6f0"
      },
      "source": [
        "top5 = list()\n",
        "file = open(\"covid.txt\")\n",
        "for line in file:\n",
        "  line = line.replace('\\n', '')\n",
        "  line = line.replace(',', '')\n",
        "  tempList = line.split()\n",
        "  top5.append(tempList)\n",
        "file.close()\n",
        "\n",
        "n = len(top5)\n",
        "total = 0\n",
        "print(\"-\"*78)\n",
        "print(\"No country\\t\\tCases\\t   Deaths   Recovered\\t  Active       Serious\")\n",
        "print(\"-\"*78)\n",
        "for i in range(n):\n",
        "  print(top5[i][0], end=\" \")\n",
        "  country = top5[i][1]\n",
        "  print(format(country, \"15s\"), end=\" \")\n",
        "  for j in range(2,7):\n",
        "    top5[i][j] = int(top5[i][j])\n",
        "    data = top5[i][j]\n",
        "    print(format(data, \"11,d\"), end=\" \")\n",
        "  total = total + top5[i][2]\n",
        "  print()\n",
        "print(\"-\"*78)\n",
        "print(\"Total =\", format(total, \"12,d\"))\n",
        "print(\"Average =\", format(int(total/n), \"12,d\"))"
      ],
      "execution_count": null,
      "outputs": [
        {
          "output_type": "stream",
          "text": [
            "------------------------------------------------------------------------------\n",
            "No country\t\tCases\t   Deaths   Recovered\t  Active       Serious\n",
            "------------------------------------------------------------------------------\n",
            "1 USA              24,102,429     401,856  14,228,969   9,471,604      28,937 \n",
            "2 India            10,543,659     152,130  10,178,883     212,646       8,944 \n",
            "3 Brazil            8,394,253     208,291   7,361,379     824,583       8,318 \n",
            "4 Russia            3,520,531      64,495   2,909,680     546,356       2,300 \n",
            "5 UK                3,316,019      87,295   1,503,654   1,725,070       3,672 \n",
            "------------------------------------------------------------------------------\n",
            "Total =   49,876,891\n",
            "Average =    9,975,378\n"
          ],
          "name": "stdout"
        }
      ]
    },
    {
      "cell_type": "markdown",
      "metadata": {
        "id": "MBZTgSj8k5Ix"
      },
      "source": [
        "# Day 11\n"
      ]
    },
    {
      "cell_type": "code",
      "metadata": {
        "colab": {
          "base_uri": "https://localhost:8080/"
        },
        "id": "k5_tfSRZk7eP",
        "outputId": "a05bccaa-37fd-4125-906e-fade3da95b6e"
      },
      "source": [
        "def readfile(filename):\n",
        "  file = open(filename, \"r\")\n",
        "  for line in file:\n",
        "    print(line, end=\"\")n\n",
        "\n",
        "def writefile(filename, mode):\n",
        "  file = open(filename, mode)\n",
        "  while(True):\n",
        "    text = input()\n",
        "    if (text == \".\"):\n",
        "      print(\"file saved!\\n\")\n",
        "      break\n",
        "    file.write(text + \"\\n\")\n",
        "  file.close\n",
        "\n",
        "def editfile(filename):\n",
        "  readfile(filename,)\n",
        "  writefile(filename, \"a\")\n",
        "\n",
        "while(True):\n",
        "  print(\"(N)ew (E)dit (V)iew (Q)uit:\")\n",
        "  choice = input(\"input n/e/v/q:\")\n",
        "  choice = choice.lower()\n",
        "  if (choice == \"q\"):\n",
        "    print(\"thank you\")\n",
        "    break\n",
        "  filename = input(\"input file name: \")\n",
        "  if (choice == \"n\"):\n",
        "    writefile(filename, \"w\")\n",
        "  elif (choice == \"e\"):\n",
        "    editfile(filename)\n",
        "  elif (choice == \"v\"):\n",
        "    readfile(filename)"
      ],
      "execution_count": null,
      "outputs": [
        {
          "output_type": "stream",
          "text": [
            "(N)ew (E)dit (V)iew (Q)uit:\n",
            "input n/e/v/q:n\n",
            "input file name: twinkle\n",
            "twink\n",
            "q\n",
            "q\n",
            ".\n",
            "file saved!\n",
            "\n",
            "(N)ew (E)dit (V)iew (Q)uit:\n",
            "input n/e/v/q:e\n",
            "input file name: twinke\n",
            "adsf\n",
            ".\n",
            "file saved!\n",
            "\n",
            "(N)ew (E)dit (V)iew (Q)uit:\n",
            "input n/e/v/q:e\n",
            "input file name: twinke\n",
            "adsf\n",
            "asfdljlasdfflkjasflkdj\n",
            "lksdfjlkjasfdljasdflk;asd\n",
            "lkjaslkfdjlkasfjdsa\n",
            ".\n",
            "file saved!\n",
            "\n",
            "(N)ew (E)dit (V)iew (Q)uit:\n"
          ],
          "name": "stdout"
        }
      ]
    },
    {
      "cell_type": "markdown",
      "metadata": {
        "id": "MQw3JOWS_p7D"
      },
      "source": [
        "# EXAM TERM 2"
      ]
    },
    {
      "cell_type": "code",
      "metadata": {
        "colab": {
          "base_uri": "https://localhost:8080/"
        },
        "id": "5bWhBELaOis-",
        "outputId": "3b4c830b-4a71-414c-9370-30e581b2db20"
      },
      "source": [
        "#a\n",
        "letter = [ \"11111\", \"10000\", \"11111\", \"10000\", \"11111\"]\n",
        "for i in range(5):\n",
        "  for j in range(5):\n",
        "    if ( letter[i][j] == \"1\"):\n",
        "      print(end = \"#\")\n",
        "    else:\n",
        "      print(end=\" \")"
      ],
      "execution_count": null,
      "outputs": [
        {
          "output_type": "stream",
          "text": [
            "                         "
          ],
          "name": "stdout"
        }
      ]
    },
    {
      "cell_type": "code",
      "metadata": {
        "colab": {
          "base_uri": "https://localhost:8080/"
        },
        "id": "JIwOaHmpAgrj",
        "outputId": "5f471ae2-94fd-4255-e4ea-32e4603f67a5"
      },
      "source": [
        "#b\n",
        "products = { \"111\": [ \"Aqua\", 3000],\n",
        "            \"222\": [ \"Sprite\", 5000],\n",
        "            \"333\": [ \"Coca Cola\", 5000] }\n",
        "\n",
        "print(\"Welcome to LEO's Store\")\n",
        "while True:\n",
        "  productcode = input(\"Product Code: (0 to exit) \")\n",
        "  if (productcode == \"0\"):\n",
        "    print (\"see you!\")\n",
        "    break\n",
        "\n",
        "  if productcode in products:\n",
        "   name = products[productcode][0]\n",
        "   price = products[productcode][1]\n",
        "   print(\"you are purchasing\", name)\n",
        "   qty = int (input(\"quantity: \"))\n",
        "   beforeprice = price * qty\n",
        "   print(\"subtotal: \", beforeprice)\n",
        "   discount = int (input(\"discount(%): \"))\n",
        "   discountamount = (discount/100)\n",
        "   discounted = beforeprice * discountamount\n",
        "   print(discounted)\n",
        "   finalprice = beforeprice - discounted\n",
        "   print(\"final payment: \", finalprice)\n",
        "\n",
        "   payment = int(input(\"input payment:\"))\n",
        "   change = (payment - finalprice)\n",
        "   print(\"your change is: \", change)\n",
        "   print(\"Thank You!\")\n",
        "   \n",
        "  else:\n",
        "    print(\"invalid code\")"
      ],
      "execution_count": null,
      "outputs": [
        {
          "output_type": "stream",
          "text": [
            "Welcome to LEO's Store\n",
            "Product Code: (0 to exit) 222\n",
            "you are purchasing Sprite\n",
            "quantity: 2\n",
            "subtotal:  10000\n",
            "discount(%): 10\n",
            "1000.0\n",
            "final payment:  9000.0\n",
            "input payment:10000\n",
            "your change is:  1000.0\n",
            "thank you\n",
            "Product Code: (0 to exit) 0\n",
            "see you!\n"
          ],
          "name": "stdout"
        }
      ]
    },
    {
      "cell_type": "code",
      "metadata": {
        "colab": {
          "base_uri": "https://localhost:8080/",
          "height": 595
        },
        "id": "XyktgykmAg3t",
        "outputId": "e24b6de7-720c-4208-a958-e68d24e66b94"
      },
      "source": [
        "#c\n",
        "def readfile(filename):\n",
        "  file = open(filename, \"r\")\n",
        "  for line in file:\n",
        "    print(line, end=\"\")\n",
        "def writefile(filename, mode):\n",
        "  file = open(filename, mode)\n",
        "  while(True):\n",
        "    text = input()\n",
        "    if (text == \".\"):\n",
        "      print(\"file saved!\\n\")\n",
        "      break\n",
        "    file.write(text + \"\\n\")\n",
        "  file.close\n",
        "\n",
        "def editfile(filename):\n",
        "  readfile(filename,)\n",
        "  writefile(filename, \"a\")\n",
        "\n",
        "while(True):\n",
        "  print(\"(N)ew (E)dit (V)iew e(X)it:\")\n",
        "  choice = input(\"input n/e/v/x:\")\n",
        "  choice = choice.lower()\n",
        "  if (choice == \"x\"):\n",
        "    print(\"thank you\")\n",
        "    break\n",
        "  filename = input(\"input file name: \")\n",
        "  print(\"Here is your content:\")\n",
        "  if (choice == \"n\"):\n",
        "    writefile(filename, \"w\")\n",
        "  elif (choice == \"e\"):\n",
        "    editfile(filename)\n",
        "  elif (choice == \"v\"):\n",
        "    readfile(filename)"
      ],
      "execution_count": null,
      "outputs": [
        {
          "output_type": "stream",
          "text": [
            "(N)ew (E)dit (V)iew e(X)it:\n",
            "input n/e/v/q:v\n",
            "input file name: sentence.txt\n",
            "Here is your content:\n",
            "the quick brown fox\n",
            "jumps over \n",
            "the lazy dog\n",
            "..\n",
            "(N)ew (E)dit (V)iew e(X)it:\n",
            "input n/e/v/q:e\n",
            "input file name: sentence.txt\n",
            "Here is your content:\n",
            "the quick brown fox\n",
            "jumps over \n",
            "the lazy dog\n",
            "..\n",
            ".\n",
            "file saved!\n",
            "\n",
            "(N)ew (E)dit (V)iew e(X)it:\n",
            "input n/e/v/q:x\n",
            "thank you\n"
          ],
          "name": "stdout"
        },
        {
          "output_type": "error",
          "ename": "NameError",
          "evalue": "ignored",
          "traceback": [
            "\u001b[0;31m---------------------------------------------------------------------------\u001b[0m",
            "\u001b[0;31mNameError\u001b[0m                                 Traceback (most recent call last)",
            "\u001b[0;32m<ipython-input-6-defee8173964>\u001b[0m in \u001b[0;36m<module>\u001b[0;34m()\u001b[0m\n\u001b[1;32m     33\u001b[0m   \u001b[0;32melif\u001b[0m \u001b[0;34m(\u001b[0m\u001b[0mchoice\u001b[0m \u001b[0;34m==\u001b[0m \u001b[0;34m\"v\"\u001b[0m\u001b[0;34m)\u001b[0m\u001b[0;34m:\u001b[0m\u001b[0;34m\u001b[0m\u001b[0;34m\u001b[0m\u001b[0m\n\u001b[1;32m     34\u001b[0m     \u001b[0mreadfile\u001b[0m\u001b[0;34m(\u001b[0m\u001b[0mfilename\u001b[0m\u001b[0;34m)\u001b[0m\u001b[0;34m\u001b[0m\u001b[0;34m\u001b[0m\u001b[0m\n\u001b[0;32m---> 35\u001b[0;31m \u001b[0mt\u001b[0m\u001b[0;34m\u001b[0m\u001b[0;34m\u001b[0m\u001b[0m\n\u001b[0m",
            "\u001b[0;31mNameError\u001b[0m: name 't' is not defined"
          ]
        }
      ]
    },
    {
      "cell_type": "markdown",
      "metadata": {
        "id": "GpJ_yZe_qIBM"
      },
      "source": [
        "# Day 1 TERM 3\n"
      ]
    },
    {
      "cell_type": "code",
      "metadata": {
        "colab": {
          "base_uri": "https://localhost:8080/"
        },
        "id": "wyBcUZa2qQZI",
        "outputId": "6803249f-0115-4a74-ac81-5d064ca59225"
      },
      "source": [
        "n = 3\n",
        "for i in range(4):\n",
        "  print(n**i, end=\" \")\n",
        "\n"
      ],
      "execution_count": null,
      "outputs": [
        {
          "output_type": "stream",
          "text": [
            "1 3 9 27 "
          ],
          "name": "stdout"
        }
      ]
    },
    {
      "cell_type": "code",
      "metadata": {
        "colab": {
          "base_uri": "https://localhost:8080/"
        },
        "id": "jQQQBPkStT_i",
        "outputId": "84747d4b-ab64-4844-fa03-0a7e0749c1e3"
      },
      "source": [
        "a = 100\n",
        "for i in range(1,6,1):\n",
        "  print (a, end=\" \")\n",
        "  x = 10*i\n",
        "  a = a - x"
      ],
      "execution_count": null,
      "outputs": [
        {
          "output_type": "stream",
          "text": [
            "100 90 70 40 0 "
          ],
          "name": "stdout"
        }
      ]
    },
    {
      "cell_type": "code",
      "metadata": {
        "colab": {
          "base_uri": "https://localhost:8080/"
        },
        "id": "NXm3cCuXw8_O",
        "outputId": "ebee9d65-42d4-490e-ff02-dc6f3cf524ae"
      },
      "source": [
        "n = 5\n",
        "for r in range(n):\n",
        "  for c in range(n):\n",
        "    if (c == 0 or c==n-1 or r == c):\n",
        "      print(\"#\", end=\"\")\n",
        "    else:\n",
        "      print(end=\" \")\n",
        "  print()\n",
        "print()\n",
        "n =5\n",
        "for r in range(n):\n",
        "  for c in range(n):\n",
        "    if (c==r or c+r==n-1):\n",
        "      print(end=\"#\")\n",
        "    else:\n",
        "      print(end=\" \")\n",
        "  print()\n"
      ],
      "execution_count": null,
      "outputs": [
        {
          "output_type": "stream",
          "text": [
            "#   #\n",
            "##  #\n",
            "# # #\n",
            "#  ##\n",
            "#   #\n",
            "\n",
            "#   #\n",
            " # # \n",
            "  #  \n",
            " # # \n",
            "#   #\n"
          ],
          "name": "stdout"
        }
      ]
    },
    {
      "cell_type": "code",
      "metadata": {
        "colab": {
          "base_uri": "https://localhost:8080/"
        },
        "id": "JxTXukoT40JD",
        "outputId": "522315aa-7cfb-48f6-9022-dd21b4b81389"
      },
      "source": [
        "import random\n",
        "n = int (input(\"magic number(1-9): \"))\n",
        "m = int (input(\"round/s: \"))\n",
        "for i in range(n):\n",
        "  print(i+1, end=\" - \")\n",
        "  while True:\n",
        "    num = random.randint(1,9)\n",
        "    print(num, end=\" \")\n",
        "    if (num == n):\n",
        "      break\n",
        "  print()"
      ],
      "execution_count": null,
      "outputs": [
        {
          "output_type": "stream",
          "text": [
            "magic number(1-9): 8\n",
            "round/s: 5\n",
            "1 - 6 7 3 1 4 8 \n",
            "2 - 1 7 7 1 7 8 \n",
            "3 - 2 3 4 7 8 \n",
            "4 - 7 1 2 6 7 8 \n",
            "5 - 7 8 \n",
            "6 - 7 9 2 3 8 \n",
            "7 - 8 \n",
            "8 - 8 \n"
          ],
          "name": "stdout"
        }
      ]
    },
    {
      "cell_type": "markdown",
      "metadata": {
        "id": "dfVF3dkbyTZc"
      },
      "source": [
        "# Day 2\n"
      ]
    },
    {
      "cell_type": "code",
      "metadata": {
        "colab": {
          "base_uri": "https://localhost:8080/"
        },
        "id": "BtYPQWjdyT6B",
        "outputId": "ba832686-1809-45d0-e740-6764e3cf4717"
      },
      "source": [
        "seatList = [['-' for c in range(20)]\n",
        "                 for r in range(10)]\n",
        "seat = input(\"Seat(letternumber): \")\n",
        "row = seat[0:1]\n",
        "col = seat[1: ]\n",
        "r = ord(row) - 65\n",
        "c = int(col) - 1\n",
        "seatList[r][c] = \"x\"\n",
        "for r in range(10):\n",
        "  for c in range(20):\n",
        "    print(seatList[r][c], end=\" \\t\")\n",
        "  print()"
      ],
      "execution_count": null,
      "outputs": [
        {
          "output_type": "stream",
          "text": [
            "Seat(letternumber): A2\n",
            "- \tx \t- \t- \t- \t- \t- \t- \t- \t- \t- \t- \t- \t- \t- \t- \t- \t- \t- \t- \t\n",
            "- \t- \t- \t- \t- \t- \t- \t- \t- \t- \t- \t- \t- \t- \t- \t- \t- \t- \t- \t- \t\n",
            "- \t- \t- \t- \t- \t- \t- \t- \t- \t- \t- \t- \t- \t- \t- \t- \t- \t- \t- \t- \t\n",
            "- \t- \t- \t- \t- \t- \t- \t- \t- \t- \t- \t- \t- \t- \t- \t- \t- \t- \t- \t- \t\n",
            "- \t- \t- \t- \t- \t- \t- \t- \t- \t- \t- \t- \t- \t- \t- \t- \t- \t- \t- \t- \t\n",
            "- \t- \t- \t- \t- \t- \t- \t- \t- \t- \t- \t- \t- \t- \t- \t- \t- \t- \t- \t- \t\n",
            "- \t- \t- \t- \t- \t- \t- \t- \t- \t- \t- \t- \t- \t- \t- \t- \t- \t- \t- \t- \t\n",
            "- \t- \t- \t- \t- \t- \t- \t- \t- \t- \t- \t- \t- \t- \t- \t- \t- \t- \t- \t- \t\n",
            "- \t- \t- \t- \t- \t- \t- \t- \t- \t- \t- \t- \t- \t- \t- \t- \t- \t- \t- \t- \t\n",
            "- \t- \t- \t- \t- \t- \t- \t- \t- \t- \t- \t- \t- \t- \t- \t- \t- \t- \t- \t- \t\n"
          ],
          "name": "stdout"
        }
      ]
    },
    {
      "cell_type": "code",
      "metadata": {
        "colab": {
          "base_uri": "https://localhost:8080/",
          "height": 1000
        },
        "id": "vgBaHdP_z9nI",
        "outputId": "af2e315b-51de-4761-fc93-6031b681d193"
      },
      "source": [
        "def setupSeats():\n",
        "  for r in range(nr):\n",
        "    for c in range(nc):\n",
        "      if (r%2 == 0 and c%4 == 1 or r%2 == 1 and c%4 == 3):\n",
        "        seatList[r][c] = \"-\"\n",
        "\n",
        "def inputSeats():\n",
        "  row = seat[0:1] #start from index 0, stop before 1 (getting the letter)\n",
        "  col = seat[1: ] #start from index 1, stop at the end of the string (getting the number)\n",
        "  r = ord(row) - 65\n",
        "  c = int(col) - 1\n",
        "  if (seatList[r][c] == \"O\"):\n",
        "    seatList[r][c] = \"x\"\n",
        "  else:\n",
        "    print(\"This seat is unavailable!\")\n",
        "\n",
        "def printHeading():\n",
        "  print(end=\"  \")\n",
        "  for c in range(nc):\n",
        "    print(format(c+1, \"2d\"), end=\" \")\n",
        "  print()\n",
        "\n",
        "def printSeats():\n",
        "  print(\"\\nLayout\")\n",
        "  printHeading()\n",
        "  for r in range(nr):\n",
        "    print(chr(r+65), end=\"  \")\n",
        "    for c in range(nc):\n",
        "      print(seatList[r][c], end=\"  \")\n",
        "    print()\n",
        "  print()\n",
        "\n",
        "nr, nc = 20, 20\n",
        "seatList = [['O' for c in range(nc)]\n",
        "                 for r in range(nr)]\n",
        "setupSeats()\n",
        "qty = 0\n",
        "while(True):\n",
        "  print(\"\\nWelcome\")\n",
        "  while(True):\n",
        "    seat = input(\"Seat (x = exit): \")\n",
        "    if (seat == \"x\"):\n",
        "      break \n",
        "    inputSeats()\n",
        "    qty += 1\n",
        "  printSeats()\n",
        "  price = 50000\n",
        "  print(\"Total Price = Rp\", format(qty*price, \",d\"))\n",
        "  again = input(\"Again (y/n): \")\n",
        "  if (again == \"n\"):\n",
        "    break"
      ],
      "execution_count": null,
      "outputs": [
        {
          "output_type": "stream",
          "text": [
            "\n",
            "Welcome\n",
            "Seat (x = exit): A5\n",
            "Seat (x = exit): x\n",
            "\n",
            "Layout\n",
            "   1  2  3  4  5  6  7  8  9 10 11 12 13 14 15 16 17 18 19 20 \n",
            "A  O  -  O  O  x  -  O  O  O  -  O  O  O  -  O  O  O  -  O  O  \n",
            "B  O  O  O  -  O  O  O  -  O  O  O  -  O  O  O  -  O  O  O  -  \n",
            "C  O  -  O  O  O  -  O  O  O  -  O  O  O  -  O  O  O  -  O  O  \n",
            "D  O  O  O  -  O  O  O  -  O  O  O  -  O  O  O  -  O  O  O  -  \n",
            "E  O  -  O  O  O  -  O  O  O  -  O  O  O  -  O  O  O  -  O  O  \n",
            "F  O  O  O  -  O  O  O  -  O  O  O  -  O  O  O  -  O  O  O  -  \n",
            "G  O  -  O  O  O  -  O  O  O  -  O  O  O  -  O  O  O  -  O  O  \n",
            "H  O  O  O  -  O  O  O  -  O  O  O  -  O  O  O  -  O  O  O  -  \n",
            "I  O  -  O  O  O  -  O  O  O  -  O  O  O  -  O  O  O  -  O  O  \n",
            "J  O  O  O  -  O  O  O  -  O  O  O  -  O  O  O  -  O  O  O  -  \n",
            "K  O  -  O  O  O  -  O  O  O  -  O  O  O  -  O  O  O  -  O  O  \n",
            "L  O  O  O  -  O  O  O  -  O  O  O  -  O  O  O  -  O  O  O  -  \n",
            "M  O  -  O  O  O  -  O  O  O  -  O  O  O  -  O  O  O  -  O  O  \n",
            "N  O  O  O  -  O  O  O  -  O  O  O  -  O  O  O  -  O  O  O  -  \n",
            "O  O  -  O  O  O  -  O  O  O  -  O  O  O  -  O  O  O  -  O  O  \n",
            "P  O  O  O  -  O  O  O  -  O  O  O  -  O  O  O  -  O  O  O  -  \n",
            "Q  O  -  O  O  O  -  O  O  O  -  O  O  O  -  O  O  O  -  O  O  \n",
            "R  O  O  O  -  O  O  O  -  O  O  O  -  O  O  O  -  O  O  O  -  \n",
            "S  O  -  O  O  O  -  O  O  O  -  O  O  O  -  O  O  O  -  O  O  \n",
            "T  O  O  O  -  O  O  O  -  O  O  O  -  O  O  O  -  O  O  O  -  \n",
            "\n",
            "Total Price = Rp 50,000\n",
            "Again (y/n): y\n",
            "\n",
            "Welcome\n",
            "Seat (x = exit): A2\n",
            "This seat is unavailable!\n",
            "Seat (x = exit): x\n",
            "\n",
            "Layout\n",
            "   1  2  3  4  5  6  7  8  9 10 11 12 13 14 15 16 17 18 19 20 \n",
            "A  O  -  O  O  x  -  O  O  O  -  O  O  O  -  O  O  O  -  O  O  \n",
            "B  O  O  O  -  O  O  O  -  O  O  O  -  O  O  O  -  O  O  O  -  \n",
            "C  O  -  O  O  O  -  O  O  O  -  O  O  O  -  O  O  O  -  O  O  \n",
            "D  O  O  O  -  O  O  O  -  O  O  O  -  O  O  O  -  O  O  O  -  \n",
            "E  O  -  O  O  O  -  O  O  O  -  O  O  O  -  O  O  O  -  O  O  \n",
            "F  O  O  O  -  O  O  O  -  O  O  O  -  O  O  O  -  O  O  O  -  \n",
            "G  O  -  O  O  O  -  O  O  O  -  O  O  O  -  O  O  O  -  O  O  \n",
            "H  O  O  O  -  O  O  O  -  O  O  O  -  O  O  O  -  O  O  O  -  \n",
            "I  O  -  O  O  O  -  O  O  O  -  O  O  O  -  O  O  O  -  O  O  \n",
            "J  O  O  O  -  O  O  O  -  O  O  O  -  O  O  O  -  O  O  O  -  \n",
            "K  O  -  O  O  O  -  O  O  O  -  O  O  O  -  O  O  O  -  O  O  \n",
            "L  O  O  O  -  O  O  O  -  O  O  O  -  O  O  O  -  O  O  O  -  \n",
            "M  O  -  O  O  O  -  O  O  O  -  O  O  O  -  O  O  O  -  O  O  \n",
            "N  O  O  O  -  O  O  O  -  O  O  O  -  O  O  O  -  O  O  O  -  \n",
            "O  O  -  O  O  O  -  O  O  O  -  O  O  O  -  O  O  O  -  O  O  \n",
            "P  O  O  O  -  O  O  O  -  O  O  O  -  O  O  O  -  O  O  O  -  \n",
            "Q  O  -  O  O  O  -  O  O  O  -  O  O  O  -  O  O  O  -  O  O  \n",
            "R  O  O  O  -  O  O  O  -  O  O  O  -  O  O  O  -  O  O  O  -  \n",
            "S  O  -  O  O  O  -  O  O  O  -  O  O  O  -  O  O  O  -  O  O  \n",
            "T  O  O  O  -  O  O  O  -  O  O  O  -  O  O  O  -  O  O  O  -  \n",
            "\n",
            "Total Price = Rp 100,000\n"
          ],
          "name": "stdout"
        },
        {
          "output_type": "error",
          "ename": "KeyboardInterrupt",
          "evalue": "ignored",
          "traceback": [
            "\u001b[0;31m---------------------------------------------------------------------------\u001b[0m",
            "\u001b[0;31mKeyboardInterrupt\u001b[0m                         Traceback (most recent call last)",
            "\u001b[0;32m/usr/local/lib/python3.7/dist-packages/ipykernel/kernelbase.py\u001b[0m in \u001b[0;36m_input_request\u001b[0;34m(self, prompt, ident, parent, password)\u001b[0m\n\u001b[1;32m    728\u001b[0m             \u001b[0;32mtry\u001b[0m\u001b[0;34m:\u001b[0m\u001b[0;34m\u001b[0m\u001b[0;34m\u001b[0m\u001b[0m\n\u001b[0;32m--> 729\u001b[0;31m                 \u001b[0mident\u001b[0m\u001b[0;34m,\u001b[0m \u001b[0mreply\u001b[0m \u001b[0;34m=\u001b[0m \u001b[0mself\u001b[0m\u001b[0;34m.\u001b[0m\u001b[0msession\u001b[0m\u001b[0;34m.\u001b[0m\u001b[0mrecv\u001b[0m\u001b[0;34m(\u001b[0m\u001b[0mself\u001b[0m\u001b[0;34m.\u001b[0m\u001b[0mstdin_socket\u001b[0m\u001b[0;34m,\u001b[0m \u001b[0;36m0\u001b[0m\u001b[0;34m)\u001b[0m\u001b[0;34m\u001b[0m\u001b[0;34m\u001b[0m\u001b[0m\n\u001b[0m\u001b[1;32m    730\u001b[0m             \u001b[0;32mexcept\u001b[0m \u001b[0mException\u001b[0m\u001b[0;34m:\u001b[0m\u001b[0;34m\u001b[0m\u001b[0;34m\u001b[0m\u001b[0m\n",
            "\u001b[0;32m/usr/local/lib/python3.7/dist-packages/jupyter_client/session.py\u001b[0m in \u001b[0;36mrecv\u001b[0;34m(self, socket, mode, content, copy)\u001b[0m\n\u001b[1;32m    802\u001b[0m         \u001b[0;32mtry\u001b[0m\u001b[0;34m:\u001b[0m\u001b[0;34m\u001b[0m\u001b[0;34m\u001b[0m\u001b[0m\n\u001b[0;32m--> 803\u001b[0;31m             \u001b[0mmsg_list\u001b[0m \u001b[0;34m=\u001b[0m \u001b[0msocket\u001b[0m\u001b[0;34m.\u001b[0m\u001b[0mrecv_multipart\u001b[0m\u001b[0;34m(\u001b[0m\u001b[0mmode\u001b[0m\u001b[0;34m,\u001b[0m \u001b[0mcopy\u001b[0m\u001b[0;34m=\u001b[0m\u001b[0mcopy\u001b[0m\u001b[0;34m)\u001b[0m\u001b[0;34m\u001b[0m\u001b[0;34m\u001b[0m\u001b[0m\n\u001b[0m\u001b[1;32m    804\u001b[0m         \u001b[0;32mexcept\u001b[0m \u001b[0mzmq\u001b[0m\u001b[0;34m.\u001b[0m\u001b[0mZMQError\u001b[0m \u001b[0;32mas\u001b[0m \u001b[0me\u001b[0m\u001b[0;34m:\u001b[0m\u001b[0;34m\u001b[0m\u001b[0;34m\u001b[0m\u001b[0m\n",
            "\u001b[0;32m/usr/local/lib/python3.7/dist-packages/zmq/sugar/socket.py\u001b[0m in \u001b[0;36mrecv_multipart\u001b[0;34m(self, flags, copy, track)\u001b[0m\n\u001b[1;32m    582\u001b[0m         \"\"\"\n\u001b[0;32m--> 583\u001b[0;31m         \u001b[0mparts\u001b[0m \u001b[0;34m=\u001b[0m \u001b[0;34m[\u001b[0m\u001b[0mself\u001b[0m\u001b[0;34m.\u001b[0m\u001b[0mrecv\u001b[0m\u001b[0;34m(\u001b[0m\u001b[0mflags\u001b[0m\u001b[0;34m,\u001b[0m \u001b[0mcopy\u001b[0m\u001b[0;34m=\u001b[0m\u001b[0mcopy\u001b[0m\u001b[0;34m,\u001b[0m \u001b[0mtrack\u001b[0m\u001b[0;34m=\u001b[0m\u001b[0mtrack\u001b[0m\u001b[0;34m)\u001b[0m\u001b[0;34m]\u001b[0m\u001b[0;34m\u001b[0m\u001b[0;34m\u001b[0m\u001b[0m\n\u001b[0m\u001b[1;32m    584\u001b[0m         \u001b[0;31m# have first part already, only loop while more to receive\u001b[0m\u001b[0;34m\u001b[0m\u001b[0;34m\u001b[0m\u001b[0;34m\u001b[0m\u001b[0m\n",
            "\u001b[0;32mzmq/backend/cython/socket.pyx\u001b[0m in \u001b[0;36mzmq.backend.cython.socket.Socket.recv\u001b[0;34m()\u001b[0m\n",
            "\u001b[0;32mzmq/backend/cython/socket.pyx\u001b[0m in \u001b[0;36mzmq.backend.cython.socket.Socket.recv\u001b[0;34m()\u001b[0m\n",
            "\u001b[0;32mzmq/backend/cython/socket.pyx\u001b[0m in \u001b[0;36mzmq.backend.cython.socket._recv_copy\u001b[0;34m()\u001b[0m\n",
            "\u001b[0;32m/usr/local/lib/python3.7/dist-packages/zmq/backend/cython/checkrc.pxd\u001b[0m in \u001b[0;36mzmq.backend.cython.checkrc._check_rc\u001b[0;34m()\u001b[0m\n",
            "\u001b[0;31mKeyboardInterrupt\u001b[0m: ",
            "\nDuring handling of the above exception, another exception occurred:\n",
            "\u001b[0;31mKeyboardInterrupt\u001b[0m                         Traceback (most recent call last)",
            "\u001b[0;32m<ipython-input-52-8265ef4acdc3>\u001b[0m in \u001b[0;36m<module>\u001b[0;34m()\u001b[0m\n\u001b[1;32m     47\u001b[0m   \u001b[0mprice\u001b[0m \u001b[0;34m=\u001b[0m \u001b[0;36m50000\u001b[0m\u001b[0;34m\u001b[0m\u001b[0;34m\u001b[0m\u001b[0m\n\u001b[1;32m     48\u001b[0m   \u001b[0mprint\u001b[0m\u001b[0;34m(\u001b[0m\u001b[0;34m\"Total Price = Rp\"\u001b[0m\u001b[0;34m,\u001b[0m \u001b[0mformat\u001b[0m\u001b[0;34m(\u001b[0m\u001b[0mqty\u001b[0m\u001b[0;34m*\u001b[0m\u001b[0mprice\u001b[0m\u001b[0;34m,\u001b[0m \u001b[0;34m\",d\"\u001b[0m\u001b[0;34m)\u001b[0m\u001b[0;34m)\u001b[0m\u001b[0;34m\u001b[0m\u001b[0;34m\u001b[0m\u001b[0m\n\u001b[0;32m---> 49\u001b[0;31m   \u001b[0magain\u001b[0m \u001b[0;34m=\u001b[0m \u001b[0minput\u001b[0m\u001b[0;34m(\u001b[0m\u001b[0;34m\"Again (y/n): \"\u001b[0m\u001b[0;34m)\u001b[0m\u001b[0;34m\u001b[0m\u001b[0;34m\u001b[0m\u001b[0m\n\u001b[0m\u001b[1;32m     50\u001b[0m   \u001b[0;32mif\u001b[0m \u001b[0;34m(\u001b[0m\u001b[0magain\u001b[0m \u001b[0;34m==\u001b[0m \u001b[0;34m\"n\"\u001b[0m\u001b[0;34m)\u001b[0m\u001b[0;34m:\u001b[0m\u001b[0;34m\u001b[0m\u001b[0;34m\u001b[0m\u001b[0m\n\u001b[1;32m     51\u001b[0m     \u001b[0;32mbreak\u001b[0m\u001b[0;34m\u001b[0m\u001b[0;34m\u001b[0m\u001b[0m\n",
            "\u001b[0;32m/usr/local/lib/python3.7/dist-packages/ipykernel/kernelbase.py\u001b[0m in \u001b[0;36mraw_input\u001b[0;34m(self, prompt)\u001b[0m\n\u001b[1;32m    702\u001b[0m             \u001b[0mself\u001b[0m\u001b[0;34m.\u001b[0m\u001b[0m_parent_ident\u001b[0m\u001b[0;34m,\u001b[0m\u001b[0;34m\u001b[0m\u001b[0;34m\u001b[0m\u001b[0m\n\u001b[1;32m    703\u001b[0m             \u001b[0mself\u001b[0m\u001b[0;34m.\u001b[0m\u001b[0m_parent_header\u001b[0m\u001b[0;34m,\u001b[0m\u001b[0;34m\u001b[0m\u001b[0;34m\u001b[0m\u001b[0m\n\u001b[0;32m--> 704\u001b[0;31m             \u001b[0mpassword\u001b[0m\u001b[0;34m=\u001b[0m\u001b[0;32mFalse\u001b[0m\u001b[0;34m,\u001b[0m\u001b[0;34m\u001b[0m\u001b[0;34m\u001b[0m\u001b[0m\n\u001b[0m\u001b[1;32m    705\u001b[0m         )\n\u001b[1;32m    706\u001b[0m \u001b[0;34m\u001b[0m\u001b[0m\n",
            "\u001b[0;32m/usr/local/lib/python3.7/dist-packages/ipykernel/kernelbase.py\u001b[0m in \u001b[0;36m_input_request\u001b[0;34m(self, prompt, ident, parent, password)\u001b[0m\n\u001b[1;32m    732\u001b[0m             \u001b[0;32mexcept\u001b[0m \u001b[0mKeyboardInterrupt\u001b[0m\u001b[0;34m:\u001b[0m\u001b[0;34m\u001b[0m\u001b[0;34m\u001b[0m\u001b[0m\n\u001b[1;32m    733\u001b[0m                 \u001b[0;31m# re-raise KeyboardInterrupt, to truncate traceback\u001b[0m\u001b[0;34m\u001b[0m\u001b[0;34m\u001b[0m\u001b[0;34m\u001b[0m\u001b[0m\n\u001b[0;32m--> 734\u001b[0;31m                 \u001b[0;32mraise\u001b[0m \u001b[0mKeyboardInterrupt\u001b[0m\u001b[0;34m\u001b[0m\u001b[0;34m\u001b[0m\u001b[0m\n\u001b[0m\u001b[1;32m    735\u001b[0m             \u001b[0;32melse\u001b[0m\u001b[0;34m:\u001b[0m\u001b[0;34m\u001b[0m\u001b[0;34m\u001b[0m\u001b[0m\n\u001b[1;32m    736\u001b[0m                 \u001b[0;32mbreak\u001b[0m\u001b[0;34m\u001b[0m\u001b[0;34m\u001b[0m\u001b[0m\n",
            "\u001b[0;31mKeyboardInterrupt\u001b[0m: "
          ]
        }
      ]
    },
    {
      "cell_type": "code",
      "metadata": {
        "id": "lR_uUXdnxqMb"
      },
      "source": [],
      "execution_count": null,
      "outputs": []
    },
    {
      "cell_type": "markdown",
      "metadata": {
        "id": "8x_3V7KyxLiF"
      },
      "source": [
        "# Day 3\n"
      ]
    },
    {
      "cell_type": "code",
      "metadata": {
        "colab": {
          "base_uri": "https://localhost:8080/"
        },
        "id": "5pYYJxw3xOfw",
        "outputId": "763916bb-c54e-4e45-8df4-232d69f4d133"
      },
      "source": [
        "file = open(\"data.txt\")\n",
        "scores = list()\n",
        "for line in file:\n",
        "  score = line.replace(\"\\n\", \" \")\n",
        "  scores.append(int(score))\n",
        "\n",
        "print(scores)\n",
        "n = len(scores)\n",
        "hs = max(scores)\n",
        "ls = min(scores)\n",
        "avg = sum(scores)/n\n",
        "print(\"High Score:\", hs)\n",
        "print(\"Lowest Score:\", ls)\n",
        "print(\"Average Score:\", avg)"
      ],
      "execution_count": null,
      "outputs": [
        {
          "output_type": "stream",
          "text": [
            "[40, 20, 50, 10, 30]\n",
            "High Score: 50\n",
            "Lowest Score: 10\n",
            "Average Score: 30.0\n"
          ],
          "name": "stdout"
        }
      ]
    },
    {
      "cell_type": "code",
      "metadata": {
        "colab": {
          "base_uri": "https://localhost:8080/"
        },
        "id": "ByOogtFs0xTN",
        "outputId": "214ffe5d-e84d-4e86-d0e6-5dbf910a28db"
      },
      "source": [
        "def printData():\n",
        "  file = open(\"scoreboard.txt\")\n",
        "  scores = list()\n",
        "  for line in file:\n",
        "    line = line.replace(\"\\n\", \"\")\n",
        "    score = line.split()\n",
        "    scores.append(score)\n",
        "  print(\"\\nScoreboard\")\n",
        "  print(\"-\"*70)\n",
        "  print(\"# user name\\t\\tgame#1\\tgame#2\\tgame#3\\taverage\\thighest\\tlowest\")\n",
        "  print(\"-\"*70)\n",
        "  n = len(scores)\n",
        "  for row in range(n):\n",
        "    name = scores[row][0]\n",
        "    print(row+1, format(name,\"18s\"), end=\"\\t\")\n",
        "    temp = list()\n",
        "    for col in range(1,4):\n",
        "      data = int(scores[row][col])\n",
        "      print(\"%6.2f\" %data, end=\"\\t\")\n",
        "      temp.append(data)\n",
        "    avg = sum(temp)/3\n",
        "    print(\"%6.2f\" %avg, end = \"\\t\")\n",
        "    print(\"%6.2f\" %max(temp), end=\"\\t\")\n",
        "    print(\"%6.2f\" %min(temp))\n",
        "  print(\"-\"*70)\n",
        "  print()\n",
        "\n",
        "def inputData():\n",
        "  print(\"Input Data\")\n",
        "  name = input(\"Player Name: \")\n",
        "  newData = ['']\n",
        "  newData[0] = name\n",
        "  for i in range(1,4):\n",
        "    score = input(\"Score for game #\" + str(i) + \" : \")\n",
        "    newData.append(score)\n",
        "\n",
        "  file = open(\"scoreboard.txt\", \"a\")\n",
        "  for i in range(4):\n",
        "    file.write(newData[i] + \" \")\n",
        "  file.write(\"\\n\")\n",
        "  file.close()\n",
        "\n",
        "inputData()\n",
        "printData()"
      ],
      "execution_count": null,
      "outputs": [
        {
          "output_type": "stream",
          "text": [
            "Input Data\n",
            "Player Name: M4a4\n",
            "Score for game #1 : 60\n",
            "Score for game #2 : 80\n",
            "Score for game #3 : 40\n",
            "\n",
            "Scoreboard\n",
            "----------------------------------------------------------------------\n",
            "# user name\t\tgame#1\tgame#2\tgame#3\taverage\thighest\tlowest\n",
            "----------------------------------------------------------------------\n",
            "1 tristan           \t 50.00\t 60.00\t 70.00\t 60.00\t 70.00\t 50.00\n",
            "2 joseph            \t 90.00\t 80.00\t 70.00\t 80.00\t 90.00\t 70.00\n",
            "3 joshua            \t100.00\t 80.00\t 90.00\t 90.00\t100.00\t 80.00\n",
            "4 Bobie             \t 90.00\t 90.00\t 10.00\t 63.33\t 90.00\t 10.00\n",
            "5 susan             \t 50.00\t 60.00\t 70.00\t 60.00\t 70.00\t 50.00\n",
            "6 Ak47              \t 70.00\t 60.00\t 70.00\t 66.67\t 70.00\t 60.00\n",
            "7 M4a4              \t 60.00\t 80.00\t 40.00\t 60.00\t 80.00\t 40.00\n",
            "----------------------------------------------------------------------\n",
            "\n"
          ],
          "name": "stdout"
        }
      ]
    },
    {
      "cell_type": "code",
      "metadata": {
        "id": "eJxV93q5GmWz"
      },
      "source": [
        "\n"
      ],
      "execution_count": null,
      "outputs": []
    },
    {
      "cell_type": "markdown",
      "metadata": {
        "id": "57XfgPKc2Xl0"
      },
      "source": [
        "# Day 4\n"
      ]
    },
    {
      "cell_type": "code",
      "metadata": {
        "colab": {
          "base_uri": "https://localhost:8080/"
        },
        "id": "xr8QgD2V2aA1",
        "outputId": "87cea959-881d-4bbf-e3cb-71fc4151528c"
      },
      "source": [
        "def generate(num):\n",
        "  numlist = numbers[num]\n",
        "  for r in range(5):\n",
        "    for c in range(5):\n",
        "      digit = numlist[r][c:c+1]\n",
        "      if (digit == \"1\"):\n",
        "        print(end = \"#\")\n",
        "      else:\n",
        "       print(end=\" \")\n",
        "    print()\n",
        "  print()\n",
        "\n",
        "def inputlevel():\n",
        "  while(True):\n",
        "    level = int(input(label +\" Level (0-9):\" ))\n",
        "    if (level < 0 or level > 9):\n",
        "      print(\"unknown level:\")\n",
        "    else: \n",
        "      break\n",
        "    return level\n",
        "\n",
        "\n",
        "numbers = {\n",
        "  0 : ['11111', '10001', '10001', '10001', '11111'],\n",
        "  1 : ['00100', '00100', '00100', '00100', '00100'],\n",
        "  2 : ['11111', '00001', '11111', '10000', '11111'],\n",
        "  3 : ['11111', '00001', '11111', '00001', '11111'],\n",
        "  4 : [\"10001\", \"10001\", \"11111\", \"00001\", \"00001\"],\n",
        "  5 : [\"11111\", \"10000\", \"11111\", \"00001\", \"11111\"],\n",
        "  6 : ['11111', '10000', '11111', '10001', '11111'], \n",
        "  7 : ['11111', '00001', '00001', '00001', '00001'],\n",
        "  8 : [\"11111\", \"10001\", \"11111\", \"10001\", \"11111\"],\n",
        "  9 : [\"11111\", \"10001\", \"11111\", \"00001\", \"11111\"]\n",
        "}\n",
        "\n",
        "lv_from = int(input(\"From level(0-9): \"))\n",
        "lv_to = int(input(\"To level(0-9): \"))\n",
        "print()\n",
        "if (lv_from <= lv_to):\n",
        "  for i in range(lv_from, lv_to+1):\n",
        "    generate(i)\n",
        "else:\n",
        "  for i in range(lv_from, lv_to-1, -1):\n",
        "    generate(i)"
      ],
      "execution_count": null,
      "outputs": [
        {
          "output_type": "stream",
          "text": [
            "From level(0-9): 4\n",
            "To level(0-9): 6\n",
            "\n",
            "#   #\n",
            "#   #\n",
            "#####\n",
            "    #\n",
            "    #\n",
            "\n",
            "#####\n",
            "#    \n",
            "#####\n",
            "    #\n",
            "#####\n",
            "\n",
            "#####\n",
            "#    \n",
            "#####\n",
            "#   #\n",
            "#####\n",
            "\n"
          ],
          "name": "stdout"
        }
      ]
    },
    {
      "cell_type": "code",
      "metadata": {
        "colab": {
          "base_uri": "https://localhost:8080/",
          "height": 562
        },
        "id": "ytP990vxBfqR",
        "outputId": "c8118f01-c3c4-4f3e-885c-cfa25a37117a"
      },
      "source": [
        "def generate(num):\n",
        "  numlist = numbers[num]\n",
        "  print(\"-\"*7)\n",
        "  print(\" LEVEL\")\n",
        "  for r in range(7):\n",
        "    for c in range(5):\n",
        "      if (number < 0):\n",
        "        digit = numlist[r][c:c+1]\n",
        "      if (digit == \"1\"):\n",
        "        print(end = \"#\")\n",
        "      else:\n",
        "       print(end=\" \")\n",
        "    print()\n",
        "  print()\n",
        "\n",
        "def inputlevel():\n",
        "  while(True):\n",
        "    level = int(input(label +\" Level (0-9):\" ))\n",
        "    if (level < 0 or level > 9):\n",
        "      print(\"unknown level:\")\n",
        "    else: \n",
        "      break\n",
        "    return level\n",
        "\n",
        "\n",
        "numbers = {\n",
        "  0 : ['01110', '10001', '10001', '10001','10001', '10001', '01110'],\n",
        "  1 : ['00100', '01100', '00100', '00100','00100', '01000', '11111'],\n",
        "  2 : ['01110', '10001', '00001', '00010','00100', '01000', '11111'],\n",
        "  3 : ['01110', '10001', '00001', '00110','00001', '10001', '01110'],\n",
        "  4 : [\"10001\", \"10001\", \"10001\", \"11111\",'00001', '00001', \"00001\"],\n",
        "  6 : [\"01110\", \"10001\", \"10000\", \"11110\",'10001', '10001', \"01110\"],\n",
        "  5 : ['11111', '10000', '11110', '00001','00001', '10001', '01110'], \n",
        "  7 : ['11111', '00001', '00001', '00010','00100', '00100', '00100'],\n",
        "  8 : [\"01110\", \"10001\", \"10001\", \"01110\",'10001', '10001', \"01110\"],\n",
        "  9 : [\"01110\", \"10001\", \"10001\", \"01111\",'00001', '10001', \"01110\"]\n",
        "}\n",
        "\n",
        "lv_from = int(input(\"From level(0-9): \"))\n",
        "lv_to = int(input(\"To level(0-9): \"))\n",
        "print()\n",
        "if (lv_from <= lv_to):\n",
        "  for i in range(lv_from, lv_to+1):\n",
        "    generate(i)\n",
        "else:\n",
        "  for i in range(lv_from, lv_to-1, -1):\n",
        "    generate(i)"
      ],
      "execution_count": null,
      "outputs": [
        {
          "output_type": "error",
          "ename": "KeyboardInterrupt",
          "evalue": "ignored",
          "traceback": [
            "\u001b[0;31m---------------------------------------------------------------------------\u001b[0m",
            "\u001b[0;31mKeyboardInterrupt\u001b[0m                         Traceback (most recent call last)",
            "\u001b[0;32m/usr/local/lib/python3.7/dist-packages/ipykernel/kernelbase.py\u001b[0m in \u001b[0;36m_input_request\u001b[0;34m(self, prompt, ident, parent, password)\u001b[0m\n\u001b[1;32m    728\u001b[0m             \u001b[0;32mtry\u001b[0m\u001b[0;34m:\u001b[0m\u001b[0;34m\u001b[0m\u001b[0;34m\u001b[0m\u001b[0m\n\u001b[0;32m--> 729\u001b[0;31m                 \u001b[0mident\u001b[0m\u001b[0;34m,\u001b[0m \u001b[0mreply\u001b[0m \u001b[0;34m=\u001b[0m \u001b[0mself\u001b[0m\u001b[0;34m.\u001b[0m\u001b[0msession\u001b[0m\u001b[0;34m.\u001b[0m\u001b[0mrecv\u001b[0m\u001b[0;34m(\u001b[0m\u001b[0mself\u001b[0m\u001b[0;34m.\u001b[0m\u001b[0mstdin_socket\u001b[0m\u001b[0;34m,\u001b[0m \u001b[0;36m0\u001b[0m\u001b[0;34m)\u001b[0m\u001b[0;34m\u001b[0m\u001b[0;34m\u001b[0m\u001b[0m\n\u001b[0m\u001b[1;32m    730\u001b[0m             \u001b[0;32mexcept\u001b[0m \u001b[0mException\u001b[0m\u001b[0;34m:\u001b[0m\u001b[0;34m\u001b[0m\u001b[0;34m\u001b[0m\u001b[0m\n",
            "\u001b[0;32m/usr/local/lib/python3.7/dist-packages/jupyter_client/session.py\u001b[0m in \u001b[0;36mrecv\u001b[0;34m(self, socket, mode, content, copy)\u001b[0m\n\u001b[1;32m    802\u001b[0m         \u001b[0;32mtry\u001b[0m\u001b[0;34m:\u001b[0m\u001b[0;34m\u001b[0m\u001b[0;34m\u001b[0m\u001b[0m\n\u001b[0;32m--> 803\u001b[0;31m             \u001b[0mmsg_list\u001b[0m \u001b[0;34m=\u001b[0m \u001b[0msocket\u001b[0m\u001b[0;34m.\u001b[0m\u001b[0mrecv_multipart\u001b[0m\u001b[0;34m(\u001b[0m\u001b[0mmode\u001b[0m\u001b[0;34m,\u001b[0m \u001b[0mcopy\u001b[0m\u001b[0;34m=\u001b[0m\u001b[0mcopy\u001b[0m\u001b[0;34m)\u001b[0m\u001b[0;34m\u001b[0m\u001b[0;34m\u001b[0m\u001b[0m\n\u001b[0m\u001b[1;32m    804\u001b[0m         \u001b[0;32mexcept\u001b[0m \u001b[0mzmq\u001b[0m\u001b[0;34m.\u001b[0m\u001b[0mZMQError\u001b[0m \u001b[0;32mas\u001b[0m \u001b[0me\u001b[0m\u001b[0;34m:\u001b[0m\u001b[0;34m\u001b[0m\u001b[0;34m\u001b[0m\u001b[0m\n",
            "\u001b[0;32m/usr/local/lib/python3.7/dist-packages/zmq/sugar/socket.py\u001b[0m in \u001b[0;36mrecv_multipart\u001b[0;34m(self, flags, copy, track)\u001b[0m\n\u001b[1;32m    582\u001b[0m         \"\"\"\n\u001b[0;32m--> 583\u001b[0;31m         \u001b[0mparts\u001b[0m \u001b[0;34m=\u001b[0m \u001b[0;34m[\u001b[0m\u001b[0mself\u001b[0m\u001b[0;34m.\u001b[0m\u001b[0mrecv\u001b[0m\u001b[0;34m(\u001b[0m\u001b[0mflags\u001b[0m\u001b[0;34m,\u001b[0m \u001b[0mcopy\u001b[0m\u001b[0;34m=\u001b[0m\u001b[0mcopy\u001b[0m\u001b[0;34m,\u001b[0m \u001b[0mtrack\u001b[0m\u001b[0;34m=\u001b[0m\u001b[0mtrack\u001b[0m\u001b[0;34m)\u001b[0m\u001b[0;34m]\u001b[0m\u001b[0;34m\u001b[0m\u001b[0;34m\u001b[0m\u001b[0m\n\u001b[0m\u001b[1;32m    584\u001b[0m         \u001b[0;31m# have first part already, only loop while more to receive\u001b[0m\u001b[0;34m\u001b[0m\u001b[0;34m\u001b[0m\u001b[0;34m\u001b[0m\u001b[0m\n",
            "\u001b[0;32mzmq/backend/cython/socket.pyx\u001b[0m in \u001b[0;36mzmq.backend.cython.socket.Socket.recv\u001b[0;34m()\u001b[0m\n",
            "\u001b[0;32mzmq/backend/cython/socket.pyx\u001b[0m in \u001b[0;36mzmq.backend.cython.socket.Socket.recv\u001b[0;34m()\u001b[0m\n",
            "\u001b[0;32mzmq/backend/cython/socket.pyx\u001b[0m in \u001b[0;36mzmq.backend.cython.socket._recv_copy\u001b[0;34m()\u001b[0m\n",
            "\u001b[0;32m/usr/local/lib/python3.7/dist-packages/zmq/backend/cython/checkrc.pxd\u001b[0m in \u001b[0;36mzmq.backend.cython.checkrc._check_rc\u001b[0;34m()\u001b[0m\n",
            "\u001b[0;31mKeyboardInterrupt\u001b[0m: ",
            "\nDuring handling of the above exception, another exception occurred:\n",
            "\u001b[0;31mKeyboardInterrupt\u001b[0m                         Traceback (most recent call last)",
            "\u001b[0;32m<ipython-input-1-c3cdff9d0ff2>\u001b[0m in \u001b[0;36m<module>\u001b[0;34m()\u001b[0m\n\u001b[1;32m     37\u001b[0m }\n\u001b[1;32m     38\u001b[0m \u001b[0;34m\u001b[0m\u001b[0m\n\u001b[0;32m---> 39\u001b[0;31m \u001b[0mlv_from\u001b[0m \u001b[0;34m=\u001b[0m \u001b[0mint\u001b[0m\u001b[0;34m(\u001b[0m\u001b[0minput\u001b[0m\u001b[0;34m(\u001b[0m\u001b[0;34m\"From level(0-9): \"\u001b[0m\u001b[0;34m)\u001b[0m\u001b[0;34m)\u001b[0m\u001b[0;34m\u001b[0m\u001b[0;34m\u001b[0m\u001b[0m\n\u001b[0m\u001b[1;32m     40\u001b[0m \u001b[0mlv_to\u001b[0m \u001b[0;34m=\u001b[0m \u001b[0mint\u001b[0m\u001b[0;34m(\u001b[0m\u001b[0minput\u001b[0m\u001b[0;34m(\u001b[0m\u001b[0;34m\"To level(0-9): \"\u001b[0m\u001b[0;34m)\u001b[0m\u001b[0;34m)\u001b[0m\u001b[0;34m\u001b[0m\u001b[0;34m\u001b[0m\u001b[0m\n\u001b[1;32m     41\u001b[0m \u001b[0mprint\u001b[0m\u001b[0;34m(\u001b[0m\u001b[0;34m)\u001b[0m\u001b[0;34m\u001b[0m\u001b[0;34m\u001b[0m\u001b[0m\n",
            "\u001b[0;32m/usr/local/lib/python3.7/dist-packages/ipykernel/kernelbase.py\u001b[0m in \u001b[0;36mraw_input\u001b[0;34m(self, prompt)\u001b[0m\n\u001b[1;32m    702\u001b[0m             \u001b[0mself\u001b[0m\u001b[0;34m.\u001b[0m\u001b[0m_parent_ident\u001b[0m\u001b[0;34m,\u001b[0m\u001b[0;34m\u001b[0m\u001b[0;34m\u001b[0m\u001b[0m\n\u001b[1;32m    703\u001b[0m             \u001b[0mself\u001b[0m\u001b[0;34m.\u001b[0m\u001b[0m_parent_header\u001b[0m\u001b[0;34m,\u001b[0m\u001b[0;34m\u001b[0m\u001b[0;34m\u001b[0m\u001b[0m\n\u001b[0;32m--> 704\u001b[0;31m             \u001b[0mpassword\u001b[0m\u001b[0;34m=\u001b[0m\u001b[0;32mFalse\u001b[0m\u001b[0;34m,\u001b[0m\u001b[0;34m\u001b[0m\u001b[0;34m\u001b[0m\u001b[0m\n\u001b[0m\u001b[1;32m    705\u001b[0m         )\n\u001b[1;32m    706\u001b[0m \u001b[0;34m\u001b[0m\u001b[0m\n",
            "\u001b[0;32m/usr/local/lib/python3.7/dist-packages/ipykernel/kernelbase.py\u001b[0m in \u001b[0;36m_input_request\u001b[0;34m(self, prompt, ident, parent, password)\u001b[0m\n\u001b[1;32m    732\u001b[0m             \u001b[0;32mexcept\u001b[0m \u001b[0mKeyboardInterrupt\u001b[0m\u001b[0;34m:\u001b[0m\u001b[0;34m\u001b[0m\u001b[0;34m\u001b[0m\u001b[0m\n\u001b[1;32m    733\u001b[0m                 \u001b[0;31m# re-raise KeyboardInterrupt, to truncate traceback\u001b[0m\u001b[0;34m\u001b[0m\u001b[0;34m\u001b[0m\u001b[0;34m\u001b[0m\u001b[0m\n\u001b[0;32m--> 734\u001b[0;31m                 \u001b[0;32mraise\u001b[0m \u001b[0mKeyboardInterrupt\u001b[0m\u001b[0;34m\u001b[0m\u001b[0;34m\u001b[0m\u001b[0m\n\u001b[0m\u001b[1;32m    735\u001b[0m             \u001b[0;32melse\u001b[0m\u001b[0;34m:\u001b[0m\u001b[0;34m\u001b[0m\u001b[0;34m\u001b[0m\u001b[0m\n\u001b[1;32m    736\u001b[0m                 \u001b[0;32mbreak\u001b[0m\u001b[0;34m\u001b[0m\u001b[0;34m\u001b[0m\u001b[0m\n",
            "\u001b[0;31mKeyboardInterrupt\u001b[0m: "
          ]
        }
      ]
    },
    {
      "cell_type": "markdown",
      "metadata": {
        "id": "4ke6VTnf4MUz"
      },
      "source": [
        "#Day 5\n"
      ]
    },
    {
      "cell_type": "code",
      "metadata": {
        "colab": {
          "base_uri": "https://localhost:8080/"
        },
        "id": "WS4odeqt4SnO",
        "outputId": "c56257fc-b0e3-434f-d305-9af3be71e848"
      },
      "source": [
        "import random\n",
        "import string\n",
        "\n",
        "def process_file(filename):\n",
        "  hist = {}\n",
        "  fp = open(filename)\n",
        "  for line in fp:\n",
        "    process_line(line, hist)\n",
        "  return hist\n",
        "\n",
        "def process_line(line, hist):\n",
        "  line = line.replace('-', ' ')\n",
        "  strippables = string.punctuation + string.whitespace\n",
        "  for word in line.split():\n",
        "    word = word.strip(strippables)\n",
        "    word = word.lower()\n",
        "    hist[word] = hist.get(word, 0) + 1\n",
        "\n",
        "def most_common(hist):\n",
        "  t = []\n",
        "  for key, value in hist.items():\n",
        "    t.append((value, key))\n",
        "  t.sort()\n",
        "  t.reverse()\n",
        "  return t\n",
        "\n",
        "def print_most_scommon(hist, num = 10):\n",
        "  t = most_common(hist)\n",
        "  print(\"The most common words are:\")\n",
        "  for freq, word in t[:num]:\n",
        "    print(word, '\\t', freq)\n",
        "\n",
        "def total_words(hist):\n",
        "  return sum(hist.values())\n",
        "\n",
        "def different_words(hist):\n",
        "  return len(hist)\n",
        "\n",
        "\n",
        "hist = process_file('.txt')\n",
        "print(\"The total number of words: \", total_words(hist))\n",
        "print(\"Number of different words: \", different_words(hist))\n",
        "t = most_common(hist)\n",
        "print(\"The most common words are:\")\n",
        "for freq, word in t[0:20]:\n",
        "  print(word, '\\t', freq)\n",
        "  "
      ],
      "execution_count": null,
      "outputs": [
        {
          "output_type": "stream",
          "text": [
            "The total number of words:  3194\n",
            "Number of different words:  629\n",
            "The most common words are:\n",
            "the \t 208\n",
            "and \t 193\n",
            "she \t 104\n",
            "her \t 62\n",
            "was \t 59\n",
            "of \t 57\n",
            "in \t 52\n",
            "as \t 51\n",
            "snow \t 50\n",
            "to \t 48\n",
            "white \t 47\n",
            "it \t 43\n",
            "a \t 43\n",
            "had \t 39\n",
            "that \t 37\n",
            "but \t 35\n",
            "they \t 34\n",
            "said \t 31\n",
            "glass \t 28\n",
            "when \t 27\n"
          ],
          "name": "stdout"
        }
      ]
    },
    {
      "cell_type": "code",
      "metadata": {
        "colab": {
          "base_uri": "https://localhost:8080/"
        },
        "id": "GgWKff_RCNE1",
        "outputId": "86790b1b-cc40-4359-8a87-0171ea2a35bb"
      },
      "source": [
        "string = \"the lord of the rings: the return of the king\"\n",
        "string = string.replace(\":\",\" \")\n",
        "hist = dict()\n",
        "for word in string.split():\n",
        "  if (word in hist):\n",
        "    hist[word] += 1\n",
        "  else:\n",
        "    hist[word] = 1\n",
        "  print(hist)"
      ],
      "execution_count": null,
      "outputs": [
        {
          "output_type": "stream",
          "text": [
            "{'the': 1}\n",
            "{'the': 1, 'lord': 1}\n",
            "{'the': 1, 'lord': 1, 'of': 1}\n",
            "{'the': 2, 'lord': 1, 'of': 1}\n",
            "{'the': 2, 'lord': 1, 'of': 1, 'rings': 1}\n",
            "{'the': 3, 'lord': 1, 'of': 1, 'rings': 1}\n",
            "{'the': 3, 'lord': 1, 'of': 1, 'rings': 1, 'return': 1}\n",
            "{'the': 3, 'lord': 1, 'of': 2, 'rings': 1, 'return': 1}\n",
            "{'the': 4, 'lord': 1, 'of': 2, 'rings': 1, 'return': 1}\n",
            "{'the': 4, 'lord': 1, 'of': 2, 'rings': 1, 'return': 1, 'king': 1}\n"
          ],
          "name": "stdout"
        }
      ]
    },
    {
      "cell_type": "code",
      "metadata": {
        "colab": {
          "base_uri": "https://localhost:8080/"
        },
        "id": "HxPmi_WrLo8C",
        "outputId": "1b6017b5-fb3e-476f-c78d-86187f356660"
      },
      "source": [
        "import random\n",
        "import string\n",
        "\n",
        "def process_file(filename):\n",
        "    hist = {}\n",
        "    fp = open(filename)\n",
        "    for line in fp:\n",
        "        process_line(line, hist)\n",
        "    return hist\n",
        "\n",
        "def process_line(line, hist):\n",
        "    line = line.replace('-', ' ')\n",
        "    strippables = string.punctuation + string.whitespace\n",
        "    for word in line.split():\n",
        "        word = word.strip(strippables)\n",
        "        word = word.lower()\n",
        "        hist[word] = hist.get(word, 0) + 1\n",
        "\n",
        "def most_common(hist):\n",
        "    t = []\n",
        "    for key, value in hist.items():\n",
        "        t.append((value, key))\n",
        "    t.sort()\n",
        "    t.reverse()\n",
        "    return t\n",
        "\n",
        "def print_most_common(hist, num=10):\n",
        "    t = most_common(hist)\n",
        "    print('The most common words are:')\n",
        "    for freq, word in t[:num]:\n",
        "        print(word, '\\t', freq)\n",
        "\n",
        "def subtract(d1, d2):\n",
        "    res = {}\n",
        "    for key in d1:\n",
        "        if key not in d2:\n",
        "            res[key] = None\n",
        "    return res\n",
        "\n",
        "def total_words(hist):\n",
        "    return sum(hist.values())\n",
        "\n",
        "def different_words(hist):\n",
        "    return len(hist)\n",
        "\n",
        "def random_word(hist):\n",
        "    t = []\n",
        "    for word, freq in hist.items():\n",
        "        t.extend([word] * freq)\n",
        "    return random.choice(t)\n",
        "    \n",
        "hist = process_file('snowwhite.txt')\n",
        "print('Total number of words:', total_words(hist))\n",
        "print('Number of different words:', different_words(hist))\n",
        "t = most_common(hist)\n",
        "print('The most common words are:')\n",
        "for freq, word in t[0:20]:\n",
        "    print(word, '\\t', freq)\n",
        "words = process_file('words.txt')\n",
        "diff = subtract(hist, words)\n",
        "print(\"The words in the book that aren't in the word list are:\")\n",
        "for word in diff.keys():\n",
        "    print(word, end=' ')\n",
        "print(\"\\n\\nHere are some random words from the book\")\n",
        "for i in range(100):\n",
        "    print(random_word(hist), end=' ')"
      ],
      "execution_count": null,
      "outputs": [
        {
          "output_type": "stream",
          "text": [
            "Total number of words: 3194\n",
            "Number of different words: 629\n",
            "The most common words are:\n",
            "the \t 208\n",
            "and \t 193\n",
            "she \t 104\n",
            "her \t 62\n",
            "was \t 59\n",
            "of \t 57\n",
            "in \t 52\n",
            "as \t 51\n",
            "snow \t 50\n",
            "to \t 48\n",
            "white \t 47\n",
            "it \t 43\n",
            "a \t 43\n",
            "had \t 39\n",
            "that \t 37\n",
            "but \t 35\n",
            "they \t 34\n",
            "said \t 31\n",
            "glass \t 28\n",
            "when \t 27\n",
            "The words in the book that aren't in the word list are:\n",
            "i chould o white's counterpanes farmer's king's father's \n",
            "\n",
            "Here are some random words from the book\n",
            "glass poor her she oh knew in her in for glass us her beautiful to wall and there that never she once this herself said on afterwards a still to her white night little and will beds it oh and until saw their things the was glass white they my went will the a it were no you looked of when not liver with drop things on queen up mother woman in the old little came no the wept and worthy lace yes things cannot was but white red dwarfs as oh poor in snow she to this and the "
          ],
          "name": "stdout"
        }
      ]
    },
    {
      "cell_type": "markdown",
      "metadata": {
        "id": "YjCqd3EN9q5x"
      },
      "source": [
        "#Day 6\n"
      ]
    },
    {
      "cell_type": "code",
      "metadata": {
        "colab": {
          "base_uri": "https://localhost:8080/"
        },
        "id": "7jy103qqGO7t",
        "outputId": "cee59ddd-d9ac-4fe3-8864-5f0fa5009dfe"
      },
      "source": [
        "f = open(\"top3_test.txt\")\n",
        "top3 = list()\n",
        "for line in f:\n",
        "  removables = (\"\\n\", \"\\t\", \",\")\n",
        "  for r in removables:\n",
        "    line = line.replace(r, \"\")\n",
        "  line = line.split()\n",
        "  row = list()\n",
        "  row.append(line[0])\n",
        "  for i in range(1,4):\n",
        "    num = float(line[i])\n",
        "    row.append(num)\n",
        "  top3.append(row)\n",
        "\n",
        "n = len(top3)\n",
        "for r in range(n):\n",
        "  print(format(r+1, \"3d\"), end=\". \")\n",
        "  print(format(top3[r][0], \"10s\"), end=\" \")\n",
        "  for c in range(1,4):\n",
        "    data = top3[r][c]\n",
        "    print(\"%6.2f\" %data, end=\" \")\n",
        "  totalscore = top3[r][3] + top3[r][2] + top3[r][1] \n",
        "  averagescore = totalscore / 3\n",
        "  print(\" %5.2f\" %totalscore + \" \"+\" %5.2f\" %averagescore)"
      ],
      "execution_count": null,
      "outputs": [
        {
          "output_type": "stream",
          "text": [
            "  1. John        90.83  90.60  99.32  280.75  93.58\n",
            "  2. Kay         88.32  79.32  93.43  261.07  87.02\n",
            "  3. Albert      45.83  50.60  93.32  189.75  63.25\n"
          ],
          "name": "stdout"
        }
      ]
    },
    {
      "cell_type": "code",
      "metadata": {
        "colab": {
          "base_uri": "https://localhost:8080/"
        },
        "id": "99J6TxAb9xB8",
        "outputId": "0f16da1c-e938-4fda-b8e1-a8e8ec8e5903"
      },
      "source": [
        "f = open(\"top10_covid.txt\")\n",
        "top10 = list()\n",
        "for line in f:\n",
        "  removables = (\"\\n\", \"\\t\", \",\", \" \")\n",
        "  for r in removables:\n",
        "    line = line.replace(r, \"\")\n",
        "  line = line.split(\"-\")\n",
        "  row = list()\n",
        "  row.append(line[0])\n",
        "  for i in range(1,4):\n",
        "    num = int(line[i])\n",
        "    row.append(num)\n",
        "  top10.append(row)\n",
        "\n",
        "n = len(top10)\n",
        "for r in range(n):\n",
        "  print(format(r+1, \"3d\"), end=\". \")\n",
        "  for c in range(4):\n",
        "    data = format(top10[r][c], \"12,d\") if c > 0 else format(top10[r][c], \"15s\")\n",
        "    print(data, end=\" \")\n",
        "  percd = top10[r][2] / top10[r][1] * 100\n",
        "  percr = top10[r][3] / top10[r][1] * 100\n",
        "  print(\" %5.2f\" %percd + \"%\" + \" \"+\" %5.2f\" %percr + \"%\")\n"
      ],
      "execution_count": null,
      "outputs": [
        {
          "output_type": "stream",
          "text": [
            "  1. USA               30,853,032      561,142   23,275,268   1.82%  75.44%\n",
            "  2. Brazil            12,407,323      307,326   10,824,095   2.48%  87.24%\n",
            "  3. India             11,908,910      161,275   11,295,023   1.35%  94.85%\n",
            "  4. Russia             4,510,744       97,404    4,130,498   2.16%  91.57%\n",
            "  5. France             4,465,956       94,275      288,062   2.11%   6.45%\n",
            "  6. UK                 4,325,315      126,515    3,768,434   2.92%  87.13%\n",
            "  7. Italy              3,488,619      107,256    2,814,652   3.07%  80.68%\n",
            "  8. Spain              3,255,324       75,010    3,016,247   2.30%  92.66%\n",
            "  9. Turkey             3,149,094       30,772    2,921,037   0.98%  92.76%\n",
            " 10. Germany            2,754,002       76,303    2,477,500   2.77%  89.96%\n"
          ],
          "name": "stdout"
        }
      ]
    },
    {
      "cell_type": "markdown",
      "metadata": {
        "id": "jSdGXUEx_SLp"
      },
      "source": [
        "# Day 7\n"
      ]
    },
    {
      "cell_type": "markdown",
      "metadata": {
        "id": "KACO4dRaDN8m"
      },
      "source": []
    },
    {
      "cell_type": "code",
      "metadata": {
        "colab": {
          "base_uri": "https://localhost:8080/"
        },
        "id": "XcMOv0JqDGku",
        "outputId": "0686d7ed-8384-4c4d-af71-73a757e5143d"
      },
      "source": [
        "students = [ [\"Ann\", 90], [\"Bob\", 98], [\"Cho\", 100]]\n",
        "for i in range(3):\n",
        "  students[i][0] += \" NHJS\"\n",
        "  students[i][1] += 5\n",
        "  if (students[i][1] > 100):\n",
        "    students[i][1] = 100\n",
        "print(students)"
      ],
      "execution_count": null,
      "outputs": [
        {
          "output_type": "stream",
          "text": [
            "[['Ann NHJS', 95], ['Bob NHJS', 100], ['Cho NHJS', 100]]\n"
          ],
          "name": "stdout"
        }
      ]
    },
    {
      "cell_type": "code",
      "metadata": {
        "colab": {
          "base_uri": "https://localhost:8080/"
        },
        "id": "Q-srFHqvJBx_",
        "outputId": "cd3c774a-642a-4426-e814-e530b021626c"
      },
      "source": [
        "acc_nos = [ 1, 2, 3]\n",
        "names = [\"Ann\", \"Bob\", \"Cho\"]\n",
        "balances = [ 100, 200, 300]\n",
        "while (True):\n",
        "  acc_no = int (input(\"Account No: \"))\n",
        "  if (acc_no == -1):\n",
        "    print(\"Thank you\")\n",
        "    break \n",
        "  if acc_no in acc_nos:\n",
        "    idx = acc_nos.index(acc_no)\n",
        "    print(\"Welcome\", names[idx])\n",
        "    print(\"Balance $\", balances[idx])\n",
        "    valid = True\n",
        "    break\n",
        "  else: \n",
        "    print(\"Incorrect Acc No\") \n",
        "if valid:\n",
        "  while (True):\n",
        "    print(\"Choose 1) Deposit, Choose 2) Withdraw\")\n",
        "    trans = int(input(\"Transaction: \"))\n",
        "    amount = int(input(\"Amount: \"))\n",
        "    if (trans == 1):\n",
        "      if (amount > 0):\n",
        "       balances[idx] += amount\n",
        "    elif (trans == 2):\n",
        "      if (amount > 0 and amount <= balances[idx]):\n",
        "       balances[idx] -= amount\n",
        "    print(\"Transaction Successful, Your balance is $\", balances[idx])\n",
        "    break\n"
      ],
      "execution_count": null,
      "outputs": [
        {
          "output_type": "stream",
          "text": [
            "Account No: 1\n",
            "Welcome Ann\n",
            "Balance $ 100\n",
            "Choose 1) Deposit, Choose 2) Withdraw\n",
            "Transaction: 1\n",
            "Amount: 80\n",
            "Transaction Successful, Your balance is $ 180\n"
          ],
          "name": "stdout"
        }
      ]
    },
    {
      "cell_type": "markdown",
      "metadata": {
        "id": "M_DJDpxoLcpT"
      },
      "source": [
        "# Day 8 (scratch)\n"
      ]
    },
    {
      "cell_type": "markdown",
      "metadata": {
        "id": "BPGMA0ZtLg0x"
      },
      "source": [
        "# Day 9 (practice exercises online)\n"
      ]
    },
    {
      "cell_type": "markdown",
      "metadata": {
        "id": "Bb96utzDLmsP"
      },
      "source": [
        "# Day 10\n"
      ]
    },
    {
      "cell_type": "code",
      "metadata": {
        "colab": {
          "base_uri": "https://localhost:8080/"
        },
        "id": "lSIS6oaBLadB",
        "outputId": "e502c7f5-89b8-42c1-e849-6943ed4a3654"
      },
      "source": [
        "n = 64\n",
        "i = 0\n",
        "total = 0\n",
        "while (i<n-1):\n",
        "  x = 2**i \n",
        "  print(\"grid #\", format(i+1, \"2d\"), \":\", format(x, \"25,d\"), \"+\")\n",
        "  total = total + x\n",
        "  i = i + 1\n",
        "print(\"grid #\", format(i+1, \"2d\"), \":\", format(2**i, \"25,d\"), \"=\")\n",
        "y = total + 2**i\n",
        "print(\"total   :\",format((y/1E18),'8,f'), \"quintillion\")"
      ],
      "execution_count": null,
      "outputs": [
        {
          "output_type": "stream",
          "text": [
            "grid #  1 :                         1 +\n",
            "grid #  2 :                         2 +\n",
            "grid #  3 :                         4 +\n",
            "grid #  4 :                         8 +\n",
            "grid #  5 :                        16 +\n",
            "grid #  6 :                        32 +\n",
            "grid #  7 :                        64 +\n",
            "grid #  8 :                       128 +\n",
            "grid #  9 :                       256 +\n",
            "grid # 10 :                       512 +\n",
            "grid # 11 :                     1,024 +\n",
            "grid # 12 :                     2,048 +\n",
            "grid # 13 :                     4,096 +\n",
            "grid # 14 :                     8,192 +\n",
            "grid # 15 :                    16,384 +\n",
            "grid # 16 :                    32,768 +\n",
            "grid # 17 :                    65,536 +\n",
            "grid # 18 :                   131,072 +\n",
            "grid # 19 :                   262,144 +\n",
            "grid # 20 :                   524,288 +\n",
            "grid # 21 :                 1,048,576 +\n",
            "grid # 22 :                 2,097,152 +\n",
            "grid # 23 :                 4,194,304 +\n",
            "grid # 24 :                 8,388,608 +\n",
            "grid # 25 :                16,777,216 +\n",
            "grid # 26 :                33,554,432 +\n",
            "grid # 27 :                67,108,864 +\n",
            "grid # 28 :               134,217,728 +\n",
            "grid # 29 :               268,435,456 +\n",
            "grid # 30 :               536,870,912 +\n",
            "grid # 31 :             1,073,741,824 +\n",
            "grid # 32 :             2,147,483,648 +\n",
            "grid # 33 :             4,294,967,296 +\n",
            "grid # 34 :             8,589,934,592 +\n",
            "grid # 35 :            17,179,869,184 +\n",
            "grid # 36 :            34,359,738,368 +\n",
            "grid # 37 :            68,719,476,736 +\n",
            "grid # 38 :           137,438,953,472 +\n",
            "grid # 39 :           274,877,906,944 +\n",
            "grid # 40 :           549,755,813,888 +\n",
            "grid # 41 :         1,099,511,627,776 +\n",
            "grid # 42 :         2,199,023,255,552 +\n",
            "grid # 43 :         4,398,046,511,104 +\n",
            "grid # 44 :         8,796,093,022,208 +\n",
            "grid # 45 :        17,592,186,044,416 +\n",
            "grid # 46 :        35,184,372,088,832 +\n",
            "grid # 47 :        70,368,744,177,664 +\n",
            "grid # 48 :       140,737,488,355,328 +\n",
            "grid # 49 :       281,474,976,710,656 +\n",
            "grid # 50 :       562,949,953,421,312 +\n",
            "grid # 51 :     1,125,899,906,842,624 +\n",
            "grid # 52 :     2,251,799,813,685,248 +\n",
            "grid # 53 :     4,503,599,627,370,496 +\n",
            "grid # 54 :     9,007,199,254,740,992 +\n",
            "grid # 55 :    18,014,398,509,481,984 +\n",
            "grid # 56 :    36,028,797,018,963,968 +\n",
            "grid # 57 :    72,057,594,037,927,936 +\n",
            "grid # 58 :   144,115,188,075,855,872 +\n",
            "grid # 59 :   288,230,376,151,711,744 +\n",
            "grid # 60 :   576,460,752,303,423,488 +\n",
            "grid # 61 : 1,152,921,504,606,846,976 +\n",
            "grid # 62 : 2,305,843,009,213,693,952 +\n",
            "grid # 63 : 4,611,686,018,427,387,904 +\n",
            "grid # 64 : 9,223,372,036,854,775,808 =\n",
            "total   : 18.446744 quintillion\n"
          ],
          "name": "stdout"
        }
      ]
    },
    {
      "cell_type": "code",
      "metadata": {
        "colab": {
          "base_uri": "https://localhost:8080/"
        },
        "id": "dzKeSZ0WLosT",
        "outputId": "f81db846-4d72-4911-ef96-fd98827ab3f7"
      },
      "source": [
        "n = 10**2\n",
        "found = False\n",
        "first = 1\n",
        "last = n\n",
        "i = 1\n",
        "while (first <= last):\n",
        "  mid = (first + last)//2\n",
        "  print(\"Is the number\", mid, \"?\")\n",
        "  tofind = input(\"too big/too small/correct: \")\n",
        "  if (tofind == \"correct\"):\n",
        "    print(\"The number is\", mid, \"/ found at guess no:\", i)\n",
        "    found = True\n",
        "    break\n",
        "  elif (tofind == \"too small\"):\n",
        "    first = mid+1\n",
        "  else:\n",
        "    last = mid-1\n",
        "  i+=1\n",
        "if(not found):\n",
        "  print(\"not found\")"
      ],
      "execution_count": null,
      "outputs": [
        {
          "output_type": "stream",
          "text": [
            "Is the number 50 ?\n",
            "too big/too small/correct: too big\n",
            "Is the number 25 ?\n",
            "too big/too small/correct: too small\n",
            "Is the number 37 ?\n",
            "too big/too small/correct: correct\n",
            "The number is 37 / found at guess no:  3\n"
          ],
          "name": "stdout"
        }
      ]
    },
    {
      "cell_type": "code",
      "metadata": {
        "colab": {
          "base_uri": "https://localhost:8080/"
        },
        "id": "-NHpPLlWSbgC",
        "outputId": "468d645d-8c70-47a1-d035-ad30e6825807"
      },
      "source": [
        "import random\n",
        "computernumber = random.randint(0,100)\n",
        "n = 10**2\n",
        "found = False\n",
        "i = 1\n",
        "first = 1\n",
        "last = n\n",
        "while (i < 7):\n",
        "  guess = int(input(str(i) + \". guess the number: \"))\n",
        "  if (computernumber == guess):\n",
        "    print(\"You are correct, the number is:\", computernumber, \"/ found at guess no:\", i)\n",
        "    found = True\n",
        "    break\n",
        "  elif (guess > computernumber):\n",
        "    print(\"Your guess is too big\")\n",
        "  else:\n",
        "    print(\"your guess is too small\")\n",
        "  i = i + 1\n",
        "if(not found):\n",
        "  print(\"You are incorrect, you took too many guesses, the number was:\", computernumber)"
      ],
      "execution_count": null,
      "outputs": [
        {
          "output_type": "stream",
          "text": [
            "1. guess the number: 80\n",
            "Your guess is too big\n",
            "2. guess the number: 70\n",
            "Your guess is too big\n",
            "3. guess the number: 60\n",
            "Your guess is too big\n",
            "4. guess the number: 50\n",
            "Your guess is too big\n",
            "5. guess the number: 40\n",
            "Your guess is too big\n",
            "6. guess the number: 30\n"
          ],
          "name": "stdout"
        }
      ]
    },
    {
      "cell_type": "markdown",
      "metadata": {
        "id": "IKO4tmOZMEFn"
      },
      "source": [
        "# Day 11\n"
      ]
    },
    {
      "cell_type": "code",
      "metadata": {
        "colab": {
          "base_uri": "https://localhost:8080/"
        },
        "id": "yErnzLMNMKuy",
        "outputId": "c2fdca89-b176-4582-8e6d-c17bfdec593c"
      },
      "source": [
        "monthnames = (\"jan\", \"feb\", \"mar\", \"apr\", \"may\", \"jun\", \"jul\", \"aug\", \"sep\", \"oct\", \"nov\", \"dec\")\n",
        "daynames = (\"sun\", \"mon\", \"tue\", \"wed\", \"thu\", \"fri\", \"sat\")\n",
        "\n",
        "year = 2021\n",
        "month = 4 \n",
        "nodays = 30\n",
        "startingday = 4\n",
        "\n",
        "print(daynames[startingday])\n",
        "print(startingday, monthnames[month], year)\n",
        "      \n"
      ],
      "execution_count": null,
      "outputs": [
        {
          "output_type": "stream",
          "text": [
            "thu\n",
            "4 may 2021\n"
          ],
          "name": "stdout"
        }
      ]
    },
    {
      "cell_type": "code",
      "metadata": {
        "colab": {
          "base_uri": "https://localhost:8080/"
        },
        "id": "uVkueEV5Nhy2",
        "outputId": "e03dc125-bb18-4fb0-dd64-b29100d6a133"
      },
      "source": [
        "for i in range(nodays):\n",
        "  day = startingday + i\n",
        "  dayname = daynames[day%7]\n",
        "  monthname = monthnames[month-1]\n",
        "  print(dayname + \",\", i+1, monthname, year)\n",
        "  day = day + 1"
      ],
      "execution_count": null,
      "outputs": [
        {
          "output_type": "stream",
          "text": [
            "thu, 1 apr 2021\n",
            "fri, 2 apr 2021\n",
            "sat, 3 apr 2021\n",
            "sun, 4 apr 2021\n",
            "mon, 5 apr 2021\n",
            "tue, 6 apr 2021\n",
            "wed, 7 apr 2021\n",
            "thu, 8 apr 2021\n",
            "fri, 9 apr 2021\n",
            "sat, 10 apr 2021\n",
            "sun, 11 apr 2021\n",
            "mon, 12 apr 2021\n",
            "tue, 13 apr 2021\n",
            "wed, 14 apr 2021\n",
            "thu, 15 apr 2021\n",
            "fri, 16 apr 2021\n",
            "sat, 17 apr 2021\n",
            "sun, 18 apr 2021\n",
            "mon, 19 apr 2021\n",
            "tue, 20 apr 2021\n",
            "wed, 21 apr 2021\n",
            "thu, 22 apr 2021\n",
            "fri, 23 apr 2021\n",
            "sat, 24 apr 2021\n",
            "sun, 25 apr 2021\n",
            "mon, 26 apr 2021\n",
            "tue, 27 apr 2021\n",
            "wed, 28 apr 2021\n",
            "thu, 29 apr 2021\n",
            "fri, 30 apr 2021\n"
          ],
          "name": "stdout"
        }
      ]
    },
    {
      "cell_type": "code",
      "metadata": {
        "colab": {
          "base_uri": "https://localhost:8080/"
        },
        "id": "f4HQB7l8V_uz",
        "outputId": "fb3cfd35-d7bf-4e72-e567-8c47c693da05"
      },
      "source": [
        "def getnodays (month, year):\n",
        "  if month == 2:\n",
        "    if (year % 4 == 0 ):\n",
        "      nodays = 29\n",
        "    else:\n",
        "      nodays = 28\n",
        "  elif month in (4, 6, 9, 11):\n",
        "    nodays = 30\n",
        "  else:\n",
        "    nodays = 31\n",
        "    return nodays\n",
        "def getstartday (month, year):\n",
        "  start = 5\n",
        "  if (month > 1):\n",
        "    for i in range(1, month):\n",
        "      totaldays = totaldays + getnodays(i, year)\n",
        "      return totaldays % 7\n",
        "    else:\n",
        "      return 5\n",
        "  \n",
        "monthnames = (\"jan\", \"feb\", \"mar\", \"apr\", \"may\", \"jun\", \"jul\", \"aug\", \"sep\", \"oct\", \"nov\", \"dec\")\n",
        "daynames = (\"sun\", \"mon\", \"tue\", \"wed\", \"thu\", \"fri\", \"sat\")\n",
        "\n",
        "year = 2021\n",
        "month = 6\n",
        "nodays = 30\n",
        "startingday = 4\n",
        "\n",
        "for i in range (nodays):\n",
        "  day = startingday + i\n",
        "  dayname = daynames[day%7]\n",
        "  monthname = monthnames[month-1]\n",
        "  print (dayname + \",\", i+1, monthname, year)"
      ],
      "execution_count": null,
      "outputs": [
        {
          "output_type": "stream",
          "text": [
            "thu, 1 jun 2021\n",
            "fri, 2 jun 2021\n",
            "sat, 3 jun 2021\n",
            "sun, 4 jun 2021\n",
            "mon, 5 jun 2021\n",
            "tue, 6 jun 2021\n",
            "wed, 7 jun 2021\n",
            "thu, 8 jun 2021\n",
            "fri, 9 jun 2021\n",
            "sat, 10 jun 2021\n",
            "sun, 11 jun 2021\n",
            "mon, 12 jun 2021\n",
            "tue, 13 jun 2021\n",
            "wed, 14 jun 2021\n",
            "thu, 15 jun 2021\n",
            "fri, 16 jun 2021\n",
            "sat, 17 jun 2021\n",
            "sun, 18 jun 2021\n",
            "mon, 19 jun 2021\n",
            "tue, 20 jun 2021\n",
            "wed, 21 jun 2021\n",
            "thu, 22 jun 2021\n",
            "fri, 23 jun 2021\n",
            "sat, 24 jun 2021\n",
            "sun, 25 jun 2021\n",
            "mon, 26 jun 2021\n",
            "tue, 27 jun 2021\n",
            "wed, 28 jun 2021\n",
            "thu, 29 jun 2021\n",
            "fri, 30 jun 2021\n"
          ],
          "name": "stdout"
        }
      ]
    },
    {
      "cell_type": "code",
      "metadata": {
        "id": "Lwc5_5cJZh8t",
        "colab": {
          "base_uri": "https://localhost:8080/"
        },
        "outputId": "479fdbab-138b-478a-b43d-1dcb90f6ee7f"
      },
      "source": [
        "startyear = 2021\n",
        "def getnodays (month, year):\n",
        "  if month == 2:\n",
        "    if ( (year % 400 == 0) or ( (year % 4 == 0) and (year % 100 != 0) ) ):\n",
        "      nodays = 29\n",
        "    else:\n",
        "      nodays = 28\n",
        "  elif month in ( 4, 6, 9, 11 ):\n",
        "    nodays = 30\n",
        "  else: \n",
        "    nodays = 31\n",
        "  return nodays\n",
        "\n",
        "def getstartday (month, year):\n",
        "    total = 5\n",
        "    if (year > startyear ):\n",
        "      for y in range(startyear, year):\n",
        "        for m in range(1, 13):\n",
        "          total += getnodays (m,y)\n",
        "\n",
        "    for m in range(1, month):\n",
        "      total += getnodays (m,year)\n",
        "\n",
        "    day = total % 7\n",
        "    print(day)\n",
        "    return day;\n",
        "\n",
        "monthnames = (\"jan\", \"feb\", \"mar\", \"apr\", \"may\", \"jun\", \"jul\", \"aug\", \"sep\", \"oct\", \"nov\", \"dec\")\n",
        "daynames = (\"sun\", \"mon\", \"tue\", \"wed\", \"thu\", \"fri\", \"sat\")\n",
        "\n",
        "month = int (input(\"Month: \"))\n",
        "year = int (input(\"Year: \"))\n",
        "nodays = getnodays(month, year)\n",
        "startingday = getstartday (month, year)\n",
        "\n",
        "for i in range(nodays):\n",
        "  day = startingday + i\n",
        "  dayname = daynames[day % 7]\n",
        "  monthname = monthnames[month - 1]\n",
        "  print(dayname + \",\", i+1, monthname, year)"
      ],
      "execution_count": null,
      "outputs": [
        {
          "output_type": "stream",
          "text": [
            "Month: 5\n",
            "Year: 2021\n",
            "6\n",
            "sat, 1 may 2021\n",
            "sun, 2 may 2021\n",
            "mon, 3 may 2021\n",
            "tue, 4 may 2021\n",
            "wed, 5 may 2021\n",
            "thu, 6 may 2021\n",
            "fri, 7 may 2021\n",
            "sat, 8 may 2021\n",
            "sun, 9 may 2021\n",
            "mon, 10 may 2021\n",
            "tue, 11 may 2021\n",
            "wed, 12 may 2021\n",
            "thu, 13 may 2021\n",
            "fri, 14 may 2021\n",
            "sat, 15 may 2021\n",
            "sun, 16 may 2021\n",
            "mon, 17 may 2021\n",
            "tue, 18 may 2021\n",
            "wed, 19 may 2021\n",
            "thu, 20 may 2021\n",
            "fri, 21 may 2021\n",
            "sat, 22 may 2021\n",
            "sun, 23 may 2021\n",
            "mon, 24 may 2021\n",
            "tue, 25 may 2021\n",
            "wed, 26 may 2021\n",
            "thu, 27 may 2021\n",
            "fri, 28 may 2021\n",
            "sat, 29 may 2021\n",
            "sun, 30 may 2021\n",
            "mon, 31 may 2021\n"
          ],
          "name": "stdout"
        }
      ]
    },
    {
      "cell_type": "markdown",
      "metadata": {
        "id": "zGkPKsUcQHMC"
      },
      "source": [
        "# EXAM TERM 3\n"
      ]
    },
    {
      "cell_type": "code",
      "metadata": {
        "colab": {
          "base_uri": "https://localhost:8080/"
        },
        "id": "0QJzR8DsmPMP",
        "outputId": "b811ddfd-0228-4ee1-9d39-16bf7eefde1d"
      },
      "source": [
        "startyear = 2021\n",
        "def getnumdays (month, year):\n",
        "  if month == 2:\n",
        "    if ( (year % 400 == 0) or ( (year % 4 == 0) and (year % 100 != 0) ) ):\n",
        "      numdays = 29\n",
        "    else:\n",
        "      numdays = 28\n",
        "  elif month in ( 4, 6, 9, 11 ):\n",
        "    numdays = 30\n",
        "  else: \n",
        "    numdays = 31\n",
        "  return numdays\n",
        "\n",
        "def getstartday (month, year):\n",
        "    total = 5\n",
        "    if (year > startyear ):\n",
        "      for y in range(startyear, year):\n",
        "        for m in range(1, 13):\n",
        "          total += getnumdays (month,year)\n",
        "\n",
        "    for m in range(1, month):\n",
        "      total += getnumdays (month,year)\n",
        "\n",
        "    day = total % 7\n",
        "    print(day)\n",
        "    return day;\n",
        "\n",
        "monthnames = [\"Jan\", \"Feb\", \"Mar\", \"Apr\", \"May\", \"Jun\", \"Jul\", \"Aug\", \"Sep\", \"Oct\", \"Nov\", \"Dec\"]\n",
        "daynames  = [\"Sun\", \"Mon\", \"Tue\", \"Wed\", \"Thu\", \"Fri\", \"Sat\"]\n",
        "holidays  = [ [ 1, 1, \"New Year\"], [ 1, 5, \"Labour Day\"], [ 17, 8, \"Independent Day\"],[ 25, 12, \"Christmas Day\"]]\n",
        "\n",
        "month = int (input(\"Month: \"))\n",
        "year = int (input(\"Year: \"))\n",
        "numdays = getnumdays(month, year)\n",
        "startingday = getstartday (month, year)\n",
        "\n",
        "holiday = False\n",
        "for j in range(len(holidays)):\n",
        "  if ( i+1 == holidays[j][1] and month == holidays[j][2] ):\n",
        "    print(\" -\", holidays[j][3] )\n",
        "    holiday = True\n",
        "    break \n",
        "  if (not holiday):\n",
        "    print()\n",
        "\n",
        "for i in range(numdays):\n",
        "  day = startingday + i\n",
        "  dayname = daynames[day % 7]\n",
        "  monthname = monthnames[month - 1]\n",
        "  print(dayname + \",\", i+1, monthname, year)"
      ],
      "execution_count": null,
      "outputs": [
        {
          "output_type": "stream",
          "text": [
            "Month: 5\n",
            "Year: 2021\n",
            "6\n",
            "\n",
            "\n",
            "\n",
            "\n",
            "Sat, 1 May 2021\n",
            "Sun, 2 May 2021\n",
            "Mon, 3 May 2021\n",
            "Tue, 4 May 2021\n",
            "Wed, 5 May 2021\n",
            "Thu, 6 May 2021\n",
            "Fri, 7 May 2021\n",
            "Sat, 8 May 2021\n",
            "Sun, 9 May 2021\n",
            "Mon, 10 May 2021\n",
            "Tue, 11 May 2021\n",
            "Wed, 12 May 2021\n",
            "Thu, 13 May 2021\n",
            "Fri, 14 May 2021\n",
            "Sat, 15 May 2021\n",
            "Sun, 16 May 2021\n",
            "Mon, 17 May 2021\n",
            "Tue, 18 May 2021\n",
            "Wed, 19 May 2021\n",
            "Thu, 20 May 2021\n",
            "Fri, 21 May 2021\n",
            "Sat, 22 May 2021\n",
            "Sun, 23 May 2021\n",
            "Mon, 24 May 2021\n",
            "Tue, 25 May 2021\n",
            "Wed, 26 May 2021\n",
            "Thu, 27 May 2021\n",
            "Fri, 28 May 2021\n",
            "Sat, 29 May 2021\n",
            "Sun, 30 May 2021\n",
            "Mon, 31 May 2021\n"
          ],
          "name": "stdout"
        }
      ]
    }
  ]
}